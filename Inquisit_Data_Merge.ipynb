{
 "cells": [
  {
   "cell_type": "markdown",
   "metadata": {},
   "source": [
    "## Inquisit Data Merge\n",
    "\n",
    "Notes:\n",
    "    - "
   ]
  },
  {
   "cell_type": "code",
   "execution_count": 1,
   "metadata": {
    "collapsed": true
   },
   "outputs": [],
   "source": [
    "import os, pandas as pd, numpy as np\n",
    "from functools import reduce\n",
    "pd.set_option('display.max_columns', 100)\n",
    "\n",
    "#NOTE TO SELF: redo the relative paths.\n",
    "inquisit = '/home/wraikes/Dropbox/partnership/DMTBilly data - Copy/Inquisit Data/Merged Data Sets'"
   ]
  },
  {
   "cell_type": "code",
   "execution_count": 2,
   "metadata": {
    "collapsed": true
   },
   "outputs": [],
   "source": [
    "os.chdir(inquisit)  \n",
    "\n",
    "bart = pd.read_csv('BART_Merged_8.8.17.csv')\n",
    "delay = pd.read_csv('DelayDiscounting_Merged_8.8.17.csv')\n",
    "gonogo = pd.read_csv('GoNoGo_Merged_8.8.17.csv')\n",
    "\n",
    "dfs = [bart, delay, gonogo]"
   ]
  },
  {
   "cell_type": "code",
   "execution_count": 3,
   "metadata": {
    "collapsed": true
   },
   "outputs": [],
   "source": [
    "#Drop extra blank rows in datafiles (not sure why xls to csv keeps them).\n",
    "for df in dfs:\n",
    "    df.dropna(axis=0, how='all', inplace=True)"
   ]
  },
  {
   "cell_type": "code",
   "execution_count": 4,
   "metadata": {
    "collapsed": true
   },
   "outputs": [],
   "source": [
    "def column_relabel(df, append, col_name):\n",
    "    \n",
    "    '''A function to relabel the columns\n",
    "    with the df name appended to each \n",
    "    column name.'''\n",
    "    \n",
    "    new_cols = []\n",
    "    for col in df.columns:\n",
    "        if col != col_name:\n",
    "            new_col = col + append\n",
    "            new_cols.append(new_col)\n",
    "        else:\n",
    "            new_cols.append(col)\n",
    "    \n",
    "    return new_cols"
   ]
  },
  {
   "cell_type": "code",
   "execution_count": 5,
   "metadata": {
    "collapsed": true
   },
   "outputs": [],
   "source": [
    "#Relabel the columns\n",
    "\n",
    "names = ['_bart', '_delay', '_gonogo']\n",
    "for df, name in zip(dfs, names):\n",
    "    df.columns = column_relabel(df, name, 'script.subjectid')"
   ]
  },
  {
   "cell_type": "code",
   "execution_count": 6,
   "metadata": {
    "collapsed": true
   },
   "outputs": [],
   "source": [
    "#Merge data\n",
    "inquisit_merge = reduce(lambda left, right: pd.merge(left, right, how = 'outer',\n",
    "                                                     on='script.subjectid'), \n",
    "                                                     dfs)"
   ]
  },
  {
   "cell_type": "markdown",
   "metadata": {},
   "source": [
    "### Test Data Accuacy"
   ]
  },
  {
   "cell_type": "code",
   "execution_count": 8,
   "metadata": {},
   "outputs": [
    {
     "data": {
      "text/plain": [
       "True"
      ]
     },
     "execution_count": 8,
     "metadata": {},
     "output_type": "execute_result"
    }
   ],
   "source": [
    "#Check to see if script.subjectid (InternalID) is in Inquisit data.\n",
    "cols = [x.columns for x in dfs]\n",
    "all(['script.subjectid' in list for list in cols])"
   ]
  },
  {
   "cell_type": "code",
   "execution_count": null,
   "metadata": {
    "collapsed": true,
    "scrolled": true
   },
   "outputs": [],
   "source": [
    "################!!!!!!!!!!!!!!!!!!!!!!!!!!!!!!!!!!!!!!!!!!!!!!!!!!!!!!!!!!!!!!!!!!!\n",
    "#Need to include test here\n",
    "################!!!!!!!!!!!!!!!!!!!!!!!!!!!!!!!!!!!!!!!!!!!!!!!!!!!!!!!!!!!!!!!!!!!\n",
    "test_shape = max([x.shape[0] for x in dfs]), sum([x.shape[1] for x in dfs]) - 2\n",
    "inquisit_merge.shape == test_shape"
   ]
  },
  {
   "cell_type": "code",
   "execution_count": 7,
   "metadata": {},
   "outputs": [
    {
     "data": {
      "text/plain": [
       "True"
      ]
     },
     "execution_count": 7,
     "metadata": {},
     "output_type": "execute_result"
    }
   ],
   "source": [
    "#Check for duplicate internalId's\n",
    "len(inquisit_merge['script.subjectid']) == len(inquisit_merge['script.subjectid'].unique())"
   ]
  }
 ],
 "metadata": {
  "kernelspec": {
   "display_name": "Python 3",
   "language": "python",
   "name": "python3"
  },
  "language_info": {
   "codemirror_mode": {
    "name": "ipython",
    "version": 3
   },
   "file_extension": ".py",
   "mimetype": "text/x-python",
   "name": "python",
   "nbconvert_exporter": "python",
   "pygments_lexer": "ipython3",
   "version": "3.5.2"
  }
 },
 "nbformat": 4,
 "nbformat_minor": 2
}
