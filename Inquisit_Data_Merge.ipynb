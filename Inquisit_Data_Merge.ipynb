{
 "cells": [
  {
   "cell_type": "markdown",
   "metadata": {},
   "source": [
    "## Inquisit Data Merge"
   ]
  },
  {
   "cell_type": "code",
   "execution_count": 35,
   "metadata": {
    "collapsed": true
   },
   "outputs": [],
   "source": [
    "import os, pandas as pd, numpy as np\n",
    "from functools import reduce\n",
    "pd.set_option('display.max_columns', 100)\n",
    "\n",
    "#NOTE TO SELF: redo the relative paths.\n",
    "inquisit = '/home/wraikes/Dropbox/partnership/DMTdata_8_31_17/inquisit/'"
   ]
  },
  {
   "cell_type": "code",
   "execution_count": 36,
   "metadata": {},
   "outputs": [],
   "source": [
    "os.chdir(inquisit)  \n",
    "\n",
    "bart = pd.read_csv('BART_Merged_9.6.17.csv')\n",
    "delay1 = pd.read_csv('DelayDiscounting_Current_Merged_9.6.17.csv')\n",
    "delay2 = pd.read_csv('DelayDiscounting_Original_Merged_9.6.17.csv')\n",
    "delay3 = pd.read_csv('DelayDiscounting_v2_Merged_9.6.17.csv')\n",
    "gonogo = pd.read_csv('GoNoGo_Merged_9.6.17.csv')\n",
    "\n",
    "dfs = [bart, delay1, delay2, delay3, gonogo]"
   ]
  },
  {
   "cell_type": "code",
   "execution_count": 37,
   "metadata": {
    "collapsed": true
   },
   "outputs": [],
   "source": [
    "def column_relabel(df, append_1, col_name):\n",
    "    \n",
    "    '''A function to relabel the columns\n",
    "    with the df name appended to each \n",
    "    column name.'''\n",
    "    \n",
    "    new_cols = []\n",
    "    for col in df.columns:\n",
    "        if col != col_name:\n",
    "            new_col = append_1 + col\n",
    "            new_cols.append(new_col)\n",
    "        else:\n",
    "            new_cols.append(col)\n",
    "    \n",
    "    return new_cols\n",
    "\n",
    "def new_dfs(_dfs, _names, _id):\n",
    "    \n",
    "    new_df = []\n",
    "    \n",
    "    for df, name in zip(_dfs, _names):\n",
    "        df.columns = column_relabel(df, name, _id)\n",
    "        new_df.append(df)\n",
    "\n",
    "    return new_df"
   ]
  },
  {
   "cell_type": "code",
   "execution_count": 38,
   "metadata": {},
   "outputs": [],
   "source": [
    "#Relabel the columns\n",
    "\n",
    "names = [\n",
    "    'INQUISIT_bart_-_', \n",
    "    'INQUISIT_delay_current_-_', \n",
    "    'INQUISIT_delay_original_-_',\n",
    "    'INQUISIT_delay_v2_-_',\n",
    "    'INQUISIT_gonogo_-_'\n",
    "        ]\n",
    "\n",
    "clean_dfs = new_dfs(dfs, names, 'script.subjectid')"
   ]
  },
  {
   "cell_type": "code",
   "execution_count": 23,
   "metadata": {
    "collapsed": true
   },
   "outputs": [],
   "source": [
    "#Merge data\n",
    "inquisit_merge = reduce(lambda left, right: pd.merge(left, right, how = 'outer',\n",
    "                                                     on='script.subjectid'), \n",
    "                                                     clean_dfs)"
   ]
  },
  {
   "cell_type": "markdown",
   "metadata": {},
   "source": [
    "### Test Data Accuacy"
   ]
  },
  {
   "cell_type": "code",
   "execution_count": 24,
   "metadata": {},
   "outputs": [
    {
     "data": {
      "text/plain": [
       "True"
      ]
     },
     "execution_count": 24,
     "metadata": {},
     "output_type": "execute_result"
    }
   ],
   "source": [
    "#Check to see if script.subjectid (InternalID) is in Inquisit data.\n",
    "cols = [x.columns for x in dfs]\n",
    "all(['script.subjectid' in list for list in cols])"
   ]
  },
  {
   "cell_type": "code",
   "execution_count": 25,
   "metadata": {
    "scrolled": true
   },
   "outputs": [
    {
     "data": {
      "text/plain": [
       "True"
      ]
     },
     "execution_count": 25,
     "metadata": {},
     "output_type": "execute_result"
    }
   ],
   "source": [
    "#Check for duplicate internalId's\n",
    "len(inquisit_merge['script.subjectid']) == len(inquisit_merge['script.subjectid'].unique())"
   ]
  },
  {
   "cell_type": "code",
   "execution_count": 34,
   "metadata": {
    "collapsed": true
   },
   "outputs": [],
   "source": [
    "os.chdir('/home/wraikes/Programming/Partnership/dmt/merged_data/')\n",
    "inquisit_merge.to_csv('FINAL_INQUISIT.csv')"
   ]
  }
 ],
 "metadata": {
  "kernelspec": {
   "display_name": "Python 3",
   "language": "python",
   "name": "python3"
  },
  "language_info": {
   "codemirror_mode": {
    "name": "ipython",
    "version": 3
   },
   "file_extension": ".py",
   "mimetype": "text/x-python",
   "name": "python",
   "nbconvert_exporter": "python",
   "pygments_lexer": "ipython3",
   "version": "3.5.2"
  }
 },
 "nbformat": 4,
 "nbformat_minor": 2
}
