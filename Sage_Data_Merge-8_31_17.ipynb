{
 "cells": [
  {
   "cell_type": "markdown",
   "metadata": {},
   "source": [
    "## Sage Data Merge\n",
    "\n",
    "dupes:\n",
    "    - yQ7pYy\n",
    "    - ksJM3Y\n",
    "    "
   ]
  },
  {
   "cell_type": "code",
   "execution_count": 2,
   "metadata": {
    "collapsed": true
   },
   "outputs": [],
   "source": [
    "import os, pandas as pd, numpy as np, re\n",
    "from functools import reduce\n",
    "pd.set_option('display.max_columns', 100)\n",
    "\n",
    "#NOTE TO SELF: redo the relative paths.\n",
    "sage = '/home/wraikes/Dropbox/partnership/DMTdata_8_31_17/sage'\n",
    "os.chdir(sage)"
   ]
  },
  {
   "cell_type": "code",
   "execution_count": 3,
   "metadata": {
    "collapsed": true
   },
   "outputs": [],
   "source": [
    "#GLOBAL VARIABLE\n",
    "new_dfs = {}\n",
    "\n",
    "#Functions for data processing\n",
    "def remove_dupes(df):\n",
    "    \n",
    "    test_users = [\n",
    "        'ThpMV2Achc', \n",
    "        'SEkQVTCe6j', \n",
    "        'Wh8NSX3DHL', \n",
    "        'SaXFr2kPZa', \n",
    "        'VWUcSp4TeH', \n",
    "        'yXEfAmW682', \n",
    "        'gwEpQR8j9B',\n",
    "        'WbbNWM4RAF', \n",
    "        'D5bzYrfd8E', \n",
    "        'LJcmEFWp74', \n",
    "        'ULoF3MM1nN'\n",
    "    ]\n",
    "\n",
    "    diff_study = [\n",
    "        'rL8eA3',\n",
    "        'rLg5xs',\n",
    "        'rLrD9h',\n",
    "        'rLP7H2',\n",
    "        'rL6s6h',\n",
    "        'aOyzBg',\n",
    "        'aORA43',\n",
    "        'aOh48U',\n",
    "        'aOLu4K',\n",
    "        'aOQtxv',\n",
    "        'aO5TvQ',\n",
    "        'mPC9S8',\n",
    "        'mPgquX',\n",
    "        'mP5xkB',\n",
    "        'mPSQvh',\n",
    "        'mPYk2p',\n",
    "        'mP3rbd'\n",
    "    ]\n",
    "\n",
    "    \n",
    "    return df[~df.externalId.isin(test_users + diff_study)]\n",
    "\n",
    "def dupe_check(df):\n",
    "    return len(df.externalId) == len(df.externalId.unique()) and len(df.externalId) > 0\n",
    "\n",
    "def new_cols(df, append):\n",
    "    # Remove: 'metadata.json.' and 'data.json.'.\n",
    "    col_re = re.compile('metadata.json.|data.json.')\n",
    "    df.columns = list(map(lambda x: re.sub(col_re, '', x), df.columns))\n",
    "    \n",
    "    # Append df identifier to columns.\n",
    "    df.columns = list(map(lambda x: append + x, df.columns))\n",
    "    df = df.rename(columns = {append + 'externalId': 'externalId'})\n",
    "\n",
    "    return df\n",
    "\n",
    "def create_new_df(df, att, var_1, var_2=None):\n",
    "    cols = df.columns\n",
    "    \n",
    "    new_df = pd.DataFrame(columns = cols)\n",
    "        \n",
    "    for ix, row in df.iterrows():\n",
    "        if var_2:\n",
    "            if row[var_1] == att[1] and row[var_2] == att[2]:\n",
    "                new_df = new_df.append(row, ignore_index=True)\n",
    "        else:\n",
    "            if row[var_1] == att[1]:\n",
    "                new_df = new_df.append(row, ignore_index=True)\n",
    "    \n",
    "    return new_df\n",
    "\n",
    "def df_merge(df, attributes, var_1, var_2=None):\n",
    "    dfs = []\n",
    "    \n",
    "    for att in attributes:\n",
    "        new_df = create_new_df(df, att, var_1, var_2)\n",
    "        new_df = new_cols(new_df, att[0])\n",
    "        dfs.append(new_df)\n",
    "    \n",
    "    df_merge = reduce(lambda left, right: pd.merge(left, \n",
    "                                                   right, \n",
    "                                                   how = 'outer',\n",
    "                                                   on='externalId'),\n",
    "                      dfs)\n",
    "    \n",
    "    return df_merge\n",
    "\n",
    "def final_check(df, name):\n",
    "    if dupe_check(df):\n",
    "        new_dfs[name] = df\n",
    "        print('Done!')\n",
    "    else:\n",
    "        print('False')"
   ]
  },
  {
   "cell_type": "markdown",
   "metadata": {},
   "source": [
    "### Process files that do not need cleaning / restructuring."
   ]
  },
  {
   "cell_type": "code",
   "execution_count": 6,
   "metadata": {
    "collapsed": true
   },
   "outputs": [],
   "source": [
    "files_to_exclude = ['digital-marshmallow-status_8.31.17.csv',\n",
    "                    'digital-marshmallow-appVersion_8.31.17.csv']\n",
    "\n",
    "files_as_is = []\n",
    "files_to_modify = []\n",
    "\n",
    "for file in os.listdir():\n",
    "    if file not in files_to_exclude:\n",
    "        df = pd.read_csv(file)\n",
    "        df = remove_dupes(df)\n",
    "        if dupe_check(df):\n",
    "            files_as_is.append(file)\n",
    "        else:\n",
    "            files_to_modify.append(file)\n",
    "\n",
    "files_as_is.sort()"
   ]
  },
  {
   "cell_type": "code",
   "execution_count": 7,
   "metadata": {},
   "outputs": [
    {
     "data": {
      "text/plain": [
       "8"
      ]
     },
     "execution_count": 7,
     "metadata": {},
     "output_type": "execute_result"
    }
   ],
   "source": [
    "len(files_as_is)"
   ]
  },
  {
   "cell_type": "code",
   "execution_count": 9,
   "metadata": {},
   "outputs": [
    {
     "data": {
      "text/plain": [
       "['digital-marshmallow-morning_notification_time-v3_8.31.17.csv',\n",
       " 'digital-marshmallow-generally_sem_diff_bl-v2_8.31.17.csv',\n",
       " 'digital-marshmallow-bart-v4_8.31.17.csv',\n",
       " 'digital-marshmallow-goNoGo-v2_8.31.17.csv',\n",
       " 'digital-marshmallow-morning_yesterday_sem_diff-v2_8.31.17.csv',\n",
       " 'digital-marshmallow-delay_discounting_raw-v6_8.31.17.csv',\n",
       " 'digital-marshmallow-evening_sem_diff-v2_8.31.17.csv',\n",
       " 'digital-marshmallow-comments-v2_8.31.17.csv',\n",
       " 'digital-marshmallow-discounting_raw-v2_8.31.17.csv',\n",
       " 'digital-marshmallow-morning_sem_diff-v2_8.31.17.csv',\n",
       " 'digital-marshmallow-pam-v2_8.31.17.csv',\n",
       " 'digital-marshmallow-morning_behavior_choices-v1_8.31.17.csv',\n",
       " 'digital-marshmallow-pam_multiple-v2_8.31.17.csv',\n",
       " 'digital-marshmallow-behavior_choices_4_bl-v2_8.31.17.csv',\n",
       " 'digital-marshmallow-evening_notification_time-v2_8.31.17.csv',\n",
       " 'digital-marshmallow-morning_yesterday_likert-v2_8.31.17.csv',\n",
       " 'digital-marshmallow-demographics-v2_8.31.17.csv']"
      ]
     },
     "execution_count": 9,
     "metadata": {},
     "output_type": "execute_result"
    }
   ],
   "source": [
    "files_to_modify"
   ]
  },
  {
   "cell_type": "code",
   "execution_count": 11,
   "metadata": {},
   "outputs": [
    {
     "data": {
      "text/plain": [
       "['digital-marshmallow-as_a_child_likert_bl-v2_8.31.17.csv',\n",
       " 'digital-marshmallow-behavior_choices_1_bl-v1_8.31.17.csv',\n",
       " 'digital-marshmallow-behavior_likert_21-v2_8.31.17.csv',\n",
       " 'digital-marshmallow-behavior_likert_bl-v2_8.31.17.csv',\n",
       " 'digital-marshmallow-comments_21-v2_8.31.17.csv',\n",
       " 'digital-marshmallow-generally_sem_diff_21-v2_8.31.17.csv',\n",
       " 'digital-marshmallow-past_year_likert_21-v2_8.31.17.csv',\n",
       " 'digital-marshmallow-past_year_likert_bl-v3_8.31.17.csv']"
      ]
     },
     "execution_count": 11,
     "metadata": {},
     "output_type": "execute_result"
    }
   ],
   "source": [
    "files_as_is"
   ]
  },
  {
   "cell_type": "code",
   "execution_count": 12,
   "metadata": {
    "collapsed": true
   },
   "outputs": [],
   "source": [
    "# CHECK TO MAKE SURE FILE NAMES SYNC UP WITH files_as_is\n",
    "names_as_is = [\n",
    "    'SAGE_as_a_child_-_',\n",
    "    'SAGE_behavior_choices_1_-_',\n",
    "    'SAGE_behavior_lk_21_-_',\n",
    "    'SAGE_behavior_lk_bl_-_',\n",
    "    'SAGE_comments_21_-_',\n",
    "    'SAGE_generally_sem_21_-_',\n",
    "    'SAGE_past_year_likert_21_-_',\n",
    "    'SAGe_past_year_likert_bl_-_'\n",
    "]\n",
    "\n",
    "# names_as_is = [\n",
    "#     'SAGE_generally_sem_bl_-_',\n",
    "#     'SAGe_past_year_likert_bl_-_',\n",
    "#     'SAGE_as_a_child_-_',\n",
    "#     'SAGE_behavior_lk_21_-_',\n",
    "#     'SAGE_past_year_likert_21_-_',\n",
    "#     'SAGE_comments_21_-_',\n",
    "#     'SAGE_generally_sem_21_-_',\n",
    "#     'SAGE_behavior_lk_bl_-_',\n",
    "#     'SAGE_behavior_choices_1_-_',\n",
    "#     'SAGE_demos_-_'\n",
    "# ]"
   ]
  },
  {
   "cell_type": "code",
   "execution_count": 13,
   "metadata": {
    "collapsed": true
   },
   "outputs": [],
   "source": [
    "for file, name in zip(files_as_is, names_as_is):\n",
    "    df = pd.read_csv(file)\n",
    "    df = remove_dupes(df)\n",
    "    df = new_cols(df, name)\n",
    "    new_dfs[name] = df"
   ]
  },
  {
   "cell_type": "code",
   "execution_count": 14,
   "metadata": {},
   "outputs": [
    {
     "data": {
      "text/plain": [
       "True"
      ]
     },
     "execution_count": 14,
     "metadata": {},
     "output_type": "execute_result"
    }
   ],
   "source": [
    "all([dupe_check(df) for name, df in new_dfs.items()])"
   ]
  },
  {
   "cell_type": "markdown",
   "metadata": {},
   "source": [
    "### Dupe: yQ7pYy"
   ]
  },
  {
   "cell_type": "code",
   "execution_count": 15,
   "metadata": {},
   "outputs": [
    {
     "data": {
      "text/plain": [
       "False"
      ]
     },
     "execution_count": 15,
     "metadata": {},
     "output_type": "execute_result"
    }
   ],
   "source": [
    "demos = pd.read_csv('digital-marshmallow-demographics-v2_8.31.17.csv')\n",
    "demos = remove_dupes(demos)\n",
    "\n",
    "dupe_check(demos)"
   ]
  },
  {
   "cell_type": "code",
   "execution_count": 16,
   "metadata": {},
   "outputs": [
    {
     "data": {
      "text/plain": [
       "91    yQ7pYy\n",
       "Name: externalId, dtype: object"
      ]
     },
     "execution_count": 16,
     "metadata": {},
     "output_type": "execute_result"
    }
   ],
   "source": [
    "demos.externalId[demos.externalId.duplicated()]"
   ]
  },
  {
   "cell_type": "code",
   "execution_count": 17,
   "metadata": {},
   "outputs": [
    {
     "data": {
      "text/plain": [
       "False"
      ]
     },
     "execution_count": 17,
     "metadata": {},
     "output_type": "execute_result"
    }
   ],
   "source": [
    "gen = pd.read_csv('digital-marshmallow-generally_sem_diff_bl-v2_8.31.17.csv')\n",
    "gen = remove_dupes(gen)\n",
    "\n",
    "dupe_check(gen)"
   ]
  },
  {
   "cell_type": "code",
   "execution_count": 18,
   "metadata": {},
   "outputs": [
    {
     "data": {
      "text/plain": [
       "95    yQ7pYy\n",
       "Name: externalId, dtype: object"
      ]
     },
     "execution_count": 18,
     "metadata": {},
     "output_type": "execute_result"
    }
   ],
   "source": [
    "gen.externalId[gen.externalId.duplicated()]"
   ]
  },
  {
   "cell_type": "code",
   "execution_count": 19,
   "metadata": {
    "scrolled": true
   },
   "outputs": [
    {
     "data": {
      "text/html": [
       "<div>\n",
       "<table border=\"1\" class=\"dataframe\">\n",
       "  <thead>\n",
       "    <tr style=\"text-align: right;\">\n",
       "      <th></th>\n",
       "      <th>ROW_ID</th>\n",
       "      <th>ROW_VERSION</th>\n",
       "      <th>recordId</th>\n",
       "      <th>appVersion</th>\n",
       "      <th>phoneInfo</th>\n",
       "      <th>uploadDate</th>\n",
       "      <th>healthCode</th>\n",
       "      <th>externalId</th>\n",
       "      <th>dataGroups</th>\n",
       "      <th>createdOn</th>\n",
       "      <th>createdOnTimeZone</th>\n",
       "      <th>userSharingScope</th>\n",
       "      <th>metadata.json.UUID</th>\n",
       "      <th>metadata.json.taskIdentifier</th>\n",
       "      <th>metadata.json.taskRunUUID</th>\n",
       "      <th>metadata.json.startDate</th>\n",
       "      <th>metadata.json.startDate.timezone</th>\n",
       "      <th>metadata.json.endDate</th>\n",
       "      <th>metadata.json.endDate.timezone</th>\n",
       "      <th>metadata.json.groupLabel</th>\n",
       "      <th>data.json.confusion_bl</th>\n",
       "      <th>data.json.focus_bl</th>\n",
       "      <th>data.json.organized_bl</th>\n",
       "      <th>data.json.intentional_bl</th>\n",
       "      <th>data.json.bored_bl</th>\n",
       "      <th>data.json.proud_bl</th>\n",
       "      <th>data.json.efficient_bl</th>\n",
       "      <th>data.json.energetic_bl</th>\n",
       "      <th>data.json.calm_bl</th>\n",
       "      <th>data.json.conservative_bl</th>\n",
       "      <th>data.json.frustrated_bl</th>\n",
       "      <th>data.json.cautious_bl</th>\n",
       "      <th>data.json.sad_bl</th>\n",
       "      <th>data.json.lonely_bl</th>\n",
       "      <th>data.json.optimistic_bl</th>\n",
       "      <th>data.json.determined_bl</th>\n",
       "      <th>data.json.stressed_bl</th>\n",
       "      <th>data.json.positive_bl</th>\n",
       "      <th>data.json.healthy_bl</th>\n",
       "      <th>data.json.productive_bl</th>\n",
       "    </tr>\n",
       "  </thead>\n",
       "  <tbody>\n",
       "    <tr>\n",
       "      <th>85</th>\n",
       "      <td>85</td>\n",
       "      <td>39</td>\n",
       "      <td>485bed95-7394-432f-8ba5-8bda3992136a</td>\n",
       "      <td>version 1.2, build 18</td>\n",
       "      <td>iPhone 5S; iOS/10.3.3</td>\n",
       "      <td>8/4/2017</td>\n",
       "      <td>2bb53936-ef7c-46ae-b6ee-844ed7b9d325</td>\n",
       "      <td>yQ7pYy</td>\n",
       "      <td>NaN</td>\n",
       "      <td>1.501770e+12</td>\n",
       "      <td>-400</td>\n",
       "      <td>ALL_QUALIFIED_RESEARCHERS</td>\n",
       "      <td>7F670D2A-2F84-4F8E-938A-7C2422ABE258</td>\n",
       "      <td>baseline</td>\n",
       "      <td>B6FA8753-F80C-4F02-AC71-624C33D5F13F</td>\n",
       "      <td>NaN</td>\n",
       "      <td>NaN</td>\n",
       "      <td>NaN</td>\n",
       "      <td>NaN</td>\n",
       "      <td>86</td>\n",
       "      <td>1</td>\n",
       "      <td>7</td>\n",
       "      <td>2</td>\n",
       "      <td>7</td>\n",
       "      <td>8</td>\n",
       "      <td>2</td>\n",
       "      <td>2</td>\n",
       "      <td>2</td>\n",
       "      <td>5</td>\n",
       "      <td>9</td>\n",
       "      <td>9</td>\n",
       "      <td>2</td>\n",
       "      <td>9</td>\n",
       "      <td>9</td>\n",
       "      <td>1</td>\n",
       "      <td>1</td>\n",
       "      <td>5</td>\n",
       "      <td>1</td>\n",
       "      <td>3</td>\n",
       "      <td>2</td>\n",
       "    </tr>\n",
       "    <tr>\n",
       "      <th>95</th>\n",
       "      <td>95</td>\n",
       "      <td>43</td>\n",
       "      <td>bf185f0a-024e-42bf-8866-f5e22cbb5455</td>\n",
       "      <td>version 1.2, build 18</td>\n",
       "      <td>iPhone 5S; iOS/10.3.3</td>\n",
       "      <td>8/26/2017</td>\n",
       "      <td>2bb53936-ef7c-46ae-b6ee-844ed7b9d325</td>\n",
       "      <td>yQ7pYy</td>\n",
       "      <td>NaN</td>\n",
       "      <td>1.501770e+12</td>\n",
       "      <td>-400</td>\n",
       "      <td>ALL_QUALIFIED_RESEARCHERS</td>\n",
       "      <td>7F670D2A-2F84-4F8E-938A-7C2422ABE258</td>\n",
       "      <td>baseline</td>\n",
       "      <td>B6FA8753-F80C-4F02-AC71-624C33D5F13F</td>\n",
       "      <td>NaN</td>\n",
       "      <td>NaN</td>\n",
       "      <td>NaN</td>\n",
       "      <td>NaN</td>\n",
       "      <td>86</td>\n",
       "      <td>1</td>\n",
       "      <td>7</td>\n",
       "      <td>2</td>\n",
       "      <td>7</td>\n",
       "      <td>8</td>\n",
       "      <td>2</td>\n",
       "      <td>2</td>\n",
       "      <td>2</td>\n",
       "      <td>5</td>\n",
       "      <td>9</td>\n",
       "      <td>9</td>\n",
       "      <td>2</td>\n",
       "      <td>9</td>\n",
       "      <td>9</td>\n",
       "      <td>1</td>\n",
       "      <td>1</td>\n",
       "      <td>5</td>\n",
       "      <td>1</td>\n",
       "      <td>3</td>\n",
       "      <td>2</td>\n",
       "    </tr>\n",
       "  </tbody>\n",
       "</table>\n",
       "</div>"
      ],
      "text/plain": [
       "    ROW_ID  ROW_VERSION                              recordId  \\\n",
       "85      85           39  485bed95-7394-432f-8ba5-8bda3992136a   \n",
       "95      95           43  bf185f0a-024e-42bf-8866-f5e22cbb5455   \n",
       "\n",
       "               appVersion              phoneInfo uploadDate  \\\n",
       "85  version 1.2, build 18  iPhone 5S; iOS/10.3.3   8/4/2017   \n",
       "95  version 1.2, build 18  iPhone 5S; iOS/10.3.3  8/26/2017   \n",
       "\n",
       "                              healthCode externalId dataGroups     createdOn  \\\n",
       "85  2bb53936-ef7c-46ae-b6ee-844ed7b9d325     yQ7pYy        NaN  1.501770e+12   \n",
       "95  2bb53936-ef7c-46ae-b6ee-844ed7b9d325     yQ7pYy        NaN  1.501770e+12   \n",
       "\n",
       "    createdOnTimeZone           userSharingScope  \\\n",
       "85               -400  ALL_QUALIFIED_RESEARCHERS   \n",
       "95               -400  ALL_QUALIFIED_RESEARCHERS   \n",
       "\n",
       "                      metadata.json.UUID metadata.json.taskIdentifier  \\\n",
       "85  7F670D2A-2F84-4F8E-938A-7C2422ABE258                     baseline   \n",
       "95  7F670D2A-2F84-4F8E-938A-7C2422ABE258                     baseline   \n",
       "\n",
       "               metadata.json.taskRunUUID  metadata.json.startDate  \\\n",
       "85  B6FA8753-F80C-4F02-AC71-624C33D5F13F                      NaN   \n",
       "95  B6FA8753-F80C-4F02-AC71-624C33D5F13F                      NaN   \n",
       "\n",
       "    metadata.json.startDate.timezone  metadata.json.endDate  \\\n",
       "85                               NaN                    NaN   \n",
       "95                               NaN                    NaN   \n",
       "\n",
       "    metadata.json.endDate.timezone metadata.json.groupLabel  \\\n",
       "85                             NaN                       86   \n",
       "95                             NaN                       86   \n",
       "\n",
       "    data.json.confusion_bl  data.json.focus_bl  data.json.organized_bl  \\\n",
       "85                       1                   7                       2   \n",
       "95                       1                   7                       2   \n",
       "\n",
       "    data.json.intentional_bl  data.json.bored_bl  data.json.proud_bl  \\\n",
       "85                         7                   8                   2   \n",
       "95                         7                   8                   2   \n",
       "\n",
       "    data.json.efficient_bl  data.json.energetic_bl  data.json.calm_bl  \\\n",
       "85                       2                       2                  5   \n",
       "95                       2                       2                  5   \n",
       "\n",
       "    data.json.conservative_bl  data.json.frustrated_bl  data.json.cautious_bl  \\\n",
       "85                          9                        9                      2   \n",
       "95                          9                        9                      2   \n",
       "\n",
       "    data.json.sad_bl  data.json.lonely_bl  data.json.optimistic_bl  \\\n",
       "85                 9                    9                        1   \n",
       "95                 9                    9                        1   \n",
       "\n",
       "    data.json.determined_bl  data.json.stressed_bl  data.json.positive_bl  \\\n",
       "85                        1                      5                      1   \n",
       "95                        1                      5                      1   \n",
       "\n",
       "    data.json.healthy_bl  data.json.productive_bl  \n",
       "85                     3                        2  \n",
       "95                     3                        2  "
      ]
     },
     "execution_count": 19,
     "metadata": {},
     "output_type": "execute_result"
    }
   ],
   "source": [
    "gen[gen.externalId == 'yQ7pYy']"
   ]
  },
  {
   "cell_type": "code",
   "execution_count": 22,
   "metadata": {},
   "outputs": [
    {
     "data": {
      "text/html": [
       "<div>\n",
       "<table border=\"1\" class=\"dataframe\">\n",
       "  <thead>\n",
       "    <tr style=\"text-align: right;\">\n",
       "      <th></th>\n",
       "      <th>ROW_ID</th>\n",
       "      <th>ROW_VERSION</th>\n",
       "      <th>recordId</th>\n",
       "      <th>appVersion</th>\n",
       "      <th>phoneInfo</th>\n",
       "      <th>uploadDate</th>\n",
       "      <th>healthCode</th>\n",
       "      <th>externalId</th>\n",
       "      <th>dataGroups</th>\n",
       "      <th>createdOn</th>\n",
       "      <th>createdOnTimeZone</th>\n",
       "      <th>userSharingScope</th>\n",
       "      <th>metadata.json.UUID</th>\n",
       "      <th>metadata.json.taskIdentifier</th>\n",
       "      <th>metadata.json.taskRunUUID</th>\n",
       "      <th>metadata.json.startDate</th>\n",
       "      <th>metadata.json.startDate.timezone</th>\n",
       "      <th>metadata.json.endDate</th>\n",
       "      <th>metadata.json.endDate.timezone</th>\n",
       "      <th>metadata.json.groupLabel</th>\n",
       "      <th>data.json.gender</th>\n",
       "      <th>data.json.age</th>\n",
       "      <th>data.json.zip_code</th>\n",
       "      <th>data.json.education</th>\n",
       "      <th>data.json.employment</th>\n",
       "      <th>data.json.ethnicity</th>\n",
       "      <th>data.json.religion</th>\n",
       "    </tr>\n",
       "  </thead>\n",
       "  <tbody>\n",
       "    <tr>\n",
       "      <th>85</th>\n",
       "      <td>85</td>\n",
       "      <td>38</td>\n",
       "      <td>9b9508c1-07e3-40df-9a55-95eaa924d697</td>\n",
       "      <td>version 1.2, build 18</td>\n",
       "      <td>iPhone 5S; iOS/10.3.3</td>\n",
       "      <td>8/4/2017</td>\n",
       "      <td>2bb53936-ef7c-46ae-b6ee-844ed7b9d325</td>\n",
       "      <td>yQ7pYy</td>\n",
       "      <td>NaN</td>\n",
       "      <td>1.501770e+12</td>\n",
       "      <td>-400</td>\n",
       "      <td>ALL_QUALIFIED_RESEARCHERS</td>\n",
       "      <td>CB78206A-2DE0-40A0-A580-A3ADD682F4FD</td>\n",
       "      <td>baseline</td>\n",
       "      <td>B6FA8753-F80C-4F02-AC71-624C33D5F13F</td>\n",
       "      <td>1.501770e+12</td>\n",
       "      <td>-400</td>\n",
       "      <td>1.501770e+12</td>\n",
       "      <td>-400</td>\n",
       "      <td>86</td>\n",
       "      <td>female</td>\n",
       "      <td>44</td>\n",
       "      <td>11783</td>\n",
       "      <td>Graduate degree</td>\n",
       "      <td>NaN</td>\n",
       "      <td>White</td>\n",
       "      <td>[\"Religious (no services)\"]</td>\n",
       "    </tr>\n",
       "    <tr>\n",
       "      <th>91</th>\n",
       "      <td>91</td>\n",
       "      <td>41</td>\n",
       "      <td>3cdf3f5f-2b94-4bca-ad31-4e3c8e3c5086</td>\n",
       "      <td>version 1.2, build 18</td>\n",
       "      <td>iPhone 5S; iOS/10.3.3</td>\n",
       "      <td>8/22/2017</td>\n",
       "      <td>2bb53936-ef7c-46ae-b6ee-844ed7b9d325</td>\n",
       "      <td>yQ7pYy</td>\n",
       "      <td>NaN</td>\n",
       "      <td>1.501770e+12</td>\n",
       "      <td>-400</td>\n",
       "      <td>ALL_QUALIFIED_RESEARCHERS</td>\n",
       "      <td>CB78206A-2DE0-40A0-A580-A3ADD682F4FD</td>\n",
       "      <td>baseline</td>\n",
       "      <td>B6FA8753-F80C-4F02-AC71-624C33D5F13F</td>\n",
       "      <td>1.501770e+12</td>\n",
       "      <td>-400</td>\n",
       "      <td>1.501770e+12</td>\n",
       "      <td>-400</td>\n",
       "      <td>86</td>\n",
       "      <td>female</td>\n",
       "      <td>44</td>\n",
       "      <td>11783</td>\n",
       "      <td>Graduate degree</td>\n",
       "      <td>NaN</td>\n",
       "      <td>White</td>\n",
       "      <td>[\"Religious (no services)\"]</td>\n",
       "    </tr>\n",
       "  </tbody>\n",
       "</table>\n",
       "</div>"
      ],
      "text/plain": [
       "    ROW_ID  ROW_VERSION                              recordId  \\\n",
       "85      85           38  9b9508c1-07e3-40df-9a55-95eaa924d697   \n",
       "91      91           41  3cdf3f5f-2b94-4bca-ad31-4e3c8e3c5086   \n",
       "\n",
       "               appVersion              phoneInfo uploadDate  \\\n",
       "85  version 1.2, build 18  iPhone 5S; iOS/10.3.3   8/4/2017   \n",
       "91  version 1.2, build 18  iPhone 5S; iOS/10.3.3  8/22/2017   \n",
       "\n",
       "                              healthCode externalId dataGroups     createdOn  \\\n",
       "85  2bb53936-ef7c-46ae-b6ee-844ed7b9d325     yQ7pYy        NaN  1.501770e+12   \n",
       "91  2bb53936-ef7c-46ae-b6ee-844ed7b9d325     yQ7pYy        NaN  1.501770e+12   \n",
       "\n",
       "    createdOnTimeZone           userSharingScope  \\\n",
       "85               -400  ALL_QUALIFIED_RESEARCHERS   \n",
       "91               -400  ALL_QUALIFIED_RESEARCHERS   \n",
       "\n",
       "                      metadata.json.UUID metadata.json.taskIdentifier  \\\n",
       "85  CB78206A-2DE0-40A0-A580-A3ADD682F4FD                     baseline   \n",
       "91  CB78206A-2DE0-40A0-A580-A3ADD682F4FD                     baseline   \n",
       "\n",
       "               metadata.json.taskRunUUID  metadata.json.startDate  \\\n",
       "85  B6FA8753-F80C-4F02-AC71-624C33D5F13F             1.501770e+12   \n",
       "91  B6FA8753-F80C-4F02-AC71-624C33D5F13F             1.501770e+12   \n",
       "\n",
       "    metadata.json.startDate.timezone  metadata.json.endDate  \\\n",
       "85                              -400           1.501770e+12   \n",
       "91                              -400           1.501770e+12   \n",
       "\n",
       "    metadata.json.endDate.timezone metadata.json.groupLabel data.json.gender  \\\n",
       "85                            -400                       86           female   \n",
       "91                            -400                       86           female   \n",
       "\n",
       "    data.json.age  data.json.zip_code data.json.education  \\\n",
       "85             44               11783     Graduate degree   \n",
       "91             44               11783     Graduate degree   \n",
       "\n",
       "    data.json.employment data.json.ethnicity           data.json.religion  \n",
       "85                   NaN               White  [\"Religious (no services)\"]  \n",
       "91                   NaN               White  [\"Religious (no services)\"]  "
      ]
     },
     "execution_count": 22,
     "metadata": {},
     "output_type": "execute_result"
    }
   ],
   "source": [
    "demos[demos.externalId == 'yQ7pYy']"
   ]
  },
  {
   "cell_type": "markdown",
   "metadata": {},
   "source": [
    "### DataFrame: Bart_V4"
   ]
  },
  {
   "cell_type": "code",
   "execution_count": 9,
   "metadata": {},
   "outputs": [
    {
     "data": {
      "text/plain": [
       "False"
      ]
     },
     "execution_count": 9,
     "metadata": {},
     "output_type": "execute_result"
    }
   ],
   "source": [
    "bart_v4 = pd.read_csv('digital-marshmallow-bart-v4_8.31.17.csv')\n",
    "bart_v4 = remove_dupes(bart_v4)\n",
    "\n",
    "dupe_check(bart_v4)"
   ]
  },
  {
   "cell_type": "code",
   "execution_count": 10,
   "metadata": {
    "collapsed": true
   },
   "outputs": [],
   "source": [
    "bart_attributes = [\n",
    "    ['SAGE_bart_bl_0.25_-_', 'baseline', 'BART0.25'],\n",
    "    ['SAGE_bart_bl_250_-_', 'baseline', 'BART250.00'],\n",
    "    ['SAGE_bart_21_0.25_-_', '21-day-assessment', 'BART0.25'],\n",
    "    ['SAGE_bart_21_250_-_', '21-day-assessment', 'BART250.00']\n",
    "]"
   ]
  },
  {
   "cell_type": "code",
   "execution_count": 11,
   "metadata": {
    "collapsed": true
   },
   "outputs": [],
   "source": [
    "bart_v4 = df_merge(bart_v4, \n",
    "                   bart_attributes,\n",
    "                   var_1='metadata.json.taskIdentifier',\n",
    "                   var_2='data.json.variable_label')"
   ]
  },
  {
   "cell_type": "code",
   "execution_count": 12,
   "metadata": {},
   "outputs": [
    {
     "name": "stdout",
     "output_type": "stream",
     "text": [
      "Done!\n"
     ]
    }
   ],
   "source": [
    "final_check(bart_v4, 'bart_v4')"
   ]
  },
  {
   "cell_type": "markdown",
   "metadata": {},
   "source": [
    "### DataFrame: Behavior_choices_4"
   ]
  },
  {
   "cell_type": "code",
   "execution_count": 13,
   "metadata": {},
   "outputs": [
    {
     "data": {
      "text/plain": [
       "False"
      ]
     },
     "execution_count": 13,
     "metadata": {},
     "output_type": "execute_result"
    }
   ],
   "source": [
    "behavior_4 = pd.read_csv('digital-marshmallow-behavior_choices_4_bl-v2_8.31.17.csv')\n",
    "behavior_4 = remove_dupes(behavior_4)\n",
    "\n",
    "dupe_check(behavior_4)"
   ]
  },
  {
   "cell_type": "code",
   "execution_count": 14,
   "metadata": {
    "collapsed": true
   },
   "outputs": [],
   "source": [
    "behavior_4_attributes = [\n",
    "    ['SAGE_behavior_4_bl_-_', 'baseline'],\n",
    "]"
   ]
  },
  {
   "cell_type": "code",
   "execution_count": 15,
   "metadata": {
    "collapsed": true
   },
   "outputs": [],
   "source": [
    "behavior_4 = df_merge(behavior_4, \n",
    "                      behavior_4_attributes,\n",
    "                      var_1='metadata.json.taskIdentifier')"
   ]
  },
  {
   "cell_type": "code",
   "execution_count": 16,
   "metadata": {},
   "outputs": [
    {
     "name": "stdout",
     "output_type": "stream",
     "text": [
      "Done!\n"
     ]
    }
   ],
   "source": [
    "final_check(behavior_4, 'behave_4')"
   ]
  },
  {
   "cell_type": "markdown",
   "metadata": {},
   "source": [
    "### DataFrame: Delay Discounting"
   ]
  },
  {
   "cell_type": "code",
   "execution_count": 17,
   "metadata": {},
   "outputs": [
    {
     "data": {
      "text/plain": [
       "False"
      ]
     },
     "execution_count": 17,
     "metadata": {},
     "output_type": "execute_result"
    }
   ],
   "source": [
    "delay = pd.read_csv('digital-marshmallow-delay_discounting_raw-v6_8.31.17.csv')\n",
    "delay = remove_dupes(delay)\n",
    "\n",
    "dupe_check(delay)"
   ]
  },
  {
   "cell_type": "code",
   "execution_count": 18,
   "metadata": {
    "collapsed": true
   },
   "outputs": [],
   "source": [
    "bl = 'baseline'\n",
    "_21 = '21-day-assessment'\n",
    "\n",
    "delay_attributes = [\n",
    "    ['SAGE_delay_bl_time_6_month_-_', bl, 'dd_time_6_month'],\n",
    "    ['SAGE_delay_bl_money_6_month_-_', bl, 'dd_money_6_month'],\n",
    "    ['SAGE_delay_bl_money_1_month_-_', bl, 'dd_money_1_month'],\n",
    "    ['SAGE_delay_bl_time_1_year_-_', bl, 'dd_time_1_year'],\n",
    "    ['SAGE_delay_21_time_6_month_-_', _21, 'dd_time_6_month'],\n",
    "    ['SAGE_delay_21_money_6_month_-_', _21, 'dd_money_6_month'],\n",
    "    ['SAGE_delay_21_money_1_month_-_', _21, 'dd_money_1_month'],\n",
    "    ['SAGE_delay_21_time_1_year_-_', _21, 'dd_time_1_year']\n",
    "]"
   ]
  },
  {
   "cell_type": "code",
   "execution_count": 19,
   "metadata": {
    "collapsed": true
   },
   "outputs": [],
   "source": [
    "delay = df_merge(delay, \n",
    "                 delay_attributes, \n",
    "                 var_1='metadata.json.taskIdentifier',\n",
    "                 var_2='data.json.variableLabel')"
   ]
  },
  {
   "cell_type": "code",
   "execution_count": 20,
   "metadata": {},
   "outputs": [
    {
     "name": "stdout",
     "output_type": "stream",
     "text": [
      "Done!\n"
     ]
    }
   ],
   "source": [
    "final_check(delay, 'delay')"
   ]
  },
  {
   "cell_type": "markdown",
   "metadata": {},
   "source": [
    "### DataFrame: Discounting Raw"
   ]
  },
  {
   "cell_type": "code",
   "execution_count": 21,
   "metadata": {},
   "outputs": [
    {
     "data": {
      "text/plain": [
       "False"
      ]
     },
     "execution_count": 21,
     "metadata": {},
     "output_type": "execute_result"
    }
   ],
   "source": [
    "discount = pd.read_csv('digital-marshmallow-discounting_raw-v2_8.31.17.csv')\n",
    "discount = remove_dupes(discount)\n",
    "\n",
    "dupe_check(discount)"
   ]
  },
  {
   "cell_type": "code",
   "execution_count": 22,
   "metadata": {
    "collapsed": true
   },
   "outputs": [],
   "source": [
    "bl = 'baseline'\n",
    "_21 = '21-day-assessment'\n",
    "\n",
    "discount_attributes = [\n",
    "    ['SAGE_discount_bl_money_-_', bl, 'pd_constant_money'],\n",
    "    ['SAGE_discount_bl_prob_-_', bl, 'pd_constant_probabiliy'],\n",
    "    ['SAGE_discount_21_money_-_', _21, 'pd_constant_money'],\n",
    "    ['SAGE_discount_21_prob_-_', _21, 'pd_constant_probability']\n",
    "]\n",
    "\n",
    "discount = df_merge(discount, \n",
    "                    discount_attributes,\n",
    "                    var_1='metadata.json.taskIdentifier',\n",
    "                    var_2='data.json.variableLabel')"
   ]
  },
  {
   "cell_type": "code",
   "execution_count": 23,
   "metadata": {},
   "outputs": [
    {
     "name": "stdout",
     "output_type": "stream",
     "text": [
      "Done!\n"
     ]
    }
   ],
   "source": [
    "final_check(discount, 'discount')"
   ]
  },
  {
   "cell_type": "markdown",
   "metadata": {},
   "source": [
    "### DataFrame: Evening Notification"
   ]
  },
  {
   "cell_type": "code",
   "execution_count": 24,
   "metadata": {},
   "outputs": [
    {
     "data": {
      "text/plain": [
       "False"
      ]
     },
     "execution_count": 24,
     "metadata": {},
     "output_type": "execute_result"
    }
   ],
   "source": [
    "evening_note = pd.read_csv('digital-marshmallow-evening_notification_time-v2_8.31.17.csv')\n",
    "evening_note = remove_dupes(evening_note)\n",
    "\n",
    "dupe_check(evening_note)"
   ]
  },
  {
   "cell_type": "code",
   "execution_count": 25,
   "metadata": {
    "collapsed": true
   },
   "outputs": [],
   "source": [
    "evening_note_attributes = [\n",
    "    ['SAGE_evening_note_bl_-_', 'baseline']\n",
    "]\n",
    "\n",
    "evening_note_bl = df_merge(evening_note, \n",
    "                           evening_note_attributes,\n",
    "                           var_1='metadata.json.taskIdentifier')"
   ]
  },
  {
   "cell_type": "code",
   "execution_count": 26,
   "metadata": {},
   "outputs": [
    {
     "name": "stdout",
     "output_type": "stream",
     "text": [
      "Done!\n"
     ]
    }
   ],
   "source": [
    "final_check(evening_note_bl, 'evening_note')"
   ]
  },
  {
   "cell_type": "markdown",
   "metadata": {},
   "source": [
    "### DataFrame: GoNoGo - PLACEHOLDER (Extra Record - ksJM3Y)"
   ]
  },
  {
   "cell_type": "code",
   "execution_count": 27,
   "metadata": {},
   "outputs": [
    {
     "data": {
      "text/plain": [
       "False"
      ]
     },
     "execution_count": 27,
     "metadata": {},
     "output_type": "execute_result"
    }
   ],
   "source": [
    "gonogo = pd.read_csv('digital-marshmallow-goNoGo-v2_8.31.17.csv')\n",
    "gonogo = remove_dupes(gonogo)\n",
    "\n",
    "dupe_check(gonogo)"
   ]
  },
  {
   "cell_type": "code",
   "execution_count": 28,
   "metadata": {
    "collapsed": true
   },
   "outputs": [],
   "source": [
    "bl = 'baseline'\n",
    "_21 = '21-day-assessment'\n",
    "\n",
    "gonogo_attributes = [\n",
    "    ['SAGE_gonogo_bl_stable_-_', bl, 'go_no_go_stable_stimulus_active_task'],\n",
    "    ['SAGE_gonogo_21_variable_-_', bl, 'go_no_go_variable_stimulus_active_task'],\n",
    "    ['SAGE_gonogo_bl_stable_-_', _21, 'go_no_go_stable_stimulus_active_task'],\n",
    "    ['SAGE_gonogo_21_variable_-_', _21, 'go_no_go_variable_stimulus_active_task']\n",
    "]\n",
    "\n",
    "gonogo = df_merge(gonogo, \n",
    "                  gonogo_attributes,\n",
    "                  var_1='metadata.json.taskIdentifier',\n",
    "                  var_2='data.json.variable_label')"
   ]
  },
  {
   "cell_type": "code",
   "execution_count": 29,
   "metadata": {},
   "outputs": [
    {
     "name": "stdout",
     "output_type": "stream",
     "text": [
      "False\n"
     ]
    }
   ],
   "source": [
    "final_check(gonogo, 'gonogo')"
   ]
  },
  {
   "cell_type": "code",
   "execution_count": 30,
   "metadata": {},
   "outputs": [
    {
     "data": {
      "text/plain": [
       "13    ksJM3Y\n",
       "Name: externalId, dtype: object"
      ]
     },
     "execution_count": 30,
     "metadata": {},
     "output_type": "execute_result"
    }
   ],
   "source": [
    "gonogo.externalId[gonogo.externalId.duplicated()]"
   ]
  },
  {
   "cell_type": "markdown",
   "metadata": {},
   "source": [
    "### DataFrame: Morning Notifications"
   ]
  },
  {
   "cell_type": "code",
   "execution_count": 31,
   "metadata": {},
   "outputs": [
    {
     "data": {
      "text/plain": [
       "False"
      ]
     },
     "execution_count": 31,
     "metadata": {},
     "output_type": "execute_result"
    }
   ],
   "source": [
    "morning_note = pd.read_csv('digital-marshmallow-morning_notification_time-v3_8.31.17.csv')\n",
    "morning_note = remove_dupes(morning_note)\n",
    "\n",
    "dupe_check(morning_note)"
   ]
  },
  {
   "cell_type": "code",
   "execution_count": 32,
   "metadata": {
    "collapsed": true
   },
   "outputs": [],
   "source": [
    "morning_note_attributes = [\n",
    "    ['SAGE_morning_note_bl_-_', 'baseline']\n",
    "]\n",
    "\n",
    "morning_note = df_merge(morning_note, \n",
    "                        morning_note_attributes,\n",
    "                        var_1='metadata.json.taskIdentifier')"
   ]
  },
  {
   "cell_type": "code",
   "execution_count": 33,
   "metadata": {},
   "outputs": [
    {
     "name": "stdout",
     "output_type": "stream",
     "text": [
      "Done!\n"
     ]
    }
   ],
   "source": [
    "final_check(morning_note, 'morning_note')"
   ]
  },
  {
   "cell_type": "markdown",
   "metadata": {},
   "source": [
    "### DataFrame: PAM Multiple"
   ]
  },
  {
   "cell_type": "code",
   "execution_count": 34,
   "metadata": {},
   "outputs": [
    {
     "data": {
      "text/plain": [
       "False"
      ]
     },
     "execution_count": 34,
     "metadata": {},
     "output_type": "execute_result"
    }
   ],
   "source": [
    "pam_mult = pd.read_csv('digital-marshmallow-pam_multiple-v2_8.31.17.csv')\n",
    "pam_mult = remove_dupes(pam_mult)\n",
    "\n",
    "dupe_check(pam_mult)"
   ]
  },
  {
   "cell_type": "code",
   "execution_count": 35,
   "metadata": {
    "collapsed": true
   },
   "outputs": [],
   "source": [
    "pam_mult_attributes = [\n",
    "    ['SAGE_pam_mult_bl_-_', 'baseline'],\n",
    "    ['SAGE_pam_mult_21_-_', '21-day-assessment']\n",
    "]\n",
    "\n",
    "pam_mult = df_merge(pam_mult, \n",
    "                    pam_mult_attributes,\n",
    "                    var_1='metadata.json.taskIdentifier')"
   ]
  },
  {
   "cell_type": "code",
   "execution_count": 36,
   "metadata": {},
   "outputs": [
    {
     "name": "stdout",
     "output_type": "stream",
     "text": [
      "Done!\n"
     ]
    }
   ],
   "source": [
    "final_check(pam_mult, 'pam_mult')"
   ]
  },
  {
   "cell_type": "markdown",
   "metadata": {},
   "source": [
    "### Final Merge of All Sage Data"
   ]
  },
  {
   "cell_type": "code",
   "execution_count": 37,
   "metadata": {
    "collapsed": true
   },
   "outputs": [],
   "source": [
    "final_df = reduce(lambda left, right: pd.merge(left, right, how = 'outer',\n",
    "                                               on='externalId'), \n",
    "                  new_dfs.values())"
   ]
  },
  {
   "cell_type": "code",
   "execution_count": 38,
   "metadata": {
    "scrolled": true
   },
   "outputs": [
    {
     "data": {
      "text/plain": [
       "True"
      ]
     },
     "execution_count": 38,
     "metadata": {},
     "output_type": "execute_result"
    }
   ],
   "source": [
    "dupe_check(final_df)"
   ]
  },
  {
   "cell_type": "code",
   "execution_count": 39,
   "metadata": {
    "collapsed": true
   },
   "outputs": [],
   "source": [
    "os.chdir('/home/wraikes/Programming/Partnership/dmt/merged_data/')\n",
    "final_df.to_csv('FINAL_SAGE.csv')"
   ]
  }
 ],
 "metadata": {
  "kernelspec": {
   "display_name": "Python 3",
   "language": "python",
   "name": "python3"
  },
  "language_info": {
   "codemirror_mode": {
    "name": "ipython",
    "version": 3
   },
   "file_extension": ".py",
   "mimetype": "text/x-python",
   "name": "python",
   "nbconvert_exporter": "python",
   "pygments_lexer": "ipython3",
   "version": "3.5.2"
  }
 },
 "nbformat": 4,
 "nbformat_minor": 2
}
