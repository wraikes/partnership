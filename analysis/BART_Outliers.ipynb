{
 "cells": [
  {
   "cell_type": "markdown",
   "metadata": {},
   "source": [
    "Done:\n",
    "- Hist for numerics, just to make sure nothing is amiss.\n",
    "- Elapsed time in inquisit.\n",
    "- Check if someone exploded all balloons; or vice versa.\n",
    "- Calculated columns are correct (mean, std, range, etc.).\n",
    "- Check \"thirds\"\n",
    "- Check inquisit columns (total pumps, avg pumps, etc.)"
   ]
  },
  {
   "cell_type": "code",
   "execution_count": 1,
   "metadata": {
    "collapsed": true
   },
   "outputs": [],
   "source": [
    "import pandas as pd, numpy as np, matplotlib.pyplot as plt\n",
    "pd.set_option('display.max_columns', 2000)\n",
    "%matplotlib inline\n",
    "dmt = pd.read_csv('./data/DMT_Data_Merged_10.25.17.csv')\n",
    "#dmt = pd.read_csv('../data/final_data/DMT_Data_Merged_10.25.17.csv')"
   ]
  },
  {
   "cell_type": "markdown",
   "metadata": {},
   "source": [
    "## Sage"
   ]
  },
  {
   "cell_type": "code",
   "execution_count": 57,
   "metadata": {
    "collapsed": true
   },
   "outputs": [],
   "source": [
    "def col_convert(row):\n",
    "    '''\n",
    "    Convert a column that contains a string of a list of strings, into a list of floats.  \n",
    "    \n",
    "    Inputs\n",
    "        row: a string of a list of strings.\n",
    "        \n",
    "    Output\n",
    "        returns a list of floats\n",
    "    \n",
    "    '''\n",
    "    if pd.notnull(row):\n",
    "        return [float(x) for x in row.strip('[]').split(',')]\n",
    "    \n",
    "    else:\n",
    "        return row"
   ]
  },
  {
   "cell_type": "code",
   "execution_count": 64,
   "metadata": {
    "collapsed": true
   },
   "outputs": [],
   "source": [
    "def check_bart(name):\n",
    "    pumps = dmt[name + '___pumps_per_balloon'].apply(col_convert).dropna()\n",
    "    pumps_mean = dmt[name + '___pumps_mean'].dropna()\n",
    "    pumps_std = dmt[name + '___pumps_standard_deviation'].dropna()\n",
    "    pumps_range = dmt[name + '___pumps_range'].dropna()\n",
    "    \n",
    "    #Confirm means, std, ranges are calculated correctly.\n",
    "    means = all(np.isclose(pumps.apply(np.mean), pumps_mean, equal_nan=True))\n",
    "    stds = all(np.isclose(pumps.apply(np.std), pumps_std, equal_nan=True))\n",
    "    ranges = all(np.isclose(pumps.apply(np.ptp), pumps_range, equal_nan=True))\n",
    "\n",
    "    print('Means are correct:', means)\n",
    "    print('Ranges are correct:', ranges)\n",
    "    print('Standard deviations are correct:', stds)"
   ]
  },
  {
   "cell_type": "code",
   "execution_count": 59,
   "metadata": {
    "collapsed": true
   },
   "outputs": [],
   "source": [
    "def split(row, segment):\n",
    "    seg = 0, 5\n",
    "    \n",
    "    if segment == 2:\n",
    "        seg = 5, 10\n",
    "    elif segment == 3:\n",
    "        seg = 10, 15\n",
    "        \n",
    "    return row[seg[0]:seg[1]]\n",
    "    \n",
    "    \n",
    "def check_thirds(name):\n",
    "    pumps = dmt[name + '___pumps_per_balloon'].apply(col_convert).dropna()\n",
    "\n",
    "    means = all([\n",
    "        all(np.isclose(pumps.apply(lambda x: split(x, 1)).apply(np.mean), \n",
    "                       dmt[name + '___pumps_mean_first_third'].dropna())),\n",
    "        all(np.isclose(pumps.apply(lambda x: split(x, 2)).apply(np.mean), \n",
    "                       dmt[name + '___pumps_mean_second_third'].dropna())),\n",
    "        all(np.isclose(pumps.apply(lambda x: split(x, 3)).apply(np.mean), \n",
    "                       dmt[name + '___pumps_mean_last_third'].dropna()))\n",
    "    ])\n",
    "    \n",
    "    ranges = all([\n",
    "        all(np.isclose(pumps.apply(lambda x: split(x, 1)).apply(np.ptp), \n",
    "                       dmt[name + '___pumps_range_first_third'].dropna())),\n",
    "        all(np.isclose(pumps.apply(lambda x: split(x, 2)).apply(np.ptp), \n",
    "                       dmt[name + '___pumps_range_second_third'].dropna())),\n",
    "        all(np.isclose(pumps.apply(lambda x: split(x, 3)).apply(np.ptp), \n",
    "                       dmt[name + '___pumps_range_last_third'].dropna()))\n",
    "    ])\n",
    "    \n",
    "    stds = all([\n",
    "        all(np.isclose(pumps.apply(lambda x: split(x, 1)).apply(np.std), \n",
    "                       dmt[name + '___pumps_standard_deviation_first_third'].dropna())),\n",
    "        all(np.isclose(pumps.apply(lambda x: split(x, 2)).apply(np.std), \n",
    "                       dmt[name + '___pumps_standard_deviation_second_third'].dropna())),\n",
    "        all(np.isclose(pumps.apply(lambda x: split(x, 3)).apply(np.std), \n",
    "                       dmt[name + '___pumps_standard_deviation_last_third'].dropna()))\n",
    "    ])  \n",
    "    \n",
    "    return means, ranges, stds"
   ]
  },
  {
   "cell_type": "code",
   "execution_count": 60,
   "metadata": {
    "collapsed": true
   },
   "outputs": [],
   "source": [
    "def describe_bart(name):\n",
    "    columns = [\n",
    "        '___max_pumps_per_balloon',\n",
    "        '___mean_pumps_after_explode',\n",
    "        '___mean_pumps_after_no_explode',\n",
    "        '___number_of_explosions',\n",
    "        '___pumps_mean',\n",
    "        '___pumps_range',\n",
    "        '___pumps_standard_deviation',\n",
    "        '___total_gains'\n",
    "    ]\n",
    "    \n",
    "    for col in columns:\n",
    "        print(col[3:])\n",
    "        print(dmt[name + col].describe())\n",
    "        dmt[name + col].plot.hist(title=col[3:])\n",
    "        plt.show()\n",
    "        print()"
   ]
  },
  {
   "cell_type": "code",
   "execution_count": 65,
   "metadata": {},
   "outputs": [
    {
     "name": "stdout",
     "output_type": "stream",
     "text": [
      "Means are correct: True\n",
      "Ranges are correct: True\n",
      "Standard deviations are correct: False\n"
     ]
    }
   ],
   "source": [
    "check_bart('SAGE_bart_v4_baseline_BART0.25')"
   ]
  },
  {
   "cell_type": "code",
   "execution_count": 66,
   "metadata": {
    "scrolled": true
   },
   "outputs": [
    {
     "data": {
      "text/plain": [
       "(True, True, False)"
      ]
     },
     "execution_count": 66,
     "metadata": {},
     "output_type": "execute_result"
    }
   ],
   "source": [
    "#Means, Ranges, Stds\n",
    "check_thirds('SAGE_bart_v4_baseline_BART0.25')"
   ]
  },
  {
   "cell_type": "code",
   "execution_count": 67,
   "metadata": {
    "scrolled": false
   },
   "outputs": [
    {
     "name": "stdout",
     "output_type": "stream",
     "text": [
      "max_pumps_per_balloon\n",
      "count    102.000000\n",
      "mean       9.392157\n",
      "std        1.611572\n",
      "min        2.000000\n",
      "25%       10.000000\n",
      "50%       10.000000\n",
      "75%       10.000000\n",
      "max       12.000000\n",
      "Name: SAGE_bart_v4_baseline_BART0.25___max_pumps_per_balloon, dtype: float64\n"
     ]
    },
    {
     "data": {
      "image/png": "[encoded data removed]",
      "text/plain": [
       "<matplotlib.figure.Figure at 0x7f6ef5797cf8>"
      ]
     },
     "metadata": {},
     "output_type": "display_data"
    },
    {
     "name": "stdout",
     "output_type": "stream",
     "text": [
      "\n",
      "mean_pumps_after_explode\n",
      "count    102.000000\n",
      "mean       3.912852\n",
      "std        1.327006\n",
      "min        1.500000\n",
      "25%        3.000000\n",
      "50%        3.775000\n",
      "75%        4.600000\n",
      "max        7.428571\n",
      "Name: SAGE_bart_v4_baseline_BART0.25___mean_pumps_after_explode, dtype: float64\n"
     ]
    },
    {
     "data": {
      "image/png": "[encoded data removed]",
      "text/plain": [
       "<matplotlib.figure.Figure at 0x7f6ef7f266a0>"
      ]
     },
     "metadata": {},
     "output_type": "display_data"
    },
    {
     "name": "stdout",
     "output_type": "stream",
     "text": [
      "\n",
      "mean_pumps_after_no_explode\n",
      "count    102.000000\n",
      "mean       4.421378\n",
      "std        1.443180\n",
      "min        1.615385\n",
      "25%        3.300000\n",
      "50%        4.225000\n",
      "75%        5.372159\n",
      "max        8.600000\n",
      "Name: SAGE_bart_v4_baseline_BART0.25___mean_pumps_after_no_explode, dtype: float64\n"
     ]
    },
    {
     "data": {
      "image/png": "[encoded data removed]",
      "text/plain": [
       "<matplotlib.figure.Figure at 0x7f6ef7e56438>"
      ]
     },
     "metadata": {},
     "output_type": "display_data"
    },
    {
     "name": "stdout",
     "output_type": "stream",
     "text": [
      "\n",
      "number_of_explosions\n",
      "count    102.000000\n",
      "mean       5.617647\n",
      "std        2.647787\n",
      "min        1.000000\n",
      "25%        4.000000\n",
      "50%        5.000000\n",
      "75%        7.000000\n",
      "max       15.000000\n",
      "Name: SAGE_bart_v4_baseline_BART0.25___number_of_explosions, dtype: float64\n"
     ]
    },
    {
     "data": {
      "image/png": "[encoded data removed]",
      "text/plain": [
       "<matplotlib.figure.Figure at 0x7f6ef7d6e4e0>"
      ]
     },
     "metadata": {},
     "output_type": "display_data"
    },
    {
     "name": "stdout",
     "output_type": "stream",
     "text": [
      "\n",
      "pumps_mean\n",
      "count    102.000000\n",
      "mean       4.238562\n",
      "std        1.265413\n",
      "min        1.666667\n",
      "25%        3.216667\n",
      "50%        4.133333\n",
      "75%        5.000000\n",
      "max        7.733333\n",
      "Name: SAGE_bart_v4_baseline_BART0.25___pumps_mean, dtype: float64\n"
     ]
    },
    {
     "data": {
      "image/png": "[encoded data removed]",
      "text/plain": [
       "<matplotlib.figure.Figure at 0x7f6ef5a2bac8>"
      ]
     },
     "metadata": {},
     "output_type": "display_data"
    },
    {
     "name": "stdout",
     "output_type": "stream",
     "text": [
      "\n",
      "pumps_range\n",
      "count    102.000000\n",
      "mean       5.058824\n",
      "std        2.464896\n",
      "min        1.000000\n",
      "25%        3.000000\n",
      "50%        4.500000\n",
      "75%        7.000000\n",
      "max       11.000000\n",
      "Name: SAGE_bart_v4_baseline_BART0.25___pumps_range, dtype: float64\n"
     ]
    },
    {
     "data": {
      "image/png": "[encoded data removed]",
      "text/plain": [
       "<matplotlib.figure.Figure at 0x7f6ef7d72518>"
      ]
     },
     "metadata": {},
     "output_type": "display_data"
    },
    {
     "name": "stdout",
     "output_type": "stream",
     "text": [
      "\n",
      "pumps_standard_deviation\n",
      "count    102.000000\n",
      "mean       1.462368\n",
      "std        0.700274\n",
      "min        0.400000\n",
      "25%        0.902105\n",
      "50%        1.347131\n",
      "75%        1.896892\n",
      "max        3.473711\n",
      "Name: SAGE_bart_v4_baseline_BART0.25___pumps_standard_deviation, dtype: float64\n"
     ]
    },
    {
     "data": {
      "image/png": "[encoded data removed]",
      "text/plain": [
       "<matplotlib.figure.Figure at 0x7f6ef7db08d0>"
      ]
     },
     "metadata": {},
     "output_type": "display_data"
    },
    {
     "name": "stdout",
     "output_type": "stream",
     "text": [
      "\n",
      "total_gains\n",
      "count    102.000000\n",
      "mean       9.727941\n",
      "std        2.902522\n",
      "min        0.000000\n",
      "25%        8.000000\n",
      "50%        9.750000\n",
      "75%       11.500000\n",
      "max       17.000000\n",
      "Name: SAGE_bart_v4_baseline_BART0.25___total_gains, dtype: float64\n"
     ]
    },
    {
     "data": {
      "image/png": "[encoded data removed]",
      "text/plain": [
       "<matplotlib.figure.Figure at 0x7f6ef7e31588>"
      ]
     },
     "metadata": {},
     "output_type": "display_data"
    },
    {
     "name": "stdout",
     "output_type": "stream",
     "text": [
      "\n"
     ]
    }
   ],
   "source": [
    "describe_bart('SAGE_bart_v4_baseline_BART0.25')"
   ]
  },
  {
   "cell_type": "code",
   "execution_count": 68,
   "metadata": {
    "scrolled": true
   },
   "outputs": [
    {
     "name": "stdout",
     "output_type": "stream",
     "text": [
      "Means are correct: True\n",
      "Ranges are correct: True\n",
      "Standard deviations are correct: False\n"
     ]
    }
   ],
   "source": [
    "check_bart('SAGE_bart_v4_baseline_BART250.00')"
   ]
  },
  {
   "cell_type": "code",
   "execution_count": 69,
   "metadata": {},
   "outputs": [
    {
     "data": {
      "text/plain": [
       "(True, True, False)"
      ]
     },
     "execution_count": 69,
     "metadata": {},
     "output_type": "execute_result"
    }
   ],
   "source": [
    "check_thirds('SAGE_bart_v4_baseline_BART250.00')"
   ]
  },
  {
   "cell_type": "code",
   "execution_count": 70,
   "metadata": {
    "scrolled": false
   },
   "outputs": [
    {
     "name": "stdout",
     "output_type": "stream",
     "text": [
      "max_pumps_per_balloon\n",
      "count    101.000000\n",
      "mean       9.326733\n",
      "std        1.766969\n",
      "min        2.000000\n",
      "25%       10.000000\n",
      "50%       10.000000\n",
      "75%       10.000000\n",
      "max       12.000000\n",
      "Name: SAGE_bart_v4_baseline_BART250.00___max_pumps_per_balloon, dtype: float64\n"
     ]
    },
    {
     "data": {
      "image/png": "[encoded data removed]",
      "text/plain": [
       "<matplotlib.figure.Figure at 0x7f6ef5a5e358>"
      ]
     },
     "metadata": {},
     "output_type": "display_data"
    },
    {
     "name": "stdout",
     "output_type": "stream",
     "text": [
      "\n",
      "mean_pumps_after_explode\n",
      "count    101.000000\n",
      "mean       3.505909\n",
      "std        1.534367\n",
      "min        0.000000\n",
      "25%        2.400000\n",
      "50%        3.333333\n",
      "75%        4.333333\n",
      "max        7.625000\n",
      "Name: SAGE_bart_v4_baseline_BART250.00___mean_pumps_after_explode, dtype: float64\n"
     ]
    },
    {
     "data": {
      "image/png": "[encoded data removed]",
      "text/plain": [
       "<matplotlib.figure.Figure at 0x7f6ef7e98be0>"
      ]
     },
     "metadata": {},
     "output_type": "display_data"
    },
    {
     "name": "stdout",
     "output_type": "stream",
     "text": [
      "\n",
      "mean_pumps_after_no_explode\n",
      "count    101.000000\n",
      "mean       3.962925\n",
      "std        1.499654\n",
      "min        1.357143\n",
      "25%        2.857143\n",
      "50%        3.636364\n",
      "75%        5.000000\n",
      "max        9.000000\n",
      "Name: SAGE_bart_v4_baseline_BART250.00___mean_pumps_after_no_explode, dtype: float64\n"
     ]
    },
    {
     "data": {
      "image/png": "[encoded data removed]",
      "text/plain": [
       "<matplotlib.figure.Figure at 0x7f6ef59deac8>"
      ]
     },
     "metadata": {},
     "output_type": "display_data"
    },
    {
     "name": "stdout",
     "output_type": "stream",
     "text": [
      "\n",
      "number_of_explosions\n",
      "count    101.000000\n",
      "mean       4.900990\n",
      "std        2.628707\n",
      "min        0.000000\n",
      "25%        3.000000\n",
      "50%        5.000000\n",
      "75%        7.000000\n",
      "max       14.000000\n",
      "Name: SAGE_bart_v4_baseline_BART250.00___number_of_explosions, dtype: float64\n"
     ]
    },
    {
     "data": {
      "image/png": "[encoded data removed]",
      "text/plain": [
       "<matplotlib.figure.Figure at 0x7f6ef5a21320>"
      ]
     },
     "metadata": {},
     "output_type": "display_data"
    },
    {
     "name": "stdout",
     "output_type": "stream",
     "text": [
      "\n",
      "pumps_mean\n",
      "count    101.000000\n",
      "mean       3.838944\n",
      "std        1.380025\n",
      "min        1.400000\n",
      "25%        2.800000\n",
      "50%        3.600000\n",
      "75%        4.800000\n",
      "max        8.066667\n",
      "Name: SAGE_bart_v4_baseline_BART250.00___pumps_mean, dtype: float64\n"
     ]
    },
    {
     "data": {
      "image/png": "[encoded data removed]",
      "text/plain": [
       "<matplotlib.figure.Figure at 0x7f6ef45f9c88>"
      ]
     },
     "metadata": {},
     "output_type": "display_data"
    },
    {
     "name": "stdout",
     "output_type": "stream",
     "text": [
      "\n",
      "pumps_range\n",
      "count    101.000000\n",
      "mean       4.287129\n",
      "std        2.224125\n",
      "min        0.000000\n",
      "25%        3.000000\n",
      "50%        4.000000\n",
      "75%        6.000000\n",
      "max        9.000000\n",
      "Name: SAGE_bart_v4_baseline_BART250.00___pumps_range, dtype: float64\n"
     ]
    },
    {
     "data": {
      "image/png": "[encoded data removed]",
      "text/plain": [
       "<matplotlib.figure.Figure at 0x7f6ef59f8518>"
      ]
     },
     "metadata": {},
     "output_type": "display_data"
    },
    {
     "name": "stdout",
     "output_type": "stream",
     "text": [
      "\n",
      "pumps_standard_deviation\n",
      "count    101.000000\n",
      "mean       1.284893\n",
      "std        0.667301\n",
      "min        0.000000\n",
      "25%        0.771722\n",
      "50%        1.123487\n",
      "75%        1.730767\n",
      "max        3.067495\n",
      "Name: SAGE_bart_v4_baseline_BART250.00___pumps_standard_deviation, dtype: float64\n"
     ]
    },
    {
     "data": {
      "image/png": "[encoded data removed]",
      "text/plain": [
       "<matplotlib.figure.Figure at 0x7f6ef452ceb8>"
      ]
     },
     "metadata": {},
     "output_type": "display_data"
    },
    {
     "name": "stdout",
     "output_type": "stream",
     "text": [
      "\n",
      "total_gains\n",
      "count      101.000000\n",
      "mean      9472.772277\n",
      "std       2858.736826\n",
      "min        750.000000\n",
      "25%       7250.000000\n",
      "50%       9250.000000\n",
      "75%      11750.000000\n",
      "max      16250.000000\n",
      "Name: SAGE_bart_v4_baseline_BART250.00___total_gains, dtype: float64\n"
     ]
    },
    {
     "data": {
      "image/png": "[encoded data removed]",
      "text/plain": [
       "<matplotlib.figure.Figure at 0x7f6ef447ebe0>"
      ]
     },
     "metadata": {},
     "output_type": "display_data"
    },
    {
     "name": "stdout",
     "output_type": "stream",
     "text": [
      "\n"
     ]
    }
   ],
   "source": [
    "describe_bart('SAGE_bart_v4_baseline_BART250.00')"
   ]
  },
  {
   "cell_type": "code",
   "execution_count": 71,
   "metadata": {},
   "outputs": [
    {
     "name": "stdout",
     "output_type": "stream",
     "text": [
      "Means are correct: True\n",
      "Ranges are correct: True\n",
      "Standard deviations are correct: False\n"
     ]
    }
   ],
   "source": [
    "check_bart('SAGE_bart_v4_21_day_assessment_BART0.25')"
   ]
  },
  {
   "cell_type": "code",
   "execution_count": 72,
   "metadata": {},
   "outputs": [
    {
     "data": {
      "text/plain": [
       "(True, True, False)"
      ]
     },
     "execution_count": 72,
     "metadata": {},
     "output_type": "execute_result"
    }
   ],
   "source": [
    "check_thirds('SAGE_bart_v4_21_day_assessment_BART0.25')"
   ]
  },
  {
   "cell_type": "code",
   "execution_count": 73,
   "metadata": {
    "scrolled": false
   },
   "outputs": [
    {
     "name": "stdout",
     "output_type": "stream",
     "text": [
      "max_pumps_per_balloon\n",
      "count    95.000000\n",
      "mean      9.326316\n",
      "std       1.841843\n",
      "min       2.000000\n",
      "25%      10.000000\n",
      "50%      10.000000\n",
      "75%      10.000000\n",
      "max      14.000000\n",
      "Name: SAGE_bart_v4_21_day_assessment_BART0.25___max_pumps_per_balloon, dtype: float64\n"
     ]
    },
    {
     "data": {
      "image/png": "[encoded data removed]",
      "text/plain": [
       "<matplotlib.figure.Figure at 0x7f6ef4552ac8>"
      ]
     },
     "metadata": {},
     "output_type": "display_data"
    },
    {
     "name": "stdout",
     "output_type": "stream",
     "text": [
      "\n",
      "mean_pumps_after_explode\n",
      "count    95.000000\n",
      "mean      3.973621\n",
      "std       1.428847\n",
      "min       0.000000\n",
      "25%       3.000000\n",
      "50%       4.000000\n",
      "75%       4.666667\n",
      "max       7.600000\n",
      "Name: SAGE_bart_v4_21_day_assessment_BART0.25___mean_pumps_after_explode, dtype: float64\n"
     ]
    },
    {
     "data": {
      "image/png": "[encoded data removed]",
      "text/plain": [
       "<matplotlib.figure.Figure at 0x7f6ef7e994a8>"
      ]
     },
     "metadata": {},
     "output_type": "display_data"
    },
    {
     "name": "stdout",
     "output_type": "stream",
     "text": [
      "\n",
      "mean_pumps_after_no_explode\n",
      "count    95.000000\n",
      "mean      4.253741\n",
      "std       1.419863\n",
      "min       1.000000\n",
      "25%       3.316667\n",
      "50%       4.181818\n",
      "75%       5.140909\n",
      "max       8.714286\n",
      "Name: SAGE_bart_v4_21_day_assessment_BART0.25___mean_pumps_after_no_explode, dtype: float64\n"
     ]
    },
    {
     "data": {
      "image/png": "[encoded data removed]",
      "text/plain": [
       "<matplotlib.figure.Figure at 0x7f6ef72d75c0>"
      ]
     },
     "metadata": {},
     "output_type": "display_data"
    },
    {
     "name": "stdout",
     "output_type": "stream",
     "text": [
      "\n",
      "number_of_explosions\n",
      "count    95.000000\n",
      "mean      5.326316\n",
      "std       2.730607\n",
      "min       0.000000\n",
      "25%       3.000000\n",
      "50%       5.000000\n",
      "75%       7.000000\n",
      "max      14.000000\n",
      "Name: SAGE_bart_v4_21_day_assessment_BART0.25___number_of_explosions, dtype: float64\n"
     ]
    },
    {
     "data": {
      "image/png": "[encoded data removed]",
      "text/plain": [
       "<matplotlib.figure.Figure at 0x7f6ef458e518>"
      ]
     },
     "metadata": {},
     "output_type": "display_data"
    },
    {
     "name": "stdout",
     "output_type": "stream",
     "text": [
      "\n",
      "pumps_mean\n",
      "count    95.000000\n",
      "mean      4.159298\n",
      "std       1.267611\n",
      "min       1.000000\n",
      "25%       3.366667\n",
      "50%       4.133333\n",
      "75%       5.000000\n",
      "max       7.266667\n",
      "Name: SAGE_bart_v4_21_day_assessment_BART0.25___pumps_mean, dtype: float64\n"
     ]
    },
    {
     "data": {
      "image/png": "[encoded data removed]",
      "text/plain": [
       "<matplotlib.figure.Figure at 0x7f6ef7eecb38>"
      ]
     },
     "metadata": {},
     "output_type": "display_data"
    },
    {
     "name": "stdout",
     "output_type": "stream",
     "text": [
      "\n",
      "pumps_range\n",
      "count    95.000000\n",
      "mean      4.484211\n",
      "std       2.082670\n",
      "min       0.000000\n",
      "25%       3.000000\n",
      "50%       4.000000\n",
      "75%       6.000000\n",
      "max      12.000000\n",
      "Name: SAGE_bart_v4_21_day_assessment_BART0.25___pumps_range, dtype: float64\n"
     ]
    },
    {
     "data": {
      "image/png": "[encoded data removed]",
      "text/plain": [
       "<matplotlib.figure.Figure at 0x7f6ef461e128>"
      ]
     },
     "metadata": {},
     "output_type": "display_data"
    },
    {
     "name": "stdout",
     "output_type": "stream",
     "text": [
      "\n",
      "pumps_standard_deviation\n",
      "count    95.000000\n",
      "mean      1.340096\n",
      "std       0.605892\n",
      "min       0.000000\n",
      "25%       0.869092\n",
      "50%       1.290994\n",
      "75%       1.707405\n",
      "max       3.534860\n",
      "Name: SAGE_bart_v4_21_day_assessment_BART0.25___pumps_standard_deviation, dtype: float64\n"
     ]
    },
    {
     "data": {
      "image/png": "[encoded data removed]",
      "text/plain": [
       "<matplotlib.figure.Figure at 0x7f6ef46e7278>"
      ]
     },
     "metadata": {},
     "output_type": "display_data"
    },
    {
     "name": "stdout",
     "output_type": "stream",
     "text": [
      "\n",
      "total_gains\n",
      "count    95.00000\n",
      "mean     10.10000\n",
      "std       3.12301\n",
      "min       0.75000\n",
      "25%       8.00000\n",
      "50%      10.00000\n",
      "75%      11.75000\n",
      "max      19.50000\n",
      "Name: SAGE_bart_v4_21_day_assessment_BART0.25___total_gains, dtype: float64\n"
     ]
    },
    {
     "data": {
      "image/png": "[encoded data removed]",
      "text/plain": [
       "<matplotlib.figure.Figure at 0x7f6ef7dd07b8>"
      ]
     },
     "metadata": {},
     "output_type": "display_data"
    },
    {
     "name": "stdout",
     "output_type": "stream",
     "text": [
      "\n"
     ]
    }
   ],
   "source": [
    "describe_bart('SAGE_bart_v4_21_day_assessment_BART0.25')"
   ]
  },
  {
   "cell_type": "code",
   "execution_count": 74,
   "metadata": {
    "scrolled": true
   },
   "outputs": [
    {
     "name": "stdout",
     "output_type": "stream",
     "text": [
      "Means are correct: True\n",
      "Ranges are correct: True\n",
      "Standard deviations are correct: False\n"
     ]
    }
   ],
   "source": [
    "check_bart('SAGE_bart_v4_21_day_assessment_BART250.00')"
   ]
  },
  {
   "cell_type": "code",
   "execution_count": 75,
   "metadata": {},
   "outputs": [
    {
     "data": {
      "text/plain": [
       "(True, True, False)"
      ]
     },
     "execution_count": 75,
     "metadata": {},
     "output_type": "execute_result"
    }
   ],
   "source": [
    "check_thirds('SAGE_bart_v4_21_day_assessment_BART250.00')"
   ]
  },
  {
   "cell_type": "code",
   "execution_count": 76,
   "metadata": {
    "scrolled": false
   },
   "outputs": [
    {
     "name": "stdout",
     "output_type": "stream",
     "text": [
      "max_pumps_per_balloon\n",
      "count    94.000000\n",
      "mean      9.148936\n",
      "std       1.917421\n",
      "min       2.000000\n",
      "25%      10.000000\n",
      "50%      10.000000\n",
      "75%      10.000000\n",
      "max      11.000000\n",
      "Name: SAGE_bart_v4_21_day_assessment_BART250.00___max_pumps_per_balloon, dtype: float64\n"
     ]
    },
    {
     "data": {
      "image/png": "[encoded data removed]",
      "text/plain": [
       "<matplotlib.figure.Figure at 0x7f6ef46a75c0>"
      ]
     },
     "metadata": {},
     "output_type": "display_data"
    },
    {
     "name": "stdout",
     "output_type": "stream",
     "text": [
      "\n",
      "mean_pumps_after_explode\n",
      "count    94.000000\n",
      "mean      3.744931\n",
      "std       1.358809\n",
      "min       0.000000\n",
      "25%       3.000000\n",
      "50%       3.708333\n",
      "75%       4.500000\n",
      "max       7.250000\n",
      "Name: SAGE_bart_v4_21_day_assessment_BART250.00___mean_pumps_after_explode, dtype: float64\n"
     ]
    },
    {
     "data": {
      "image/png": "[encoded data removed]",
      "text/plain": [
       "<matplotlib.figure.Figure at 0x7f6ef5a13e10>"
      ]
     },
     "metadata": {},
     "output_type": "display_data"
    },
    {
     "name": "stdout",
     "output_type": "stream",
     "text": [
      "\n",
      "mean_pumps_after_no_explode\n",
      "count    94.000000\n",
      "mean      3.952317\n",
      "std       1.129214\n",
      "min       1.571429\n",
      "25%       3.279545\n",
      "50%       3.923077\n",
      "75%       4.656250\n",
      "max       7.166667\n",
      "Name: SAGE_bart_v4_21_day_assessment_BART250.00___mean_pumps_after_no_explode, dtype: float64\n"
     ]
    },
    {
     "data": {
      "image/png": "[encoded data removed]",
      "text/plain": [
       "<matplotlib.figure.Figure at 0x7f6ef46d5160>"
      ]
     },
     "metadata": {},
     "output_type": "display_data"
    },
    {
     "name": "stdout",
     "output_type": "stream",
     "text": [
      "\n",
      "number_of_explosions\n",
      "count    94.000000\n",
      "mean      4.691489\n",
      "std       2.561193\n",
      "min       0.000000\n",
      "25%       3.000000\n",
      "50%       4.500000\n",
      "75%       6.000000\n",
      "max      12.000000\n",
      "Name: SAGE_bart_v4_21_day_assessment_BART250.00___number_of_explosions, dtype: float64\n"
     ]
    },
    {
     "data": {
      "image/png": "[encoded data removed]",
      "text/plain": [
       "<matplotlib.figure.Figure at 0x7f6ef4545e48>"
      ]
     },
     "metadata": {},
     "output_type": "display_data"
    },
    {
     "name": "stdout",
     "output_type": "stream",
     "text": [
      "\n",
      "pumps_mean\n",
      "count    94.000000\n",
      "mean      3.907801\n",
      "std       1.079630\n",
      "min       1.533333\n",
      "25%       3.083333\n",
      "50%       3.933333\n",
      "75%       4.533333\n",
      "max       7.066667\n",
      "Name: SAGE_bart_v4_21_day_assessment_BART250.00___pumps_mean, dtype: float64\n"
     ]
    },
    {
     "data": {
      "image/png": "[encoded data removed]",
      "text/plain": [
       "<matplotlib.figure.Figure at 0x7f6ef7425160>"
      ]
     },
     "metadata": {},
     "output_type": "display_data"
    },
    {
     "name": "stdout",
     "output_type": "stream",
     "text": [
      "\n",
      "pumps_range\n",
      "count    94.000000\n",
      "mean      4.042553\n",
      "std       1.825241\n",
      "min       1.000000\n",
      "25%       3.000000\n",
      "50%       4.000000\n",
      "75%       5.000000\n",
      "max      10.000000\n",
      "Name: SAGE_bart_v4_21_day_assessment_BART250.00___pumps_range, dtype: float64\n"
     ]
    },
    {
     "data": {
      "image/png": "[encoded data removed]",
      "text/plain": [
       "<matplotlib.figure.Figure at 0x7f6ef44e5a20>"
      ]
     },
     "metadata": {},
     "output_type": "display_data"
    },
    {
     "name": "stdout",
     "output_type": "stream",
     "text": [
      "\n",
      "pumps_standard_deviation\n",
      "count    94.000000\n",
      "mean      1.218203\n",
      "std       0.557877\n",
      "min       0.258199\n",
      "25%       0.805536\n",
      "50%       1.160445\n",
      "75%       1.520939\n",
      "max       3.514595\n",
      "Name: SAGE_bart_v4_21_day_assessment_BART250.00___pumps_standard_deviation, dtype: float64\n"
     ]
    },
    {
     "data": {
      "image/png": "[encoded data removed]",
      "text/plain": [
       "<matplotlib.figure.Figure at 0x7f6ef7e43ba8>"
      ]
     },
     "metadata": {},
     "output_type": "display_data"
    },
    {
     "name": "stdout",
     "output_type": "stream",
     "text": [
      "\n",
      "total_gains\n",
      "count       94.000000\n",
      "mean     10021.276596\n",
      "std       2608.314759\n",
      "min       3000.000000\n",
      "25%       8500.000000\n",
      "50%      10000.000000\n",
      "75%      12000.000000\n",
      "max      17500.000000\n",
      "Name: SAGE_bart_v4_21_day_assessment_BART250.00___total_gains, dtype: float64\n"
     ]
    },
    {
     "data": {
      "image/png": "[encoded data removed]",
      "text/plain": [
       "<matplotlib.figure.Figure at 0x7f6ef46f7ac8>"
      ]
     },
     "metadata": {},
     "output_type": "display_data"
    },
    {
     "name": "stdout",
     "output_type": "stream",
     "text": [
      "\n"
     ]
    }
   ],
   "source": [
    "describe_bart('SAGE_bart_v4_21_day_assessment_BART250.00')"
   ]
  },
  {
   "cell_type": "markdown",
   "metadata": {},
   "source": [
    "## Inquisit"
   ]
  },
  {
   "cell_type": "code",
   "execution_count": 103,
   "metadata": {},
   "outputs": [
    {
     "data": {
      "text/plain": [
       "True"
      ]
     },
     "execution_count": 103,
     "metadata": {},
     "output_type": "execute_result"
    }
   ],
   "source": [
    "#Thirds: total pumps\n",
    "np.all(\n",
    "    dmt['INQUISIT_bart___values.totalpumpcount'].dropna() == \\\n",
    "    dmt['INQUISIT_bart___values.totalpumpcount_10'].dropna() + \\\n",
    "    dmt['INQUISIT_bart___values.totalpumpcount_20'].dropna() + \\\n",
    "    dmt['INQUISIT_bart___values.totalpumpcount_30'].dropna()\n",
    ")"
   ]
  },
  {
   "cell_type": "code",
   "execution_count": 106,
   "metadata": {},
   "outputs": [
    {
     "data": {
      "text/plain": [
       "True"
      ]
     },
     "execution_count": 106,
     "metadata": {},
     "output_type": "execute_result"
    }
   ],
   "source": [
    "#Thirds: average pump counts\n",
    "all(\n",
    "    np.isclose(dmt['INQUISIT_bart___values.averagepumpcount'].dropna(),\n",
    "   (dmt['INQUISIT_bart___values.averagepumpcount_10'].dropna() + \\\n",
    "    dmt['INQUISIT_bart___values.averagepumpcount_20'].dropna() + \\\n",
    "    dmt['INQUISIT_bart___values.averagepumpcount_30'].dropna()) / 3)\n",
    ")"
   ]
  },
  {
   "cell_type": "code",
   "execution_count": 107,
   "metadata": {},
   "outputs": [
    {
     "data": {
      "text/plain": [
       "True"
      ]
     },
     "execution_count": 107,
     "metadata": {},
     "output_type": "execute_result"
    }
   ],
   "source": [
    "#Thirds: total explosions\n",
    "np.all(\n",
    "    dmt['INQUISIT_bart___values.total_explosions'].dropna() == \\\n",
    "    dmt['INQUISIT_bart___values.total_explosions_10'].dropna() + \\\n",
    "    dmt['INQUISIT_bart___values.total_explosions_20'].dropna() + \\\n",
    "    dmt['INQUISIT_bart___values.total_explosions_30'].dropna()\n",
    ")"
   ]
  },
  {
   "cell_type": "code",
   "execution_count": 108,
   "metadata": {},
   "outputs": [
    {
     "data": {
      "text/plain": [
       "True"
      ]
     },
     "execution_count": 108,
     "metadata": {},
     "output_type": "execute_result"
    }
   ],
   "source": [
    "#Thirds: total non explosions\n",
    "np.all(\n",
    "    dmt['INQUISIT_bart___values.nonexplodedballoons'].dropna() == \\\n",
    "    dmt['INQUISIT_bart___values.nonexplodedballoons_10'].dropna() + \\\n",
    "    dmt['INQUISIT_bart___values.nonexplodedballoons_20'].dropna() + \\\n",
    "    dmt['INQUISIT_bart___values.nonexplodedballoons_30'].dropna()\n",
    ")"
   ]
  },
  {
   "cell_type": "code",
   "execution_count": 109,
   "metadata": {},
   "outputs": [
    {
     "data": {
      "text/plain": [
       "True"
      ]
     },
     "execution_count": 109,
     "metadata": {},
     "output_type": "execute_result"
    }
   ],
   "source": [
    "#Thirds: adjusted total pumps\n",
    "np.all(\n",
    "    dmt['INQUISIT_bart___values.adjustedtotalpumpcount'].dropna() == \\\n",
    "    dmt['INQUISIT_bart___values.adjustedtotalpumpcount_10'].dropna() + \\\n",
    "    dmt['INQUISIT_bart___values.adjustedtotalpumpcount_20'].dropna() + \\\n",
    "    dmt['INQUISIT_bart___values.adjustedtotalpumpcount_10'].dropna()\n",
    ")"
   ]
  },
  {
   "cell_type": "code",
   "execution_count": 114,
   "metadata": {},
   "outputs": [
    {
     "data": {
      "text/plain": [
       "False"
      ]
     },
     "execution_count": 114,
     "metadata": {},
     "output_type": "execute_result"
    }
   ],
   "source": [
    "#Thirds: adjusted average pumps\n",
    "all(\n",
    "    np.isclose(dmt['INQUISIT_bart___values.adjustedaveragepumpcount'].dropna(),\n",
    "   (dmt['INQUISIT_bart___values.adjustedaveragepumpcount_10'].dropna() + \\\n",
    "    dmt['INQUISIT_bart___values.adjustedaveragepumpcount_20'].dropna() + \\\n",
    "    dmt['INQUISIT_bart___values.adjustedaveragepumpcount_30'].dropna()) / 3)\n",
    ")"
   ]
  },
  {
   "cell_type": "code",
   "execution_count": 128,
   "metadata": {},
   "outputs": [
    {
     "data": {
      "text/plain": [
       "True"
      ]
     },
     "execution_count": 128,
     "metadata": {},
     "output_type": "execute_result"
    }
   ],
   "source": [
    "#Check average pump count.\n",
    "all(\n",
    "    np.isclose(dmt['INQUISIT_bart___values.averagepumpcount'].dropna(), dmt['INQUISIT_bart___values.totalpumpcount'].dropna() / 30)\n",
    ")"
   ]
  },
  {
   "cell_type": "code",
   "execution_count": null,
   "metadata": {
    "collapsed": true
   },
   "outputs": [],
   "source": [
    "#Check exploded + nonexploded balloons.\n",
    "all(\n",
    "    dmt['INQUISIT_bart___values.nonexplodedballoons'].dropna() + \\\n",
    "    dmt['INQUISIT_bart___values.total_explosions'].dropna() == 30\n",
    ")"
   ]
  },
  {
   "cell_type": "code",
   "execution_count": 130,
   "metadata": {},
   "outputs": [
    {
     "name": "stdout",
     "output_type": "stream",
     "text": [
      "count     114.000000\n",
      "mean      679.763158\n",
      "std       423.930937\n",
      "min        29.000000\n",
      "25%       331.000000\n",
      "50%       591.000000\n",
      "75%       947.750000\n",
      "max      2094.000000\n",
      "Name: INQUISIT_bart___values.totalpumpcount, dtype: float64\n"
     ]
    },
    {
     "data": {
      "image/png": "[encoded data removed]",
      "text/plain": [
       "<matplotlib.figure.Figure at 0x7f6ef7e628d0>"
      ]
     },
     "metadata": {},
     "output_type": "display_data"
    },
    {
     "name": "stdout",
     "output_type": "stream",
     "text": [
      "count    114.000000\n",
      "mean      22.658772\n",
      "std       14.131031\n",
      "min        0.966667\n",
      "25%       11.033333\n",
      "50%       19.700000\n",
      "75%       31.591667\n",
      "max       69.800000\n",
      "Name: INQUISIT_bart___values.averagepumpcount, dtype: float64\n"
     ]
    },
    {
     "data": {
      "image/png": "[encoded data removed]",
      "text/plain": [
       "<matplotlib.figure.Figure at 0x7f6ef46f7da0>"
      ]
     },
     "metadata": {},
     "output_type": "display_data"
    },
    {
     "name": "stdout",
     "output_type": "stream",
     "text": [
      "count    114.000000\n",
      "mean       6.552632\n",
      "std        5.247995\n",
      "min        0.000000\n",
      "25%        3.000000\n",
      "50%        5.000000\n",
      "75%        8.750000\n",
      "max       30.000000\n",
      "Name: INQUISIT_bart___values.total_explosions, dtype: float64\n"
     ]
    },
    {
     "data": {
      "image/png": "[encoded data removed]",
      "text/plain": [
       "<matplotlib.figure.Figure at 0x7f6ef4532c88>"
      ]
     },
     "metadata": {},
     "output_type": "display_data"
    }
   ],
   "source": [
    "cols = ['INQUISIT_bart___values.totalpumpcount',\n",
    "        'INQUISIT_bart___values.averagepumpcount',\n",
    "        'INQUISIT_bart___values.total_explosions']\n",
    "\n",
    "for col in cols:\n",
    "    print(dmt[col].describe())\n",
    "    dmt[col].plot.hist()\n",
    "    plt.show()\n"
   ]
  },
  {
   "cell_type": "markdown",
   "metadata": {},
   "source": [
    "### Elapsed Time:\n",
    "The mean elapsed time for inquisit BART is about ~7 minutes.  There is a long rightward skew in the histogram, with a maximum of 23.7 minutes.  I would remove the maximum case."
   ]
  },
  {
   "cell_type": "code",
   "execution_count": 4,
   "metadata": {},
   "outputs": [
    {
     "data": {
      "text/plain": [
       "count         84.000000\n",
       "mean      419011.761905\n",
       "std       205268.382333\n",
       "min       122015.000000\n",
       "25%       275602.500000\n",
       "50%       411183.500000\n",
       "75%       473788.500000\n",
       "max      1423162.000000\n",
       "Name: INQUISIT_bart___script.elapsedtime, dtype: float64"
      ]
     },
     "execution_count": 4,
     "metadata": {},
     "output_type": "execute_result"
    }
   ],
   "source": [
    "#Times shown in minutes.\n",
    "def conv_elapsed(row):\n",
    "    if pd.notnull(row) and ':' in row:\n",
    "        return np.nan\n",
    "    elif pd.notnull(row):\n",
    "        return float(row)\n",
    "    else:\n",
    "        return np.nan\n",
    "\n",
    "bart_elapsed = dmt['INQUISIT_bart___script.elapsedtime'].apply(conv_elapsed).dropna() #Convert to minutes\n",
    "bart_elapsed.describe() "
   ]
  },
  {
   "cell_type": "code",
   "execution_count": 5,
   "metadata": {
    "scrolled": true
   },
   "outputs": [
    {
     "data": {
      "text/plain": [
       "<matplotlib.text.Text at 0x7f4bf88c3b00>"
      ]
     },
     "execution_count": 5,
     "metadata": {},
     "output_type": "execute_result"
    },
    {
     "data": {
      "image/png": "[encoded data removed]",
      "text/plain": [
       "<matplotlib.figure.Figure at 0x7f4bf7bf2860>"
      ]
     },
     "metadata": {},
     "output_type": "display_data"
    }
   ],
   "source": [
    "pd.Series(bart_elapsed).plot.hist(title = 'Time Elapsed')\n",
    "plt.xlabel('Minutes')"
   ]
  },
  {
   "cell_type": "markdown",
   "metadata": {},
   "source": [
    "## Both Sage & Inquisit"
   ]
  },
  {
   "cell_type": "code",
   "execution_count": 77,
   "metadata": {
    "collapsed": true
   },
   "outputs": [],
   "source": [
    "balloons_1 = dmt['SAGE_bart_v4_baseline_BART0.25___number_of_balloons']\n",
    "explosions_1 = dmt['SAGE_bart_v4_baseline_BART0.25___number_of_explosions']\n",
    "\n",
    "balloons_2 = dmt['SAGE_bart_v4_baseline_BART250.00___number_of_balloons']\n",
    "explosions_2 = dmt['SAGE_bart_v4_baseline_BART250.00___number_of_explosions']\n",
    "\n",
    "balloons_3 = dmt['SAGE_bart_v4_21_day_assessment_BART0.25___number_of_balloons']\n",
    "explosions_3 = dmt['SAGE_bart_v4_21_day_assessment_BART0.25___number_of_explosions']\n",
    "\n",
    "balloons_4 = dmt['SAGE_bart_v4_21_day_assessment_BART250.00___number_of_balloons']\n",
    "explosions_4 = dmt['SAGE_bart_v4_21_day_assessment_BART250.00___number_of_explosions']\n",
    "\n",
    "balloons_5 = dmt['INQUISIT_bart___values.ballooncount']\n",
    "explosions_5 = dmt['INQUISIT_bart___values.total_explosions']\n",
    "\n",
    "balloons = balloons_1 + balloons_2 + balloons_3 + balloons_4 + balloons_5\n",
    "explosions = explosions_1 + explosions_2 + explosions_3 + explosions_4 + explosions_5"
   ]
  },
  {
   "cell_type": "code",
   "execution_count": 19,
   "metadata": {
    "scrolled": true
   },
   "outputs": [
    {
     "data": {
      "text/plain": [
       "<matplotlib.text.Text at 0x7f5d7581c898>"
      ]
     },
     "execution_count": 19,
     "metadata": {},
     "output_type": "execute_result"
    },
    {
     "data": {
      "image/png": "[encoded data removed]",
      "text/plain": [
       "<matplotlib.figure.Figure at 0x7f5d757ccc18>"
      ]
     },
     "metadata": {},
     "output_type": "display_data"
    }
   ],
   "source": [
    "pd.Series(explosions / balloons).plot.hist(title = '% of Explosions')\n",
    "plt.xlabel('% of Explosions')"
   ]
  },
  {
   "cell_type": "code",
   "execution_count": 84,
   "metadata": {},
   "outputs": [
    {
     "data": {
      "text/plain": [
       "12     0.100000\n",
       "71     0.100000\n",
       "73     0.100000\n",
       "94     0.100000\n",
       "34     0.100000\n",
       "58     0.122222\n",
       "17     0.122222\n",
       "90     0.133333\n",
       "47     0.133333\n",
       "30     0.144444\n",
       "10     0.144444\n",
       "48     0.144444\n",
       "99     0.166667\n",
       "55     0.166667\n",
       "41     0.166667\n",
       "102    0.166667\n",
       "21     0.166667\n",
       "42     0.177778\n",
       "77     0.177778\n",
       "76     0.188889\n",
       "84     0.188889\n",
       "46     0.211111\n",
       "67     0.211111\n",
       "3      0.222222\n",
       "6      0.222222\n",
       "39     0.222222\n",
       "15     0.233333\n",
       "87     0.233333\n",
       "22     0.233333\n",
       "57     0.233333\n",
       "         ...   \n",
       "5      0.322222\n",
       "28     0.333333\n",
       "49     0.344444\n",
       "81     0.344444\n",
       "13     0.344444\n",
       "44     0.355556\n",
       "31     0.355556\n",
       "16     0.366667\n",
       "40     0.377778\n",
       "4      0.388889\n",
       "54     0.400000\n",
       "74     0.400000\n",
       "66     0.400000\n",
       "24     0.411111\n",
       "32     0.433333\n",
       "36     0.444444\n",
       "83     0.455556\n",
       "50     0.466667\n",
       "86     0.477778\n",
       "25     0.477778\n",
       "60     0.488889\n",
       "85     0.511111\n",
       "93     0.522222\n",
       "96     0.522222\n",
       "19     0.566667\n",
       "82     0.566667\n",
       "8      0.600000\n",
       "18     0.622222\n",
       "56     0.644444\n",
       "9      0.944444\n",
       "dtype: float64"
      ]
     },
     "execution_count": 84,
     "metadata": {},
     "output_type": "execute_result"
    }
   ],
   "source": [
    "(explosions / balloons).sort_values().dropna()"
   ]
  }
 ],
 "metadata": {
  "kernelspec": {
   "display_name": "Python 3",
   "language": "python",
   "name": "python3"
  },
  "language_info": {
   "codemirror_mode": {
    "name": "ipython",
    "version": 3
   },
   "file_extension": ".py",
   "mimetype": "text/x-python",
   "name": "python",
   "nbconvert_exporter": "python",
   "pygments_lexer": "ipython3",
   "version": "3.5.2"
  }
 },
 "nbformat": 4,
 "nbformat_minor": 2
}
