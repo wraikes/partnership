{
 "cells": [
  {
   "cell_type": "code",
   "execution_count": 6,
   "metadata": {
    "collapsed": true
   },
   "outputs": [],
   "source": [
    "import pandas as pd, numpy as np, os\n",
    "pd.set_option('display.max_columns', 2000)"
   ]
  },
  {
   "cell_type": "markdown",
   "metadata": {},
   "source": [
    "## AM Survey Summary"
   ]
  },
  {
   "cell_type": "code",
   "execution_count": 66,
   "metadata": {},
   "outputs": [],
   "source": [
    "os.chdir('/home/wraikes/Dropbox/partnership/dmt/data/sage_am_pm/am_pm_filter/am_survey')"
   ]
  },
  {
   "cell_type": "code",
   "execution_count": 67,
   "metadata": {
    "collapsed": true
   },
   "outputs": [],
   "source": [
    "new_df = pd.DataFrame()\n",
    "\n",
    "for file in os.listdir():\n",
    "    df = pd.read_csv(file)\n",
    "    \n",
    "    for col in df.columns:\n",
    "        if df[col].dtype == 'float' or df[col].dtype == 'int':\n",
    "            new_df[col] = df.groupby('externalId_am')[col].mean()"
   ]
  },
  {
   "cell_type": "code",
   "execution_count": 68,
   "metadata": {
    "collapsed": true
   },
   "outputs": [],
   "source": [
    "new_df.to_csv('../../am_pm_summary/am_summary.csv')"
   ]
  },
  {
   "cell_type": "markdown",
   "metadata": {},
   "source": [
    "## PM Survey Summary"
   ]
  },
  {
   "cell_type": "code",
   "execution_count": 69,
   "metadata": {
    "collapsed": true
   },
   "outputs": [],
   "source": [
    "os.chdir('/home/wraikes/Dropbox/partnership/dmt/data/sage_am_pm/am_pm_filter/pm_survey')"
   ]
  },
  {
   "cell_type": "code",
   "execution_count": 71,
   "metadata": {},
   "outputs": [],
   "source": [
    "new_df = pd.DataFrame()\n",
    "\n",
    "for file in os.listdir():\n",
    "    df = pd.read_csv(file)\n",
    "    \n",
    "    for col in df.columns:\n",
    "        if df[col].dtype == 'float' or df[col].dtype == 'int':\n",
    "            new_df[col] = df.groupby('externalId_pm')[col].mean()"
   ]
  },
  {
   "cell_type": "code",
   "execution_count": 72,
   "metadata": {
    "collapsed": true
   },
   "outputs": [],
   "source": [
    "new_df.to_csv('../../am_pm_summary/pm_summary.csv')"
   ]
  }
 ],
 "metadata": {
  "kernelspec": {
   "display_name": "Python 3",
   "language": "python",
   "name": "python3"
  },
  "language_info": {
   "codemirror_mode": {
    "name": "ipython",
    "version": 3
   },
   "file_extension": ".py",
   "mimetype": "text/x-python",
   "name": "python",
   "nbconvert_exporter": "python",
   "pygments_lexer": "ipython3",
   "version": "3.5.2"
  }
 },
 "nbformat": 4,
 "nbformat_minor": 2
}
