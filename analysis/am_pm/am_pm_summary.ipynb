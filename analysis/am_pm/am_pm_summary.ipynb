{
 "cells": [
  {
   "cell_type": "code",
   "execution_count": 16,
   "metadata": {
    "collapsed": true
   },
   "outputs": [],
   "source": [
    "import pandas as pd, numpy as np, os\n",
    "pd.set_option('display.max_columns', 2000)"
   ]
  },
  {
   "cell_type": "markdown",
   "metadata": {},
   "source": [
    "## AM Survey Summary"
   ]
  },
  {
   "cell_type": "code",
   "execution_count": 17,
   "metadata": {
    "collapsed": true
   },
   "outputs": [],
   "source": [
    "os.chdir(r'C:\\Users\\williamr.PDFK\\Dropbox\\partnership\\dmt\\data\\sage_am_pm\\am_pm_filter\\am_survey')\n",
    "#os.chdir('/home/wraikes/Dropbox/partnership/dmt/data/sage_am_pm/am_pm_filter/am_survey')"
   ]
  },
  {
   "cell_type": "code",
   "execution_count": 18,
   "metadata": {
    "collapsed": true
   },
   "outputs": [],
   "source": [
    "new_df = pd.DataFrame()\n",
    "\n",
    "for file in os.listdir():\n",
    "    df = pd.read_csv(file)\n",
    "    \n",
    "    for col in df.columns:\n",
    "        if df[col].dtype == 'float' or df[col].dtype == 'int':\n",
    "            new_df[col] = df.groupby('externalId_am')[col].mean()"
   ]
  },
  {
   "cell_type": "code",
   "execution_count": 19,
   "metadata": {
    "collapsed": true
   },
   "outputs": [],
   "source": [
    "new_df.to_csv('../../am_pm_summary/am_summary_1-2-18.csv')"
   ]
  },
  {
   "cell_type": "markdown",
   "metadata": {},
   "source": [
    "## PM Survey Summary"
   ]
  },
  {
   "cell_type": "code",
   "execution_count": 20,
   "metadata": {
    "collapsed": true
   },
   "outputs": [],
   "source": [
    "os.chdir(r'C:\\Users\\williamr.PDFK\\Dropbox\\partnership\\dmt\\data\\sage_am_pm\\am_pm_filter\\pm_survey')\n",
    "#os.chdir('/home/wraikes/Dropbox/partnership/dmt/data/sage_am_pm/am_pm_filter/pm_survey')"
   ]
  },
  {
   "cell_type": "code",
   "execution_count": 21,
   "metadata": {
    "collapsed": true
   },
   "outputs": [],
   "source": [
    "new_df = pd.DataFrame()\n",
    "\n",
    "for file in os.listdir():\n",
    "    df = pd.read_csv(file)\n",
    "    \n",
    "    for col in df.columns:\n",
    "        if df[col].dtype == 'float' or df[col].dtype == 'int':\n",
    "            new_df[col] = df.groupby('externalId_pm')[col].mean()"
   ]
  },
  {
   "cell_type": "code",
   "execution_count": 22,
   "metadata": {
    "collapsed": true
   },
   "outputs": [],
   "source": [
    "new_df.to_csv('../../am_pm_summary/pm_summary_1-2-18.csv')"
   ]
  }
 ],
 "metadata": {
  "kernelspec": {
   "display_name": "Python [Root]",
   "language": "python",
   "name": "Python [Root]"
  },
  "language_info": {
   "codemirror_mode": {
    "name": "ipython",
    "version": 3
   },
   "file_extension": ".py",
   "mimetype": "text/x-python",
   "name": "python",
   "nbconvert_exporter": "python",
   "pygments_lexer": "ipython3",
   "version": "3.5.2"
  }
 },
 "nbformat": 4,
 "nbformat_minor": 2
}
