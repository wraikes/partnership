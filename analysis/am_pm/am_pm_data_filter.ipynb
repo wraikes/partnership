{
 "cells": [
  {
   "cell_type": "markdown",
   "metadata": {},
   "source": [
    "Questions:\n",
    "- Separate am and pm into two dataframes?  (Both individual df's and summary df).\n",
    "\n",
    "To do:\n",
    "\n",
    "\n",
    "Steps:\n",
    "- Remove duplicates (dupe check)\n",
    "- Remove test cases (remove_dupes)\n",
    "- Redo timestamps (time_stamp)\n",
    "- Rename columns.\n",
    "- Pull out array values.\n",
    "- Split time values. Create \"mean time\"\n",
    "- Process \"selected\" for evening df's.\n"
   ]
  },
  {
   "cell_type": "code",
   "execution_count": 1,
   "metadata": {
    "collapsed": true
   },
   "outputs": [],
   "source": [
    "import numpy as np, pandas as pd, os, re, time\n",
    "os.chdir('/home/wraikes/Dropbox/partnership/dmt/data/sage_final')"
   ]
  },
  {
   "cell_type": "code",
   "execution_count": 38,
   "metadata": {
    "collapsed": true,
    "scrolled": false
   },
   "outputs": [],
   "source": [
    "def am_pm_data(files):\n",
    "    for file in files:\n",
    "        df = pd.read_csv(file)\n",
    "        name = create_df_name(file)\n",
    "        \n",
    "        if 'metadata.json.taskIdentifier' in df.columns:\n",
    "\n",
    "            df = dupe_check(df, name)\n",
    "            df = remove_dupes(df)\n",
    "            df = df[(df['metadata.json.taskIdentifier'] == 'am_survey') | \n",
    "                    (df['metadata.json.taskIdentifier'] == 'pm_survey')]\n",
    "        \n",
    "            if df.shape[0] > 0: \n",
    "                print(file)\n",
    "                df = time_stamp(df)\n",
    "                df = col_relabel(df, name)\n",
    "                df = discount(df)\n",
    "                \n",
    "                if 'behavior' in name:\n",
    "                    df = selected_spread(df)\n",
    "                    \n",
    "                if 'bart' in name:\n",
    "                    df = std_change(df)\n",
    "\n",
    "                df.to_csv('../sage_am_pm/am_pm_filter/' + file, index=False)"
   ]
  },
  {
   "cell_type": "code",
   "execution_count": 3,
   "metadata": {
    "collapsed": true
   },
   "outputs": [],
   "source": [
    "def create_df_name(string):\n",
    "    string = string.replace('digital-marshmallow-', '')\n",
    "    string = string.replace('.csv', '')\n",
    "    \n",
    "    return string "
   ]
  },
  {
   "cell_type": "code",
   "execution_count": 4,
   "metadata": {
    "collapsed": true
   },
   "outputs": [],
   "source": [
    "def remove_dupes(df):\n",
    "    \n",
    "    test_users = [\n",
    "        'ThpMV2Achc', \n",
    "        'SEkQVTCe6j', \n",
    "        'Wh8NSX3DHL', \n",
    "        'SaXFr2kPZa', \n",
    "        'VWUcSp4TeH', \n",
    "        'yXEfAmW682', \n",
    "        'gwEpQR8j9B',\n",
    "        'WbbNWM4RAF', \n",
    "        'D5bzYrfd8E', \n",
    "        'LJcmEFWp74', \n",
    "        'ULoF3MM1nN',\n",
    "        'G9Bbsg'\n",
    "    ]\n",
    "\n",
    "    diff_study = [\n",
    "        'rL8eA3',\n",
    "        'rLg5xs',\n",
    "        'rLrD9h',\n",
    "        'rLP7H2',\n",
    "        'rL6s6h',\n",
    "        'aOyzBg',\n",
    "        'aORA43',\n",
    "        'aOh48U',\n",
    "        'aOLu4K',\n",
    "        'aOQtxv',\n",
    "        'aO5TvQ',\n",
    "        'mPC9S8',\n",
    "        'mPgquX',\n",
    "        'mP5xkB',\n",
    "        'mPSQvh',\n",
    "        'mPYk2p',\n",
    "        'mP3rbd'\n",
    "    ]\n",
    "  \n",
    "    return df[~df.externalId.isin(test_users + diff_study)]"
   ]
  },
  {
   "cell_type": "code",
   "execution_count": 5,
   "metadata": {
    "collapsed": true
   },
   "outputs": [],
   "source": [
    "def time_stamp(df):\n",
    "    \n",
    "    for col in df.columns:\n",
    "        if any([col.endswith(x) for x in ('createdOn', 'startDate', 'endDate')]):\n",
    "            df[col] = df[col][df[col].notnull()].apply(lambda x: time.strftime(\"%m.%d.%Y %H:%M - %Z\", time.localtime(x / 1000)))\n",
    "    \n",
    "    return df"
   ]
  },
  {
   "cell_type": "code",
   "execution_count": 6,
   "metadata": {
    "collapsed": true
   },
   "outputs": [],
   "source": [
    "def dupe_check(df, name):\n",
    "    \n",
    "    if name == 'goNoGo-v2':\n",
    "        df = clean_df_dupe(df, 'ksJM3Y', -1)\n",
    "        df = clean_df_dupe(df, 'S6b4eL', 11)\n",
    "    \n",
    "    elif name == 'delay_discounting_raw-v6':\n",
    "        df = clean_df_dupe(df, 'S6b4eL', 2)\n",
    "        \n",
    "    elif name == 'discounting_raw-v2':\n",
    "        df = clean_df_dupe(df, 'S6b4eL', 5)\n",
    "    \n",
    "    elif name == 'behavior_choices_4_bl-v2':\n",
    "        df = clean_df_dupe(df, 'yQ7pYy', -1)\n",
    "    \n",
    "    return df\n",
    "\n",
    "\n",
    "def clean_df_dupe(df, _id, pos):\n",
    "   \n",
    "    indices = df.index[df.externalId == _id]\n",
    "    df.drop(indices[pos], axis=0, inplace=True)\n",
    "    \n",
    "    return df"
   ]
  },
  {
   "cell_type": "code",
   "execution_count": 7,
   "metadata": {
    "collapsed": true
   },
   "outputs": [],
   "source": [
    "def col_relabel(df, name):\n",
    "    '''\n",
    "    Remove: 'metadata.json.' and 'data.json.'.\n",
    "    Replace spaces with underscores.\n",
    "    Append new name to existing column name, except if externalId.\n",
    "    '''\n",
    "    new_cols = []\n",
    "    col_re = re.compile('metadata.json.|data.json.')\n",
    "    \n",
    "    for col in df.columns:\n",
    "        new_col = re.sub(col_re, '', col)\n",
    "    \n",
    "        if new_col != 'externalId':\n",
    "            new_col = 'SAGE_{}___{}'.format(name, \n",
    "                                            new_col\n",
    "                                            )\n",
    "                                              \n",
    "        new_col = new_col.replace(' ', '_')\n",
    "        new_col = new_col.replace('-', '_')\n",
    "        new_cols.append(new_col)\n",
    "    \n",
    "    df.columns = new_cols\n",
    "    \n",
    "    return df"
   ]
  },
  {
   "cell_type": "code",
   "execution_count": 8,
   "metadata": {
    "collapsed": true
   },
   "outputs": [],
   "source": [
    "def col_convert_dd(row, ix=None):\n",
    "    '''\n",
    "    Convert a column that contains a string of a list of strings, into a list of floats.\n",
    "    \n",
    "    Inputs\n",
    "        row: a string of a list of strings.\n",
    "        \n",
    "    Output\n",
    "        returns the list of floats\n",
    "    \n",
    "    '''\n",
    "    if pd.notnull(row) and ix:\n",
    "        return [float(x) for x in row.strip('[]').split(',')][ix]\n",
    "    \n",
    "    elif pd.notnull(row):\n",
    "        return [float(x) for x in row.strip('[]').split(',')]\n",
    "    \n",
    "    else:\n",
    "        return row\n",
    "    \n",
    "    \n",
    "def array_split(value, i):\n",
    "    if pd.notnull(value):\n",
    "        return list(map(float, value[1:-1].split(',')))[i]\n",
    "    else:\n",
    "        return value\n",
    "\n",
    "    \n",
    "def discount(df):\n",
    "    new_df = df.copy()\n",
    "    \n",
    "    for col in df.columns:\n",
    "        #Create new column using \"last\" number in 'choiceArray'.\n",
    "        if 'choiceArray' in col or 'nowArray' in col or 'variableArray' in col:\n",
    "            col_name = col + '_last'\n",
    "            new_df[col_name] = df[col].apply(lambda x: col_convert_dd(x, -1))   \n",
    "    \n",
    "        #Split times into new columns and times mean column.\n",
    "        if 'times' in col:\n",
    "            for i in range(6):\n",
    "                new_col = col + '_v' + str(i)\n",
    "                new_df[new_col] = df[col].apply(lambda x: array_split(x, i))\n",
    "    \n",
    "            col_name = col + '_mean'\n",
    "            new_df[col_name] = df[col].apply(lambda x: np.mean(col_convert_dd(x)))\n",
    "                \n",
    "    return new_df"
   ]
  },
  {
   "cell_type": "code",
   "execution_count": 10,
   "metadata": {
    "collapsed": true
   },
   "outputs": [],
   "source": [
    "def selected_spread(df):\n",
    "    #Note: codebook is incorrect. 'gamble' vs. 'gambling'.\n",
    "    terms = ['junkfood', 'gambling', 'smoke', 'mobile', 'overeat', 'mast', 'cut', 'smedia',\n",
    "             'alcohol', 'porn', 'hair', 'gaming', 'sitting', 'spend', 'temper', 'othermore']\n",
    "\n",
    "    for term in terms:\n",
    "        col_name = 'SAGE_morning_behavior_choices_v1___selected' + '_' + term\n",
    "        df[col_name] = np.where(df['SAGE_morning_behavior_choices_v1___selected'].str.contains(term), 1, 0)\n",
    "        \n",
    "    return df"
   ]
  },
  {
   "cell_type": "code",
   "execution_count": 32,
   "metadata": {
    "collapsed": true
   },
   "outputs": [],
   "source": [
    "def col_convert_bart(row):\n",
    "    '''\n",
    "    Convert a column that contains a string of a list of strings, into a list of floats.  \n",
    "    \n",
    "    Inputs\n",
    "        row: a string of a list of strings.\n",
    "        \n",
    "    Output\n",
    "        returns a list of floats\n",
    "    \n",
    "    '''\n",
    "    if pd.notnull(row):\n",
    "        return [float(x) for x in row.strip('[]').split(',')]\n",
    "    \n",
    "    else:\n",
    "        return row\n",
    "\n",
    "\n",
    "def std_change(df):\n",
    "    name = 'SAGE_bart_v4'\n",
    "\n",
    "    stds = [\n",
    "        '___pumps_standard_deviation',\n",
    "        '___pumps_standard_deviation_first_third',\n",
    "        '___pumps_standard_deviation_second_third',\n",
    "        '___pumps_standard_deviation_last_third'\n",
    "    ]\n",
    "\n",
    "    df[name + stds[0]] = df[name + '___pumps_per_balloon'].apply(col_convert_bart).apply(np.std)\n",
    "    df[name + stds[1]] = df[name + '___pumps_per_balloon'].apply(col_convert_bart).apply(lambda x: x if np.any(pd.isnull(x)) else x[:5]).apply(np.std)\n",
    "    df[name + stds[2]] = df[name + '___pumps_per_balloon'].apply(col_convert_bart).apply(lambda x: x if np.any(pd.isnull(x)) else x[5:10]).apply(np.std)\n",
    "    df[name + stds[3]] = df[name + '___pumps_per_balloon'].apply(col_convert_bart).apply(lambda x: x if np.any(pd.isnull(x)) else x[10:]).apply(np.std)\n",
    "        \n",
    "    return df"
   ]
  },
  {
   "cell_type": "code",
   "execution_count": 40,
   "metadata": {
    "scrolled": false
   },
   "outputs": [
    {
     "name": "stdout",
     "output_type": "stream",
     "text": [
      "digital-marshmallow-goNoGo-v2.csv\n",
      "digital-marshmallow-morning_yesterday_sem_diff-v2.csv\n",
      "digital-marshmallow-morning_sem_diff-v2.csv\n",
      "digital-marshmallow-pam-v2.csv\n",
      "digital-marshmallow-delay_discounting_raw-v6.csv\n",
      "digital-marshmallow-evening_sem_diff-v2.csv\n",
      "digital-marshmallow-morning_behavior_choices-v1.csv\n",
      "digital-marshmallow-discounting_raw-v2.csv\n",
      "digital-marshmallow-morning_yesterday_likert-v2.csv\n",
      "digital-marshmallow-bart-v4.csv\n"
     ]
    }
   ],
   "source": [
    "am_pm_data(os.listdir())"
   ]
  }
 ],
 "metadata": {
  "kernelspec": {
   "display_name": "Python 3",
   "language": "python",
   "name": "python3"
  },
  "language_info": {
   "codemirror_mode": {
    "name": "ipython",
    "version": 3
   },
   "file_extension": ".py",
   "mimetype": "text/x-python",
   "name": "python",
   "nbconvert_exporter": "python",
   "pygments_lexer": "ipython3",
   "version": "3.5.2"
  }
 },
 "nbformat": 4,
 "nbformat_minor": 2
}
