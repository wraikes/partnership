{
 "cells": [
  {
   "cell_type": "code",
   "execution_count": 1,
   "metadata": {
    "collapsed": true
   },
   "outputs": [],
   "source": [
    "import numpy as np, pandas as pd, os, matplotlib.pyplot as plt\n",
    "%matplotlib inline\n",
    "pd.set_option('display.max_columns', 2000)"
   ]
  },
  {
   "cell_type": "markdown",
   "metadata": {},
   "source": [
    "## AM"
   ]
  },
  {
   "cell_type": "code",
   "execution_count": 2,
   "metadata": {
    "collapsed": true
   },
   "outputs": [],
   "source": [
    "os.chdir('/home/wraikes/Dropbox/partnership/dmt/data/sage_am_pm/am_pm_filter/am_survey')\n",
    "\n",
    "bart_am = pd.read_csv('digital-marshmallow-bart-v4.csv')\n",
    "delay_am = pd.read_csv('digital-marshmallow-delay_discounting_raw-v6.csv')\n",
    "discounting_am = pd.read_csv('digital-marshmallow-discounting_raw-v2.csv')\n",
    "gonogo_am = pd.read_csv('digital-marshmallow-goNoGo-v2.csv')"
   ]
  },
  {
   "cell_type": "code",
   "execution_count": 3,
   "metadata": {
    "collapsed": true
   },
   "outputs": [],
   "source": [
    "delay_am.loc[[295], 'SAGE_delay_discounting_raw_v6___times_v3_am'] = np.nan\n",
    "delay_am.loc[[240, 295], 'SAGE_delay_discounting_raw_v6___times_v4_am'] = np.nan"
   ]
  },
  {
   "cell_type": "code",
   "execution_count": 4,
   "metadata": {
    "collapsed": true
   },
   "outputs": [],
   "source": [
    "discounting_am.loc[[8], 'SAGE_discounting_raw_v2___times_v0_am'] = np.nan\n",
    "discounting_am.loc[[167], 'SAGE_discounting_raw_v2___times_v1_am'] = np.nan\n",
    "discounting_am.loc[[76], 'SAGE_discounting_raw_v2___times_v2_am'] = np.nan\n",
    "discounting_am.loc[[28], 'SAGE_discounting_raw_v2___times_v3_am'] = np.nan"
   ]
  },
  {
   "cell_type": "code",
   "execution_count": 5,
   "metadata": {},
   "outputs": [],
   "source": [
    "for col in gonogo_am:\n",
    "    if 'number_of' in col or 'response_time' in col:\n",
    "        gonogo_am.loc[354, col] = np.nan"
   ]
  },
  {
   "cell_type": "code",
   "execution_count": 6,
   "metadata": {
    "collapsed": true
   },
   "outputs": [],
   "source": [
    "bart_am.to_csv('digital-marshmallow-bart-v4.csv')\n",
    "delay_am.to_csv('digital-marshmallow-delay_discounting_raw-v6.csv')\n",
    "discounting_am.to_csv('digital-marshmallow-discounting_raw-v2.csv')\n",
    "gonogo_am.to_csv('digital-marshmallow-goNoGo-v2.csv')"
   ]
  },
  {
   "cell_type": "markdown",
   "metadata": {},
   "source": [
    "## PM"
   ]
  },
  {
   "cell_type": "code",
   "execution_count": 7,
   "metadata": {
    "collapsed": true
   },
   "outputs": [],
   "source": [
    "os.chdir('/home/wraikes/Dropbox/partnership/dmt/data/sage_am_pm/am_pm_filter/pm_survey')\n",
    "\n",
    "bart_pm = pd.read_csv('digital-marshmallow-bart-v4.csv')\n",
    "delay_pm = pd.read_csv('digital-marshmallow-delay_discounting_raw-v6.csv')\n",
    "discounting_pm = pd.read_csv('digital-marshmallow-discounting_raw-v2.csv')\n",
    "gonogo_pm = pd.read_csv('digital-marshmallow-goNoGo-v2.csv')"
   ]
  },
  {
   "cell_type": "code",
   "execution_count": 8,
   "metadata": {
    "collapsed": true
   },
   "outputs": [],
   "source": [
    "delay_pm.loc[[370], 'SAGE_delay_discounting_raw_v6___times_v2_pm'] = np.nan\n",
    "delay_pm.loc[[325, 386, 370, 216], 'SAGE_delay_discounting_raw_v6___times_v3_pm'] = np.nan"
   ]
  },
  {
   "cell_type": "code",
   "execution_count": 9,
   "metadata": {
    "collapsed": true
   },
   "outputs": [],
   "source": [
    "discounting_pm.loc[[97], 'SAGE_discounting_raw_v2___times_v1_pm'] = np.nan"
   ]
  },
  {
   "cell_type": "code",
   "execution_count": 10,
   "metadata": {
    "collapsed": true
   },
   "outputs": [],
   "source": [
    "bart_pm.to_csv('digital-marshmallow-bart-v4.csv')\n",
    "delay_pm.to_csv('digital-marshmallow-delay_discounting_raw-v6.csv')\n",
    "discounting_pm.to_csv('digital-marshmallow-discounting_raw-v2.csv')\n",
    "gonogo_pm.to_csv('digital-marshmallow-goNoGo-v2.csv')"
   ]
  }
 ],
 "metadata": {
  "kernelspec": {
   "display_name": "Python 3",
   "language": "python",
   "name": "python3"
  },
  "language_info": {
   "codemirror_mode": {
    "name": "ipython",
    "version": 3
   },
   "file_extension": ".py",
   "mimetype": "text/x-python",
   "name": "python",
   "nbconvert_exporter": "python",
   "pygments_lexer": "ipython3",
   "version": "3.5.2"
  }
 },
 "nbformat": 4,
 "nbformat_minor": 2
}
