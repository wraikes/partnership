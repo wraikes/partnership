{
 "cells": [
  {
   "cell_type": "code",
   "execution_count": 1,
   "metadata": {
    "collapsed": true
   },
   "outputs": [],
   "source": [
    "import numpy as np, pandas as pd, os, matplotlib.pyplot as plt\n",
    "%matplotlib inline\n",
    "pd.set_option('display.max_columns', 2000)\n",
    "os.chdir('/home/wraikes/Dropbox/partnership/dmt/data/sage_am_pm/am_pm_summary')"
   ]
  },
  {
   "cell_type": "code",
   "execution_count": 2,
   "metadata": {
    "collapsed": true
   },
   "outputs": [],
   "source": [
    "am = pd.read_csv('am_summary_12-31-17.csv')\n",
    "pm = pd.read_csv('pm_summary_12-31-17.csv')"
   ]
  },
  {
   "cell_type": "code",
   "execution_count": 3,
   "metadata": {
    "scrolled": false
   },
   "outputs": [
    {
     "data": {
      "text/html": [
       "<div>\n",
       "<style scoped>\n",
       "    .dataframe tbody tr th:only-of-type {\n",
       "        vertical-align: middle;\n",
       "    }\n",
       "\n",
       "    .dataframe tbody tr th {\n",
       "        vertical-align: top;\n",
       "    }\n",
       "\n",
       "    .dataframe thead th {\n",
       "        text-align: right;\n",
       "    }\n",
       "</style>\n",
       "<table border=\"1\" class=\"dataframe\">\n",
       "  <thead>\n",
       "    <tr style=\"text-align: right;\">\n",
       "      <th></th>\n",
       "      <th>SAGE_goNoGo_v2___ROW_ID_am</th>\n",
       "      <th>SAGE_goNoGo_v2___ROW_VERSION_am</th>\n",
       "      <th>SAGE_goNoGo_v2___createdOnTimeZone_am</th>\n",
       "      <th>SAGE_goNoGo_v2___startDate.timezone_am</th>\n",
       "      <th>SAGE_goNoGo_v2___endDate.timezone_am</th>\n",
       "      <th>SAGE_goNoGo_v2___number_of_trials_am</th>\n",
       "      <th>SAGE_goNoGo_v2___number_of_correct_responses_am</th>\n",
       "      <th>SAGE_goNoGo_v2___number_of_correct_responses_first_third_am</th>\n",
       "      <th>SAGE_goNoGo_v2___number_of_correct_responses_second_third_am</th>\n",
       "      <th>SAGE_goNoGo_v2___number_of_correct_responses_last_third_am</th>\n",
       "      <th>SAGE_goNoGo_v2___number_of_correct_nonresponses_am</th>\n",
       "      <th>SAGE_goNoGo_v2___number_of_correct_nonresponses_first_third_am</th>\n",
       "      <th>SAGE_goNoGo_v2___number_of_correct_nonresponses_second_third_am</th>\n",
       "      <th>SAGE_goNoGo_v2___number_of_correct_nonresponses_last_third_am</th>\n",
       "      <th>SAGE_goNoGo_v2___number_of_incorrect_responses_am</th>\n",
       "      <th>SAGE_goNoGo_v2___number_of_incorrect_responses_first_third_am</th>\n",
       "      <th>SAGE_goNoGo_v2___number_of_incorrect_responses_second_third_am</th>\n",
       "      <th>SAGE_goNoGo_v2___number_of_incorrect_responses_last_third_am</th>\n",
       "      <th>SAGE_goNoGo_v2___number_of_incorrect_nonresponses_am</th>\n",
       "      <th>SAGE_goNoGo_v2___number_of_incorrect_nonresponses_first_third_am</th>\n",
       "      <th>SAGE_goNoGo_v2___number_of_incorrect_nonresponses_second_third_am</th>\n",
       "      <th>SAGE_goNoGo_v2___number_of_incorrect_nonresponses_last_third_am</th>\n",
       "      <th>SAGE_goNoGo_v2___response_time_mean_am</th>\n",
       "      <th>SAGE_goNoGo_v2___response_time_mean_first_third_am</th>\n",
       "      <th>SAGE_goNoGo_v2___response_time_mean_second_third_am</th>\n",
       "      <th>SAGE_goNoGo_v2___response_time_mean_last_third_am</th>\n",
       "      <th>SAGE_goNoGo_v2___response_time_range_am</th>\n",
       "      <th>SAGE_goNoGo_v2___response_time_range_first_third_am</th>\n",
       "      <th>SAGE_goNoGo_v2___response_time_range_second_third_am</th>\n",
       "      <th>SAGE_goNoGo_v2___response_time_range_last_third_am</th>\n",
       "      <th>SAGE_goNoGo_v2___response_time_std_dev_am</th>\n",
       "      <th>SAGE_goNoGo_v2___response_time_std_dev_first_third_am</th>\n",
       "      <th>SAGE_goNoGo_v2___response_time_std_dev_second_third_am</th>\n",
       "      <th>SAGE_goNoGo_v2___response_time_std_dev_last_third_am</th>\n",
       "      <th>SAGE_goNoGo_v2___response_time_mean_after_one_incorrect_am</th>\n",
       "      <th>SAGE_goNoGo_v2___response_time_mean_after_one_incorrect_first_third_am</th>\n",
       "      <th>SAGE_goNoGo_v2___response_time_mean_after_one_incorrect_second_third_am</th>\n",
       "      <th>SAGE_goNoGo_v2___response_time_mean_after_one_incorrect_last_third_am</th>\n",
       "      <th>SAGE_goNoGo_v2___response_time_mean_after_ten_correct_am</th>\n",
       "      <th>SAGE_goNoGo_v2___response_time_mean_after_ten_correct_first_third_am</th>\n",
       "      <th>SAGE_goNoGo_v2___response_time_mean_after_ten_correct_second_third_am</th>\n",
       "      <th>SAGE_goNoGo_v2___response_time_mean_after_ten_correct_last_third_am</th>\n",
       "      <th>SAGE_goNoGo_v2___response_time_mean_correct_am</th>\n",
       "      <th>SAGE_goNoGo_v2___response_time_mean_correct_first_third_am</th>\n",
       "      <th>SAGE_goNoGo_v2___response_time_mean_correct_second_third_am</th>\n",
       "      <th>SAGE_goNoGo_v2___response_time_mean_correct_last_third_am</th>\n",
       "      <th>SAGE_goNoGo_v2___response_time_mean_incorrect_am</th>\n",
       "      <th>SAGE_goNoGo_v2___response_time_mean_incorrect_first_third_am</th>\n",
       "      <th>SAGE_goNoGo_v2___response_time_mean_incorrect_second_third_am</th>\n",
       "      <th>SAGE_goNoGo_v2___response_time_mean_incorrect_last_third_am</th>\n",
       "      <th>SAGE_goNoGo_v2___researcher_code_am</th>\n",
       "      <th>SAGE_morning_yesterday_sem_diff_v2___ROW_ID_am</th>\n",
       "      <th>SAGE_morning_yesterday_sem_diff_v2___ROW_VERSION_am</th>\n",
       "      <th>SAGE_morning_yesterday_sem_diff_v2___createdOnTimeZone_am</th>\n",
       "      <th>SAGE_morning_yesterday_sem_diff_v2___startDate.timezone_am</th>\n",
       "      <th>SAGE_morning_yesterday_sem_diff_v2___endDate.timezone_am</th>\n",
       "      <th>SAGE_morning_yesterday_sem_diff_v2___positive_am_am</th>\n",
       "      <th>SAGE_morning_yesterday_sem_diff_v2___intentional_am_am</th>\n",
       "      <th>SAGE_morning_yesterday_sem_diff_v2___productive_am_am</th>\n",
       "      <th>SAGE_morning_yesterday_sem_diff_v2___stressed_am_am</th>\n",
       "      <th>SAGE_morning_yesterday_sem_diff_v2___healthy_am_am</th>\n",
       "      <th>SAGE_morning_sem_diff_v2___ROW_ID_am</th>\n",
       "      <th>SAGE_morning_sem_diff_v2___ROW_VERSION_am</th>\n",
       "      <th>SAGE_morning_sem_diff_v2___createdOnTimeZone_am</th>\n",
       "      <th>SAGE_morning_sem_diff_v2___startDate.timezone_am</th>\n",
       "      <th>SAGE_morning_sem_diff_v2___endDate.timezone_am</th>\n",
       "      <th>SAGE_morning_sem_diff_v2___focusnow_am_am</th>\n",
       "      <th>SAGE_morning_sem_diff_v2___intentionalnow_am_am</th>\n",
       "      <th>SAGE_morning_sem_diff_v2___borednow_am_am</th>\n",
       "      <th>SAGE_morning_sem_diff_v2___proudnow_am_am</th>\n",
       "      <th>SAGE_morning_sem_diff_v2___energeticnow_am_am</th>\n",
       "      <th>SAGE_morning_sem_diff_v2___frustratednow_am_am</th>\n",
       "      <th>SAGE_morning_sem_diff_v2___cautiousnow_am_am</th>\n",
       "      <th>SAGE_morning_sem_diff_v2___lonelynow_am_am</th>\n",
       "      <th>SAGE_morning_sem_diff_v2___optimisticnow_am_am</th>\n",
       "      <th>SAGE_morning_sem_diff_v2___determinednow_am_am</th>\n",
       "      <th>SAGE_pam_v2___ROW_ID_am</th>\n",
       "      <th>SAGE_pam_v2___ROW_VERSION_am</th>\n",
       "      <th>SAGE_pam_v2___createdOnTimeZone_am</th>\n",
       "      <th>SAGE_pam_v2___startDate.timezone_am</th>\n",
       "      <th>SAGE_pam_v2___endDate.timezone_am</th>\n",
       "      <th>SAGE_pam_v2___affect_valence_am</th>\n",
       "      <th>SAGE_pam_v2___affect_arousal_am</th>\n",
       "      <th>SAGE_pam_v2___positive_affect_am</th>\n",
       "      <th>SAGE_pam_v2___negative_affect_am</th>\n",
       "      <th>SAGE_delay_discounting_raw_v6___ROW_ID_am</th>\n",
       "      <th>SAGE_delay_discounting_raw_v6___ROW_VERSION_am</th>\n",
       "      <th>SAGE_delay_discounting_raw_v6___createdOnTimeZone_am</th>\n",
       "      <th>SAGE_delay_discounting_raw_v6___startDate.timezone_am</th>\n",
       "      <th>SAGE_delay_discounting_raw_v6___endDate.timezone_am</th>\n",
       "      <th>SAGE_delay_discounting_raw_v6___nowArray_last_am</th>\n",
       "      <th>SAGE_delay_discounting_raw_v6___choiceArray_last_am</th>\n",
       "      <th>SAGE_delay_discounting_raw_v6___times_v0_am</th>\n",
       "      <th>SAGE_delay_discounting_raw_v6___times_v1_am</th>\n",
       "      <th>SAGE_delay_discounting_raw_v6___times_v2_am</th>\n",
       "      <th>SAGE_delay_discounting_raw_v6___times_v3_am</th>\n",
       "      <th>SAGE_delay_discounting_raw_v6___times_v4_am</th>\n",
       "      <th>SAGE_delay_discounting_raw_v6___times_v5_am</th>\n",
       "      <th>SAGE_delay_discounting_raw_v6___times_mean_am</th>\n",
       "      <th>SAGE_morning_behavior_choices_v1___ROW_ID_am</th>\n",
       "      <th>SAGE_morning_behavior_choices_v1___ROW_VERSION_am</th>\n",
       "      <th>SAGE_morning_behavior_choices_v1___createdOnTimeZone_am</th>\n",
       "      <th>SAGE_morning_behavior_choices_v1___startDate.timezone_am</th>\n",
       "      <th>SAGE_morning_behavior_choices_v1___endDate.timezone_am</th>\n",
       "      <th>SAGE_morning_behavior_choices_v1___selected_junkfood_am</th>\n",
       "      <th>SAGE_morning_behavior_choices_v1___selected_gambling_am</th>\n",
       "      <th>SAGE_morning_behavior_choices_v1___selected_smoke_am</th>\n",
       "      <th>SAGE_morning_behavior_choices_v1___selected_mobile_am</th>\n",
       "      <th>SAGE_morning_behavior_choices_v1___selected_overeat_am</th>\n",
       "      <th>SAGE_morning_behavior_choices_v1___selected_mast_am</th>\n",
       "      <th>SAGE_morning_behavior_choices_v1___selected_cut_am</th>\n",
       "      <th>SAGE_morning_behavior_choices_v1___selected_smedia_am</th>\n",
       "      <th>SAGE_morning_behavior_choices_v1___selected_alcohol_am</th>\n",
       "      <th>SAGE_morning_behavior_choices_v1___selected_porn_am</th>\n",
       "      <th>SAGE_morning_behavior_choices_v1___selected_hair_am</th>\n",
       "      <th>SAGE_morning_behavior_choices_v1___selected_gaming_am</th>\n",
       "      <th>SAGE_morning_behavior_choices_v1___selected_sitting_am</th>\n",
       "      <th>SAGE_morning_behavior_choices_v1___selected_spend_am</th>\n",
       "      <th>SAGE_morning_behavior_choices_v1___selected_temper_am</th>\n",
       "      <th>SAGE_morning_behavior_choices_v1___selected_othermore_am</th>\n",
       "      <th>SAGE_discounting_raw_v2___ROW_ID_am</th>\n",
       "      <th>SAGE_discounting_raw_v2___ROW_VERSION_am</th>\n",
       "      <th>SAGE_discounting_raw_v2___dataGroups_am</th>\n",
       "      <th>SAGE_discounting_raw_v2___createdOnTimeZone_am</th>\n",
       "      <th>SAGE_discounting_raw_v2___startDate.timezone_am</th>\n",
       "      <th>SAGE_discounting_raw_v2___endDate.timezone_am</th>\n",
       "      <th>SAGE_discounting_raw_v2___variableArray_last_am</th>\n",
       "      <th>SAGE_discounting_raw_v2___choiceArray_last_am</th>\n",
       "      <th>SAGE_discounting_raw_v2___times_v0_am</th>\n",
       "      <th>SAGE_discounting_raw_v2___times_v1_am</th>\n",
       "      <th>SAGE_discounting_raw_v2___times_v2_am</th>\n",
       "      <th>SAGE_discounting_raw_v2___times_v3_am</th>\n",
       "      <th>SAGE_discounting_raw_v2___times_v4_am</th>\n",
       "      <th>SAGE_discounting_raw_v2___times_v5_am</th>\n",
       "      <th>SAGE_discounting_raw_v2___times_mean_am</th>\n",
       "      <th>SAGE_morning_yesterday_likert_v2___ROW_ID_am</th>\n",
       "      <th>SAGE_morning_yesterday_likert_v2___ROW_VERSION_am</th>\n",
       "      <th>SAGE_morning_yesterday_likert_v2___createdOnTimeZone_am</th>\n",
       "      <th>SAGE_morning_yesterday_likert_v2___startDate.timezone_am</th>\n",
       "      <th>SAGE_morning_yesterday_likert_v2___endDate.timezone_am</th>\n",
       "      <th>SAGE_morning_yesterday_likert_v2___regret_am_am</th>\n",
       "      <th>SAGE_morning_yesterday_likert_v2___goal_am_am</th>\n",
       "      <th>SAGE_morning_yesterday_likert_v2___exer_am_am</th>\n",
       "      <th>SAGE_morning_yesterday_likert_v2___saidnoth_am_am</th>\n",
       "      <th>SAGE_morning_yesterday_likert_v2___didnoth_am_am</th>\n",
       "      <th>SAGE_morning_yesterday_likert_v2___impat_am_am</th>\n",
       "      <th>SAGE_bart_v4___ROW_ID_am</th>\n",
       "      <th>SAGE_bart_v4___ROW_VERSION_am</th>\n",
       "      <th>SAGE_bart_v4___createdOnTimeZone_am</th>\n",
       "      <th>SAGE_bart_v4___startDate.timezone_am</th>\n",
       "      <th>SAGE_bart_v4___endDate.timezone_am</th>\n",
       "      <th>SAGE_bart_v4___max_pumps_per_balloon_am</th>\n",
       "      <th>SAGE_bart_v4___mean_pumps_after_explode_am</th>\n",
       "      <th>SAGE_bart_v4___mean_pumps_after_no_explode_am</th>\n",
       "      <th>SAGE_bart_v4___number_of_balloons_am</th>\n",
       "      <th>SAGE_bart_v4___number_of_explosions_am</th>\n",
       "      <th>SAGE_bart_v4___pumps_mean_am</th>\n",
       "      <th>SAGE_bart_v4___pumps_mean_first_third_am</th>\n",
       "      <th>SAGE_bart_v4___pumps_mean_second_third_am</th>\n",
       "      <th>SAGE_bart_v4___pumps_mean_last_third_am</th>\n",
       "      <th>SAGE_bart_v4___pumps_range_am</th>\n",
       "      <th>SAGE_bart_v4___pumps_range_first_third_am</th>\n",
       "      <th>SAGE_bart_v4___pumps_range_second_third_am</th>\n",
       "      <th>SAGE_bart_v4___pumps_range_last_third_am</th>\n",
       "      <th>SAGE_bart_v4___pumps_standard_deviation_am</th>\n",
       "      <th>SAGE_bart_v4___pumps_standard_deviation_first_third_am</th>\n",
       "      <th>SAGE_bart_v4___pumps_standard_deviation_second_third_am</th>\n",
       "      <th>SAGE_bart_v4___pumps_standard_deviation_last_third_am</th>\n",
       "      <th>SAGE_bart_v4___researcher_code_am</th>\n",
       "      <th>SAGE_bart_v4___total_gains_am</th>\n",
       "    </tr>\n",
       "  </thead>\n",
       "  <tbody>\n",
       "    <tr>\n",
       "      <th>0</th>\n",
       "      <td>702.000000</td>\n",
       "      <td>44.166667</td>\n",
       "      <td>-400.0</td>\n",
       "      <td>-400.0</td>\n",
       "      <td>-400.0</td>\n",
       "      <td>75.000000</td>\n",
       "      <td>37.666667</td>\n",
       "      <td>11.166667</td>\n",
       "      <td>12.000000</td>\n",
       "      <td>14.500000</td>\n",
       "      <td>35.500000</td>\n",
       "      <td>13.333333</td>\n",
       "      <td>12.000000</td>\n",
       "      <td>10.166667</td>\n",
       "      <td>0.666667</td>\n",
       "      <td>0.333333</td>\n",
       "      <td>0.000000</td>\n",
       "      <td>0.333333</td>\n",
       "      <td>1.166667</td>\n",
       "      <td>0.166667</td>\n",
       "      <td>1.000000</td>\n",
       "      <td>0.000000</td>\n",
       "      <td>378.085617</td>\n",
       "      <td>391.386480</td>\n",
       "      <td>370.527462</td>\n",
       "      <td>378.412161</td>\n",
       "      <td>366.178681</td>\n",
       "      <td>311.948180</td>\n",
       "      <td>150.020480</td>\n",
       "      <td>192.955832</td>\n",
       "      <td>64.697124</td>\n",
       "      <td>86.373194</td>\n",
       "      <td>42.636935</td>\n",
       "      <td>48.659129</td>\n",
       "      <td>350.313803</td>\n",
       "      <td>295.164833</td>\n",
       "      <td>250.0000</td>\n",
       "      <td>88.288665</td>\n",
       "      <td>715.323165</td>\n",
       "      <td>750.000000</td>\n",
       "      <td>125.000000</td>\n",
       "      <td>430.646330</td>\n",
       "      <td>377.972501</td>\n",
       "      <td>389.485132</td>\n",
       "      <td>370.527462</td>\n",
       "      <td>380.960147</td>\n",
       "      <td>258.453498</td>\n",
       "      <td>170.164833</td>\n",
       "      <td>0.000000</td>\n",
       "      <td>88.288665</td>\n",
       "      <td>NaN</td>\n",
       "      <td>740.571429</td>\n",
       "      <td>47.380952</td>\n",
       "      <td>-400.00</td>\n",
       "      <td>NaN</td>\n",
       "      <td>NaN</td>\n",
       "      <td>2.285714</td>\n",
       "      <td>5.904762</td>\n",
       "      <td>2.190476</td>\n",
       "      <td>5.000000</td>\n",
       "      <td>4.428571</td>\n",
       "      <td>741.909091</td>\n",
       "      <td>47.863636</td>\n",
       "      <td>-400.00</td>\n",
       "      <td>NaN</td>\n",
       "      <td>NaN</td>\n",
       "      <td>5.727273</td>\n",
       "      <td>4.272727</td>\n",
       "      <td>5.772727</td>\n",
       "      <td>4.318182</td>\n",
       "      <td>5.272727</td>\n",
       "      <td>5.500000</td>\n",
       "      <td>4.545455</td>\n",
       "      <td>5.818182</td>\n",
       "      <td>2.227273</td>\n",
       "      <td>2.363636</td>\n",
       "      <td>1412.000000</td>\n",
       "      <td>47.619048</td>\n",
       "      <td>-400.000000</td>\n",
       "      <td>NaN</td>\n",
       "      <td>NaN</td>\n",
       "      <td>2.047619</td>\n",
       "      <td>2.904762</td>\n",
       "      <td>7.095238</td>\n",
       "      <td>10.714286</td>\n",
       "      <td>984.833333</td>\n",
       "      <td>50.000000</td>\n",
       "      <td>-400.0</td>\n",
       "      <td>-400.0</td>\n",
       "      <td>-400.0</td>\n",
       "      <td>90.625000</td>\n",
       "      <td>96.354167</td>\n",
       "      <td>4437.987179</td>\n",
       "      <td>2148.687174</td>\n",
       "      <td>3317.202508</td>\n",
       "      <td>1289.785177</td>\n",
       "      <td>1165.962825</td>\n",
       "      <td>1050.884336</td>\n",
       "      <td>2235.084866</td>\n",
       "      <td>734.952381</td>\n",
       "      <td>45.666667</td>\n",
       "      <td>-400.00</td>\n",
       "      <td>-400.00</td>\n",
       "      <td>-400.00</td>\n",
       "      <td>0.571429</td>\n",
       "      <td>0.0</td>\n",
       "      <td>0.0</td>\n",
       "      <td>0.000000</td>\n",
       "      <td>0.190476</td>\n",
       "      <td>0.0</td>\n",
       "      <td>0</td>\n",
       "      <td>0.000000</td>\n",
       "      <td>0.000</td>\n",
       "      <td>0.000000</td>\n",
       "      <td>0.428571</td>\n",
       "      <td>0.0</td>\n",
       "      <td>0.714286</td>\n",
       "      <td>0.0</td>\n",
       "      <td>0.0</td>\n",
       "      <td>0.0</td>\n",
       "      <td>91.600000</td>\n",
       "      <td>14.6</td>\n",
       "      <td>NaN</td>\n",
       "      <td>-400.0</td>\n",
       "      <td>-400.0</td>\n",
       "      <td>-400.0</td>\n",
       "      <td>45.312500</td>\n",
       "      <td>85.875000</td>\n",
       "      <td>4526.910818</td>\n",
       "      <td>1602.317584</td>\n",
       "      <td>1731.585813</td>\n",
       "      <td>11423.125386</td>\n",
       "      <td>1299.950790</td>\n",
       "      <td>788.259387</td>\n",
       "      <td>3562.024963</td>\n",
       "      <td>723.809524</td>\n",
       "      <td>46.523810</td>\n",
       "      <td>-400.00</td>\n",
       "      <td>NaN</td>\n",
       "      <td>NaN</td>\n",
       "      <td>5.809524</td>\n",
       "      <td>7.285714</td>\n",
       "      <td>0.857143</td>\n",
       "      <td>5.095238</td>\n",
       "      <td>5.619048</td>\n",
       "      <td>3.761905</td>\n",
       "      <td>657.500</td>\n",
       "      <td>43.000</td>\n",
       "      <td>-400.0</td>\n",
       "      <td>-400.0</td>\n",
       "      <td>-400.0</td>\n",
       "      <td>10.0</td>\n",
       "      <td>5.880628</td>\n",
       "      <td>5.593056</td>\n",
       "      <td>15.0</td>\n",
       "      <td>7.750</td>\n",
       "      <td>5.683333</td>\n",
       "      <td>4.550</td>\n",
       "      <td>6.550</td>\n",
       "      <td>5.950</td>\n",
       "      <td>7.00</td>\n",
       "      <td>3.750</td>\n",
       "      <td>5.250</td>\n",
       "      <td>5.750</td>\n",
       "      <td>2.045075</td>\n",
       "      <td>1.396082</td>\n",
       "      <td>1.890752</td>\n",
       "      <td>1.944723</td>\n",
       "      <td>NaN</td>\n",
       "      <td>3132.3125</td>\n",
       "    </tr>\n",
       "    <tr>\n",
       "      <th>1</th>\n",
       "      <td>480.285714</td>\n",
       "      <td>31.142857</td>\n",
       "      <td>-400.0</td>\n",
       "      <td>-400.0</td>\n",
       "      <td>-400.0</td>\n",
       "      <td>32.142857</td>\n",
       "      <td>13.000000</td>\n",
       "      <td>4.000000</td>\n",
       "      <td>4.142857</td>\n",
       "      <td>4.857143</td>\n",
       "      <td>17.000000</td>\n",
       "      <td>6.285714</td>\n",
       "      <td>5.571429</td>\n",
       "      <td>5.142857</td>\n",
       "      <td>0.285714</td>\n",
       "      <td>0.142857</td>\n",
       "      <td>0.142857</td>\n",
       "      <td>0.000000</td>\n",
       "      <td>1.857143</td>\n",
       "      <td>0.285714</td>\n",
       "      <td>0.857143</td>\n",
       "      <td>0.714286</td>\n",
       "      <td>477.276452</td>\n",
       "      <td>479.166667</td>\n",
       "      <td>483.185505</td>\n",
       "      <td>409.021978</td>\n",
       "      <td>197.142857</td>\n",
       "      <td>119.571429</td>\n",
       "      <td>100.142857</td>\n",
       "      <td>115.000000</td>\n",
       "      <td>61.537105</td>\n",
       "      <td>62.169042</td>\n",
       "      <td>43.073851</td>\n",
       "      <td>38.231737</td>\n",
       "      <td>0.000000</td>\n",
       "      <td>0.000000</td>\n",
       "      <td>0.0000</td>\n",
       "      <td>0.000000</td>\n",
       "      <td>0.000000</td>\n",
       "      <td>0.000000</td>\n",
       "      <td>0.000000</td>\n",
       "      <td>0.000000</td>\n",
       "      <td>479.225746</td>\n",
       "      <td>489.523810</td>\n",
       "      <td>480.073260</td>\n",
       "      <td>409.021978</td>\n",
       "      <td>142.571429</td>\n",
       "      <td>43.142857</td>\n",
       "      <td>99.428571</td>\n",
       "      <td>0.000000</td>\n",
       "      <td>NaN</td>\n",
       "      <td>508.190476</td>\n",
       "      <td>33.000000</td>\n",
       "      <td>-400.00</td>\n",
       "      <td>-400.0</td>\n",
       "      <td>-400.0</td>\n",
       "      <td>2.571429</td>\n",
       "      <td>7.238095</td>\n",
       "      <td>2.523810</td>\n",
       "      <td>6.095238</td>\n",
       "      <td>3.142857</td>\n",
       "      <td>503.047619</td>\n",
       "      <td>33.047619</td>\n",
       "      <td>-400.00</td>\n",
       "      <td>-400.0</td>\n",
       "      <td>-400.0</td>\n",
       "      <td>4.142857</td>\n",
       "      <td>6.761905</td>\n",
       "      <td>7.095238</td>\n",
       "      <td>2.666667</td>\n",
       "      <td>4.380952</td>\n",
       "      <td>7.142857</td>\n",
       "      <td>3.000000</td>\n",
       "      <td>7.285714</td>\n",
       "      <td>2.476190</td>\n",
       "      <td>2.761905</td>\n",
       "      <td>967.476190</td>\n",
       "      <td>33.047619</td>\n",
       "      <td>-400.000000</td>\n",
       "      <td>-400.0</td>\n",
       "      <td>-400.0</td>\n",
       "      <td>2.095238</td>\n",
       "      <td>2.714286</td>\n",
       "      <td>7.095238</td>\n",
       "      <td>10.333333</td>\n",
       "      <td>683.666667</td>\n",
       "      <td>31.222222</td>\n",
       "      <td>-400.0</td>\n",
       "      <td>-400.0</td>\n",
       "      <td>-400.0</td>\n",
       "      <td>43.229167</td>\n",
       "      <td>55.729167</td>\n",
       "      <td>2415.444444</td>\n",
       "      <td>2478.555556</td>\n",
       "      <td>1053.777778</td>\n",
       "      <td>2075.444444</td>\n",
       "      <td>822.777778</td>\n",
       "      <td>1073.092889</td>\n",
       "      <td>4036.648148</td>\n",
       "      <td>493.952381</td>\n",
       "      <td>31.047619</td>\n",
       "      <td>-400.00</td>\n",
       "      <td>-400.00</td>\n",
       "      <td>-400.00</td>\n",
       "      <td>0.285714</td>\n",
       "      <td>0.0</td>\n",
       "      <td>0.0</td>\n",
       "      <td>0.000000</td>\n",
       "      <td>0.000000</td>\n",
       "      <td>0.0</td>\n",
       "      <td>0</td>\n",
       "      <td>0.000000</td>\n",
       "      <td>0.000</td>\n",
       "      <td>0.047619</td>\n",
       "      <td>0.000000</td>\n",
       "      <td>0.0</td>\n",
       "      <td>0.000000</td>\n",
       "      <td>0.0</td>\n",
       "      <td>0.0</td>\n",
       "      <td>0.0</td>\n",
       "      <td>NaN</td>\n",
       "      <td>NaN</td>\n",
       "      <td>NaN</td>\n",
       "      <td>NaN</td>\n",
       "      <td>NaN</td>\n",
       "      <td>NaN</td>\n",
       "      <td>NaN</td>\n",
       "      <td>NaN</td>\n",
       "      <td>NaN</td>\n",
       "      <td>NaN</td>\n",
       "      <td>NaN</td>\n",
       "      <td>NaN</td>\n",
       "      <td>NaN</td>\n",
       "      <td>NaN</td>\n",
       "      <td>NaN</td>\n",
       "      <td>492.142857</td>\n",
       "      <td>32.000000</td>\n",
       "      <td>-400.00</td>\n",
       "      <td>-400.0</td>\n",
       "      <td>-400.0</td>\n",
       "      <td>2.666667</td>\n",
       "      <td>6.047619</td>\n",
       "      <td>6.000000</td>\n",
       "      <td>3.047619</td>\n",
       "      <td>2.952381</td>\n",
       "      <td>3.095238</td>\n",
       "      <td>550.000</td>\n",
       "      <td>35.000</td>\n",
       "      <td>-400.0</td>\n",
       "      <td>-400.0</td>\n",
       "      <td>-400.0</td>\n",
       "      <td>6.0</td>\n",
       "      <td>3.729167</td>\n",
       "      <td>3.404720</td>\n",
       "      <td>15.0</td>\n",
       "      <td>3.500</td>\n",
       "      <td>3.450000</td>\n",
       "      <td>3.450</td>\n",
       "      <td>3.850</td>\n",
       "      <td>3.050</td>\n",
       "      <td>4.25</td>\n",
       "      <td>4.000</td>\n",
       "      <td>3.000</td>\n",
       "      <td>2.500</td>\n",
       "      <td>1.335300</td>\n",
       "      <td>1.496593</td>\n",
       "      <td>1.127719</td>\n",
       "      <td>0.997773</td>\n",
       "      <td>NaN</td>\n",
       "      <td>7752.2500</td>\n",
       "    </tr>\n",
       "    <tr>\n",
       "      <th>2</th>\n",
       "      <td>975.500000</td>\n",
       "      <td>63.300000</td>\n",
       "      <td>-400.0</td>\n",
       "      <td>-400.0</td>\n",
       "      <td>-400.0</td>\n",
       "      <td>75.000000</td>\n",
       "      <td>38.800000</td>\n",
       "      <td>13.900000</td>\n",
       "      <td>12.900000</td>\n",
       "      <td>12.000000</td>\n",
       "      <td>36.000000</td>\n",
       "      <td>11.100000</td>\n",
       "      <td>11.900000</td>\n",
       "      <td>13.000000</td>\n",
       "      <td>0.100000</td>\n",
       "      <td>0.000000</td>\n",
       "      <td>0.100000</td>\n",
       "      <td>0.000000</td>\n",
       "      <td>0.100000</td>\n",
       "      <td>0.000000</td>\n",
       "      <td>0.100000</td>\n",
       "      <td>0.000000</td>\n",
       "      <td>357.329222</td>\n",
       "      <td>354.072281</td>\n",
       "      <td>370.725921</td>\n",
       "      <td>346.369916</td>\n",
       "      <td>267.268986</td>\n",
       "      <td>164.597696</td>\n",
       "      <td>178.839099</td>\n",
       "      <td>165.764284</td>\n",
       "      <td>58.109381</td>\n",
       "      <td>45.919932</td>\n",
       "      <td>55.944442</td>\n",
       "      <td>45.110706</td>\n",
       "      <td>100.982100</td>\n",
       "      <td>0.000000</td>\n",
       "      <td>100.9821</td>\n",
       "      <td>0.000000</td>\n",
       "      <td>408.342808</td>\n",
       "      <td>412.928909</td>\n",
       "      <td>101.578701</td>\n",
       "      <td>0.000000</td>\n",
       "      <td>357.573675</td>\n",
       "      <td>354.072281</td>\n",
       "      <td>371.364781</td>\n",
       "      <td>346.369916</td>\n",
       "      <td>25.982100</td>\n",
       "      <td>0.000000</td>\n",
       "      <td>25.982100</td>\n",
       "      <td>0.000000</td>\n",
       "      <td>NaN</td>\n",
       "      <td>1064.826087</td>\n",
       "      <td>66.521739</td>\n",
       "      <td>-400.00</td>\n",
       "      <td>NaN</td>\n",
       "      <td>NaN</td>\n",
       "      <td>1.913043</td>\n",
       "      <td>7.217391</td>\n",
       "      <td>3.260870</td>\n",
       "      <td>6.652174</td>\n",
       "      <td>5.173913</td>\n",
       "      <td>1048.200000</td>\n",
       "      <td>66.050000</td>\n",
       "      <td>-400.00</td>\n",
       "      <td>NaN</td>\n",
       "      <td>NaN</td>\n",
       "      <td>2.800000</td>\n",
       "      <td>7.600000</td>\n",
       "      <td>6.050000</td>\n",
       "      <td>4.950000</td>\n",
       "      <td>4.350000</td>\n",
       "      <td>5.950000</td>\n",
       "      <td>5.200000</td>\n",
       "      <td>6.900000</td>\n",
       "      <td>3.400000</td>\n",
       "      <td>2.950000</td>\n",
       "      <td>2003.650000</td>\n",
       "      <td>66.150000</td>\n",
       "      <td>-400.000000</td>\n",
       "      <td>NaN</td>\n",
       "      <td>NaN</td>\n",
       "      <td>1.800000</td>\n",
       "      <td>2.300000</td>\n",
       "      <td>5.500000</td>\n",
       "      <td>11.100000</td>\n",
       "      <td>NaN</td>\n",
       "      <td>NaN</td>\n",
       "      <td>NaN</td>\n",
       "      <td>NaN</td>\n",
       "      <td>NaN</td>\n",
       "      <td>NaN</td>\n",
       "      <td>NaN</td>\n",
       "      <td>NaN</td>\n",
       "      <td>NaN</td>\n",
       "      <td>NaN</td>\n",
       "      <td>NaN</td>\n",
       "      <td>NaN</td>\n",
       "      <td>NaN</td>\n",
       "      <td>NaN</td>\n",
       "      <td>1053.000000</td>\n",
       "      <td>64.409091</td>\n",
       "      <td>-400.00</td>\n",
       "      <td>-400.00</td>\n",
       "      <td>-400.00</td>\n",
       "      <td>0.636364</td>\n",
       "      <td>0.0</td>\n",
       "      <td>0.0</td>\n",
       "      <td>0.409091</td>\n",
       "      <td>0.181818</td>\n",
       "      <td>0.0</td>\n",
       "      <td>0</td>\n",
       "      <td>0.181818</td>\n",
       "      <td>0.000</td>\n",
       "      <td>0.000000</td>\n",
       "      <td>0.000000</td>\n",
       "      <td>0.0</td>\n",
       "      <td>0.000000</td>\n",
       "      <td>0.0</td>\n",
       "      <td>0.0</td>\n",
       "      <td>0.0</td>\n",
       "      <td>272.666667</td>\n",
       "      <td>35.0</td>\n",
       "      <td>NaN</td>\n",
       "      <td>-400.0</td>\n",
       "      <td>-400.0</td>\n",
       "      <td>-400.0</td>\n",
       "      <td>31.770833</td>\n",
       "      <td>48.958333</td>\n",
       "      <td>6641.783675</td>\n",
       "      <td>3282.207986</td>\n",
       "      <td>2990.946988</td>\n",
       "      <td>1296.425998</td>\n",
       "      <td>1077.539980</td>\n",
       "      <td>1038.231015</td>\n",
       "      <td>2721.189274</td>\n",
       "      <td>1033.190476</td>\n",
       "      <td>65.190476</td>\n",
       "      <td>-400.00</td>\n",
       "      <td>NaN</td>\n",
       "      <td>NaN</td>\n",
       "      <td>4.714286</td>\n",
       "      <td>4.904762</td>\n",
       "      <td>4.333333</td>\n",
       "      <td>1.714286</td>\n",
       "      <td>4.380952</td>\n",
       "      <td>3.952381</td>\n",
       "      <td>957.375</td>\n",
       "      <td>64.875</td>\n",
       "      <td>-400.0</td>\n",
       "      <td>-400.0</td>\n",
       "      <td>-400.0</td>\n",
       "      <td>10.0</td>\n",
       "      <td>3.675595</td>\n",
       "      <td>3.960130</td>\n",
       "      <td>15.0</td>\n",
       "      <td>5.375</td>\n",
       "      <td>3.891667</td>\n",
       "      <td>4.225</td>\n",
       "      <td>3.925</td>\n",
       "      <td>3.525</td>\n",
       "      <td>4.25</td>\n",
       "      <td>2.875</td>\n",
       "      <td>2.875</td>\n",
       "      <td>2.625</td>\n",
       "      <td>1.246164</td>\n",
       "      <td>1.056766</td>\n",
       "      <td>1.099562</td>\n",
       "      <td>0.975065</td>\n",
       "      <td>NaN</td>\n",
       "      <td>4224.4375</td>\n",
       "    </tr>\n",
       "    <tr>\n",
       "      <th>3</th>\n",
       "      <td>1640.200000</td>\n",
       "      <td>112.600000</td>\n",
       "      <td>-400.0</td>\n",
       "      <td>-400.0</td>\n",
       "      <td>-400.0</td>\n",
       "      <td>75.000000</td>\n",
       "      <td>39.600000</td>\n",
       "      <td>14.800000</td>\n",
       "      <td>12.200000</td>\n",
       "      <td>12.600000</td>\n",
       "      <td>35.000000</td>\n",
       "      <td>9.800000</td>\n",
       "      <td>12.800000</td>\n",
       "      <td>12.400000</td>\n",
       "      <td>0.000000</td>\n",
       "      <td>0.000000</td>\n",
       "      <td>0.000000</td>\n",
       "      <td>0.000000</td>\n",
       "      <td>0.400000</td>\n",
       "      <td>0.400000</td>\n",
       "      <td>0.000000</td>\n",
       "      <td>0.000000</td>\n",
       "      <td>412.288004</td>\n",
       "      <td>418.567755</td>\n",
       "      <td>409.439067</td>\n",
       "      <td>408.103848</td>\n",
       "      <td>284.168816</td>\n",
       "      <td>135.243988</td>\n",
       "      <td>273.035228</td>\n",
       "      <td>152.348208</td>\n",
       "      <td>53.074668</td>\n",
       "      <td>35.585581</td>\n",
       "      <td>70.003606</td>\n",
       "      <td>43.206162</td>\n",
       "      <td>0.000000</td>\n",
       "      <td>0.000000</td>\n",
       "      <td>0.0000</td>\n",
       "      <td>0.000000</td>\n",
       "      <td>541.388607</td>\n",
       "      <td>541.388607</td>\n",
       "      <td>0.000000</td>\n",
       "      <td>0.000000</td>\n",
       "      <td>412.288004</td>\n",
       "      <td>418.567755</td>\n",
       "      <td>409.439067</td>\n",
       "      <td>408.103848</td>\n",
       "      <td>0.000000</td>\n",
       "      <td>0.000000</td>\n",
       "      <td>0.000000</td>\n",
       "      <td>0.000000</td>\n",
       "      <td>NaN</td>\n",
       "      <td>1813.642857</td>\n",
       "      <td>118.571429</td>\n",
       "      <td>-400.00</td>\n",
       "      <td>NaN</td>\n",
       "      <td>NaN</td>\n",
       "      <td>2.071429</td>\n",
       "      <td>7.642857</td>\n",
       "      <td>1.285714</td>\n",
       "      <td>3.714286</td>\n",
       "      <td>3.428571</td>\n",
       "      <td>1770.928571</td>\n",
       "      <td>117.857143</td>\n",
       "      <td>-400.00</td>\n",
       "      <td>NaN</td>\n",
       "      <td>NaN</td>\n",
       "      <td>1.714286</td>\n",
       "      <td>9.214286</td>\n",
       "      <td>6.714286</td>\n",
       "      <td>1.714286</td>\n",
       "      <td>5.500000</td>\n",
       "      <td>7.571429</td>\n",
       "      <td>5.357143</td>\n",
       "      <td>6.714286</td>\n",
       "      <td>0.428571</td>\n",
       "      <td>0.428571</td>\n",
       "      <td>3443.357143</td>\n",
       "      <td>117.857143</td>\n",
       "      <td>-400.000000</td>\n",
       "      <td>NaN</td>\n",
       "      <td>NaN</td>\n",
       "      <td>1.714286</td>\n",
       "      <td>2.214286</td>\n",
       "      <td>5.071429</td>\n",
       "      <td>11.357143</td>\n",
       "      <td>1710.000000</td>\n",
       "      <td>124.000000</td>\n",
       "      <td>-400.0</td>\n",
       "      <td>-400.0</td>\n",
       "      <td>-400.0</td>\n",
       "      <td>60.937500</td>\n",
       "      <td>60.937500</td>\n",
       "      <td>2344.540000</td>\n",
       "      <td>1341.037989</td>\n",
       "      <td>1924.366951</td>\n",
       "      <td>1356.292009</td>\n",
       "      <td>2307.823002</td>\n",
       "      <td>4411.071002</td>\n",
       "      <td>2280.855159</td>\n",
       "      <td>1802.500000</td>\n",
       "      <td>116.916667</td>\n",
       "      <td>-400.00</td>\n",
       "      <td>-400.00</td>\n",
       "      <td>-400.00</td>\n",
       "      <td>0.000000</td>\n",
       "      <td>0.0</td>\n",
       "      <td>0.0</td>\n",
       "      <td>0.000000</td>\n",
       "      <td>0.250000</td>\n",
       "      <td>0.0</td>\n",
       "      <td>0</td>\n",
       "      <td>0.000000</td>\n",
       "      <td>0.000</td>\n",
       "      <td>0.000000</td>\n",
       "      <td>0.000000</td>\n",
       "      <td>0.0</td>\n",
       "      <td>0.416667</td>\n",
       "      <td>0.0</td>\n",
       "      <td>0.0</td>\n",
       "      <td>0.0</td>\n",
       "      <td>733.000000</td>\n",
       "      <td>90.0</td>\n",
       "      <td>NaN</td>\n",
       "      <td>-400.0</td>\n",
       "      <td>-400.0</td>\n",
       "      <td>-400.0</td>\n",
       "      <td>39.062500</td>\n",
       "      <td>120.000000</td>\n",
       "      <td>4585.566998</td>\n",
       "      <td>2892.216980</td>\n",
       "      <td>4040.126026</td>\n",
       "      <td>1341.215968</td>\n",
       "      <td>1641.847968</td>\n",
       "      <td>1156.017005</td>\n",
       "      <td>2609.498491</td>\n",
       "      <td>1778.642857</td>\n",
       "      <td>117.357143</td>\n",
       "      <td>-400.00</td>\n",
       "      <td>NaN</td>\n",
       "      <td>NaN</td>\n",
       "      <td>0.785714</td>\n",
       "      <td>6.214286</td>\n",
       "      <td>4.571429</td>\n",
       "      <td>0.642857</td>\n",
       "      <td>0.428571</td>\n",
       "      <td>4.928571</td>\n",
       "      <td>1603.000</td>\n",
       "      <td>114.400</td>\n",
       "      <td>-400.0</td>\n",
       "      <td>-400.0</td>\n",
       "      <td>-400.0</td>\n",
       "      <td>10.0</td>\n",
       "      <td>5.275397</td>\n",
       "      <td>5.347619</td>\n",
       "      <td>15.0</td>\n",
       "      <td>8.000</td>\n",
       "      <td>5.293333</td>\n",
       "      <td>5.520</td>\n",
       "      <td>5.000</td>\n",
       "      <td>5.360</td>\n",
       "      <td>5.40</td>\n",
       "      <td>3.200</td>\n",
       "      <td>4.800</td>\n",
       "      <td>4.600</td>\n",
       "      <td>1.864789</td>\n",
       "      <td>1.216892</td>\n",
       "      <td>1.949553</td>\n",
       "      <td>1.958276</td>\n",
       "      <td>NaN</td>\n",
       "      <td>11400.0000</td>\n",
       "    </tr>\n",
       "    <tr>\n",
       "      <th>4</th>\n",
       "      <td>166.833333</td>\n",
       "      <td>15.666667</td>\n",
       "      <td>-400.0</td>\n",
       "      <td>-400.0</td>\n",
       "      <td>-400.0</td>\n",
       "      <td>45.000000</td>\n",
       "      <td>21.166667</td>\n",
       "      <td>7.500000</td>\n",
       "      <td>6.500000</td>\n",
       "      <td>7.166667</td>\n",
       "      <td>23.666667</td>\n",
       "      <td>7.333333</td>\n",
       "      <td>8.500000</td>\n",
       "      <td>7.833333</td>\n",
       "      <td>0.166667</td>\n",
       "      <td>0.166667</td>\n",
       "      <td>0.000000</td>\n",
       "      <td>0.000000</td>\n",
       "      <td>0.000000</td>\n",
       "      <td>0.000000</td>\n",
       "      <td>0.000000</td>\n",
       "      <td>0.000000</td>\n",
       "      <td>371.349637</td>\n",
       "      <td>358.192117</td>\n",
       "      <td>389.392765</td>\n",
       "      <td>372.692924</td>\n",
       "      <td>185.861816</td>\n",
       "      <td>81.400841</td>\n",
       "      <td>99.150648</td>\n",
       "      <td>195.567717</td>\n",
       "      <td>41.501349</td>\n",
       "      <td>22.935150</td>\n",
       "      <td>29.886280</td>\n",
       "      <td>65.962699</td>\n",
       "      <td>50.006330</td>\n",
       "      <td>50.006330</td>\n",
       "      <td>0.0000</td>\n",
       "      <td>0.000000</td>\n",
       "      <td>620.822251</td>\n",
       "      <td>308.246166</td>\n",
       "      <td>67.542007</td>\n",
       "      <td>307.928165</td>\n",
       "      <td>371.599778</td>\n",
       "      <td>358.616967</td>\n",
       "      <td>389.392765</td>\n",
       "      <td>372.692924</td>\n",
       "      <td>50.006330</td>\n",
       "      <td>50.006330</td>\n",
       "      <td>0.000000</td>\n",
       "      <td>0.000000</td>\n",
       "      <td>NaN</td>\n",
       "      <td>144.312500</td>\n",
       "      <td>15.750000</td>\n",
       "      <td>-406.25</td>\n",
       "      <td>NaN</td>\n",
       "      <td>NaN</td>\n",
       "      <td>2.375000</td>\n",
       "      <td>5.812500</td>\n",
       "      <td>3.312500</td>\n",
       "      <td>5.687500</td>\n",
       "      <td>4.000000</td>\n",
       "      <td>144.625000</td>\n",
       "      <td>15.937500</td>\n",
       "      <td>-406.25</td>\n",
       "      <td>NaN</td>\n",
       "      <td>NaN</td>\n",
       "      <td>4.062500</td>\n",
       "      <td>6.687500</td>\n",
       "      <td>6.500000</td>\n",
       "      <td>2.875000</td>\n",
       "      <td>5.500000</td>\n",
       "      <td>7.437500</td>\n",
       "      <td>4.812500</td>\n",
       "      <td>7.312500</td>\n",
       "      <td>3.062500</td>\n",
       "      <td>3.937500</td>\n",
       "      <td>264.214286</td>\n",
       "      <td>15.428571</td>\n",
       "      <td>-407.142857</td>\n",
       "      <td>NaN</td>\n",
       "      <td>NaN</td>\n",
       "      <td>2.285714</td>\n",
       "      <td>2.428571</td>\n",
       "      <td>7.571429</td>\n",
       "      <td>9.285714</td>\n",
       "      <td>202.333333</td>\n",
       "      <td>13.666667</td>\n",
       "      <td>-400.0</td>\n",
       "      <td>-400.0</td>\n",
       "      <td>-400.0</td>\n",
       "      <td>22.395833</td>\n",
       "      <td>77.604167</td>\n",
       "      <td>2836.244007</td>\n",
       "      <td>1940.040340</td>\n",
       "      <td>1754.707515</td>\n",
       "      <td>1224.896997</td>\n",
       "      <td>2221.467654</td>\n",
       "      <td>1131.866008</td>\n",
       "      <td>1851.537087</td>\n",
       "      <td>143.187500</td>\n",
       "      <td>14.125000</td>\n",
       "      <td>-406.25</td>\n",
       "      <td>-406.25</td>\n",
       "      <td>-406.25</td>\n",
       "      <td>0.000000</td>\n",
       "      <td>0.0</td>\n",
       "      <td>0.0</td>\n",
       "      <td>0.000000</td>\n",
       "      <td>0.000000</td>\n",
       "      <td>0.0</td>\n",
       "      <td>0</td>\n",
       "      <td>0.000000</td>\n",
       "      <td>0.125</td>\n",
       "      <td>0.000000</td>\n",
       "      <td>0.000000</td>\n",
       "      <td>0.0</td>\n",
       "      <td>0.000000</td>\n",
       "      <td>0.0</td>\n",
       "      <td>0.0</td>\n",
       "      <td>0.0</td>\n",
       "      <td>NaN</td>\n",
       "      <td>NaN</td>\n",
       "      <td>NaN</td>\n",
       "      <td>NaN</td>\n",
       "      <td>NaN</td>\n",
       "      <td>NaN</td>\n",
       "      <td>NaN</td>\n",
       "      <td>NaN</td>\n",
       "      <td>NaN</td>\n",
       "      <td>NaN</td>\n",
       "      <td>NaN</td>\n",
       "      <td>NaN</td>\n",
       "      <td>NaN</td>\n",
       "      <td>NaN</td>\n",
       "      <td>NaN</td>\n",
       "      <td>142.187500</td>\n",
       "      <td>15.000000</td>\n",
       "      <td>-406.25</td>\n",
       "      <td>NaN</td>\n",
       "      <td>NaN</td>\n",
       "      <td>0.250000</td>\n",
       "      <td>4.500000</td>\n",
       "      <td>4.687500</td>\n",
       "      <td>0.625000</td>\n",
       "      <td>1.250000</td>\n",
       "      <td>4.625000</td>\n",
       "      <td>179.750</td>\n",
       "      <td>16.250</td>\n",
       "      <td>-450.0</td>\n",
       "      <td>-450.0</td>\n",
       "      <td>-450.0</td>\n",
       "      <td>10.0</td>\n",
       "      <td>3.697917</td>\n",
       "      <td>4.297078</td>\n",
       "      <td>15.0</td>\n",
       "      <td>5.000</td>\n",
       "      <td>4.083333</td>\n",
       "      <td>3.750</td>\n",
       "      <td>4.050</td>\n",
       "      <td>4.450</td>\n",
       "      <td>4.75</td>\n",
       "      <td>2.750</td>\n",
       "      <td>2.500</td>\n",
       "      <td>2.750</td>\n",
       "      <td>1.380531</td>\n",
       "      <td>1.015435</td>\n",
       "      <td>0.889776</td>\n",
       "      <td>1.074569</td>\n",
       "      <td>NaN</td>\n",
       "      <td>7876.7500</td>\n",
       "    </tr>\n",
       "  </tbody>\n",
       "</table>\n",
       "</div>"
      ],
      "text/plain": [
       "   SAGE_goNoGo_v2___ROW_ID_am  SAGE_goNoGo_v2___ROW_VERSION_am  \\\n",
       "0                  702.000000                        44.166667   \n",
       "1                  480.285714                        31.142857   \n",
       "2                  975.500000                        63.300000   \n",
       "3                 1640.200000                       112.600000   \n",
       "4                  166.833333                        15.666667   \n",
       "\n",
       "   SAGE_goNoGo_v2___createdOnTimeZone_am  \\\n",
       "0                                 -400.0   \n",
       "1                                 -400.0   \n",
       "2                                 -400.0   \n",
       "3                                 -400.0   \n",
       "4                                 -400.0   \n",
       "\n",
       "   SAGE_goNoGo_v2___startDate.timezone_am  \\\n",
       "0                                  -400.0   \n",
       "1                                  -400.0   \n",
       "2                                  -400.0   \n",
       "3                                  -400.0   \n",
       "4                                  -400.0   \n",
       "\n",
       "   SAGE_goNoGo_v2___endDate.timezone_am  SAGE_goNoGo_v2___number_of_trials_am  \\\n",
       "0                                -400.0                             75.000000   \n",
       "1                                -400.0                             32.142857   \n",
       "2                                -400.0                             75.000000   \n",
       "3                                -400.0                             75.000000   \n",
       "4                                -400.0                             45.000000   \n",
       "\n",
       "   SAGE_goNoGo_v2___number_of_correct_responses_am  \\\n",
       "0                                        37.666667   \n",
       "1                                        13.000000   \n",
       "2                                        38.800000   \n",
       "3                                        39.600000   \n",
       "4                                        21.166667   \n",
       "\n",
       "   SAGE_goNoGo_v2___number_of_correct_responses_first_third_am  \\\n",
       "0                                          11.166667             \n",
       "1                                           4.000000             \n",
       "2                                          13.900000             \n",
       "3                                          14.800000             \n",
       "4                                           7.500000             \n",
       "\n",
       "   SAGE_goNoGo_v2___number_of_correct_responses_second_third_am  \\\n",
       "0                                          12.000000              \n",
       "1                                           4.142857              \n",
       "2                                          12.900000              \n",
       "3                                          12.200000              \n",
       "4                                           6.500000              \n",
       "\n",
       "   SAGE_goNoGo_v2___number_of_correct_responses_last_third_am  \\\n",
       "0                                          14.500000            \n",
       "1                                           4.857143            \n",
       "2                                          12.000000            \n",
       "3                                          12.600000            \n",
       "4                                           7.166667            \n",
       "\n",
       "   SAGE_goNoGo_v2___number_of_correct_nonresponses_am  \\\n",
       "0                                          35.500000    \n",
       "1                                          17.000000    \n",
       "2                                          36.000000    \n",
       "3                                          35.000000    \n",
       "4                                          23.666667    \n",
       "\n",
       "   SAGE_goNoGo_v2___number_of_correct_nonresponses_first_third_am  \\\n",
       "0                                          13.333333                \n",
       "1                                           6.285714                \n",
       "2                                          11.100000                \n",
       "3                                           9.800000                \n",
       "4                                           7.333333                \n",
       "\n",
       "   SAGE_goNoGo_v2___number_of_correct_nonresponses_second_third_am  \\\n",
       "0                                          12.000000                 \n",
       "1                                           5.571429                 \n",
       "2                                          11.900000                 \n",
       "3                                          12.800000                 \n",
       "4                                           8.500000                 \n",
       "\n",
       "   SAGE_goNoGo_v2___number_of_correct_nonresponses_last_third_am  \\\n",
       "0                                          10.166667               \n",
       "1                                           5.142857               \n",
       "2                                          13.000000               \n",
       "3                                          12.400000               \n",
       "4                                           7.833333               \n",
       "\n",
       "   SAGE_goNoGo_v2___number_of_incorrect_responses_am  \\\n",
       "0                                           0.666667   \n",
       "1                                           0.285714   \n",
       "2                                           0.100000   \n",
       "3                                           0.000000   \n",
       "4                                           0.166667   \n",
       "\n",
       "   SAGE_goNoGo_v2___number_of_incorrect_responses_first_third_am  \\\n",
       "0                                           0.333333               \n",
       "1                                           0.142857               \n",
       "2                                           0.000000               \n",
       "3                                           0.000000               \n",
       "4                                           0.166667               \n",
       "\n",
       "   SAGE_goNoGo_v2___number_of_incorrect_responses_second_third_am  \\\n",
       "0                                           0.000000                \n",
       "1                                           0.142857                \n",
       "2                                           0.100000                \n",
       "3                                           0.000000                \n",
       "4                                           0.000000                \n",
       "\n",
       "   SAGE_goNoGo_v2___number_of_incorrect_responses_last_third_am  \\\n",
       "0                                           0.333333              \n",
       "1                                           0.000000              \n",
       "2                                           0.000000              \n",
       "3                                           0.000000              \n",
       "4                                           0.000000              \n",
       "\n",
       "   SAGE_goNoGo_v2___number_of_incorrect_nonresponses_am  \\\n",
       "0                                           1.166667      \n",
       "1                                           1.857143      \n",
       "2                                           0.100000      \n",
       "3                                           0.400000      \n",
       "4                                           0.000000      \n",
       "\n",
       "   SAGE_goNoGo_v2___number_of_incorrect_nonresponses_first_third_am  \\\n",
       "0                                           0.166667                  \n",
       "1                                           0.285714                  \n",
       "2                                           0.000000                  \n",
       "3                                           0.400000                  \n",
       "4                                           0.000000                  \n",
       "\n",
       "   SAGE_goNoGo_v2___number_of_incorrect_nonresponses_second_third_am  \\\n",
       "0                                           1.000000                   \n",
       "1                                           0.857143                   \n",
       "2                                           0.100000                   \n",
       "3                                           0.000000                   \n",
       "4                                           0.000000                   \n",
       "\n",
       "   SAGE_goNoGo_v2___number_of_incorrect_nonresponses_last_third_am  \\\n",
       "0                                           0.000000                 \n",
       "1                                           0.714286                 \n",
       "2                                           0.000000                 \n",
       "3                                           0.000000                 \n",
       "4                                           0.000000                 \n",
       "\n",
       "   SAGE_goNoGo_v2___response_time_mean_am  \\\n",
       "0                              378.085617   \n",
       "1                              477.276452   \n",
       "2                              357.329222   \n",
       "3                              412.288004   \n",
       "4                              371.349637   \n",
       "\n",
       "   SAGE_goNoGo_v2___response_time_mean_first_third_am  \\\n",
       "0                                         391.386480    \n",
       "1                                         479.166667    \n",
       "2                                         354.072281    \n",
       "3                                         418.567755    \n",
       "4                                         358.192117    \n",
       "\n",
       "   SAGE_goNoGo_v2___response_time_mean_second_third_am  \\\n",
       "0                                         370.527462     \n",
       "1                                         483.185505     \n",
       "2                                         370.725921     \n",
       "3                                         409.439067     \n",
       "4                                         389.392765     \n",
       "\n",
       "   SAGE_goNoGo_v2___response_time_mean_last_third_am  \\\n",
       "0                                         378.412161   \n",
       "1                                         409.021978   \n",
       "2                                         346.369916   \n",
       "3                                         408.103848   \n",
       "4                                         372.692924   \n",
       "\n",
       "   SAGE_goNoGo_v2___response_time_range_am  \\\n",
       "0                               366.178681   \n",
       "1                               197.142857   \n",
       "2                               267.268986   \n",
       "3                               284.168816   \n",
       "4                               185.861816   \n",
       "\n",
       "   SAGE_goNoGo_v2___response_time_range_first_third_am  \\\n",
       "0                                         311.948180     \n",
       "1                                         119.571429     \n",
       "2                                         164.597696     \n",
       "3                                         135.243988     \n",
       "4                                          81.400841     \n",
       "\n",
       "   SAGE_goNoGo_v2___response_time_range_second_third_am  \\\n",
       "0                                         150.020480      \n",
       "1                                         100.142857      \n",
       "2                                         178.839099      \n",
       "3                                         273.035228      \n",
       "4                                          99.150648      \n",
       "\n",
       "   SAGE_goNoGo_v2___response_time_range_last_third_am  \\\n",
       "0                                         192.955832    \n",
       "1                                         115.000000    \n",
       "2                                         165.764284    \n",
       "3                                         152.348208    \n",
       "4                                         195.567717    \n",
       "\n",
       "   SAGE_goNoGo_v2___response_time_std_dev_am  \\\n",
       "0                                  64.697124   \n",
       "1                                  61.537105   \n",
       "2                                  58.109381   \n",
       "3                                  53.074668   \n",
       "4                                  41.501349   \n",
       "\n",
       "   SAGE_goNoGo_v2___response_time_std_dev_first_third_am  \\\n",
       "0                                          86.373194       \n",
       "1                                          62.169042       \n",
       "2                                          45.919932       \n",
       "3                                          35.585581       \n",
       "4                                          22.935150       \n",
       "\n",
       "   SAGE_goNoGo_v2___response_time_std_dev_second_third_am  \\\n",
       "0                                          42.636935        \n",
       "1                                          43.073851        \n",
       "2                                          55.944442        \n",
       "3                                          70.003606        \n",
       "4                                          29.886280        \n",
       "\n",
       "   SAGE_goNoGo_v2___response_time_std_dev_last_third_am  \\\n",
       "0                                          48.659129      \n",
       "1                                          38.231737      \n",
       "2                                          45.110706      \n",
       "3                                          43.206162      \n",
       "4                                          65.962699      \n",
       "\n",
       "   SAGE_goNoGo_v2___response_time_mean_after_one_incorrect_am  \\\n",
       "0                                         350.313803            \n",
       "1                                           0.000000            \n",
       "2                                         100.982100            \n",
       "3                                           0.000000            \n",
       "4                                          50.006330            \n",
       "\n",
       "   SAGE_goNoGo_v2___response_time_mean_after_one_incorrect_first_third_am  \\\n",
       "0                                         295.164833                        \n",
       "1                                           0.000000                        \n",
       "2                                           0.000000                        \n",
       "3                                           0.000000                        \n",
       "4                                          50.006330                        \n",
       "\n",
       "   SAGE_goNoGo_v2___response_time_mean_after_one_incorrect_second_third_am  \\\n",
       "0                                           250.0000                         \n",
       "1                                             0.0000                         \n",
       "2                                           100.9821                         \n",
       "3                                             0.0000                         \n",
       "4                                             0.0000                         \n",
       "\n",
       "   SAGE_goNoGo_v2___response_time_mean_after_one_incorrect_last_third_am  \\\n",
       "0                                          88.288665                       \n",
       "1                                           0.000000                       \n",
       "2                                           0.000000                       \n",
       "3                                           0.000000                       \n",
       "4                                           0.000000                       \n",
       "\n",
       "   SAGE_goNoGo_v2___response_time_mean_after_ten_correct_am  \\\n",
       "0                                         715.323165          \n",
       "1                                           0.000000          \n",
       "2                                         408.342808          \n",
       "3                                         541.388607          \n",
       "4                                         620.822251          \n",
       "\n",
       "   SAGE_goNoGo_v2___response_time_mean_after_ten_correct_first_third_am  \\\n",
       "0                                         750.000000                      \n",
       "1                                           0.000000                      \n",
       "2                                         412.928909                      \n",
       "3                                         541.388607                      \n",
       "4                                         308.246166                      \n",
       "\n",
       "   SAGE_goNoGo_v2___response_time_mean_after_ten_correct_second_third_am  \\\n",
       "0                                         125.000000                       \n",
       "1                                           0.000000                       \n",
       "2                                         101.578701                       \n",
       "3                                           0.000000                       \n",
       "4                                          67.542007                       \n",
       "\n",
       "   SAGE_goNoGo_v2___response_time_mean_after_ten_correct_last_third_am  \\\n",
       "0                                         430.646330                     \n",
       "1                                           0.000000                     \n",
       "2                                           0.000000                     \n",
       "3                                           0.000000                     \n",
       "4                                         307.928165                     \n",
       "\n",
       "   SAGE_goNoGo_v2___response_time_mean_correct_am  \\\n",
       "0                                      377.972501   \n",
       "1                                      479.225746   \n",
       "2                                      357.573675   \n",
       "3                                      412.288004   \n",
       "4                                      371.599778   \n",
       "\n",
       "   SAGE_goNoGo_v2___response_time_mean_correct_first_third_am  \\\n",
       "0                                         389.485132            \n",
       "1                                         489.523810            \n",
       "2                                         354.072281            \n",
       "3                                         418.567755            \n",
       "4                                         358.616967            \n",
       "\n",
       "   SAGE_goNoGo_v2___response_time_mean_correct_second_third_am  \\\n",
       "0                                         370.527462             \n",
       "1                                         480.073260             \n",
       "2                                         371.364781             \n",
       "3                                         409.439067             \n",
       "4                                         389.392765             \n",
       "\n",
       "   SAGE_goNoGo_v2___response_time_mean_correct_last_third_am  \\\n",
       "0                                         380.960147           \n",
       "1                                         409.021978           \n",
       "2                                         346.369916           \n",
       "3                                         408.103848           \n",
       "4                                         372.692924           \n",
       "\n",
       "   SAGE_goNoGo_v2___response_time_mean_incorrect_am  \\\n",
       "0                                        258.453498   \n",
       "1                                        142.571429   \n",
       "2                                         25.982100   \n",
       "3                                          0.000000   \n",
       "4                                         50.006330   \n",
       "\n",
       "   SAGE_goNoGo_v2___response_time_mean_incorrect_first_third_am  \\\n",
       "0                                         170.164833              \n",
       "1                                          43.142857              \n",
       "2                                           0.000000              \n",
       "3                                           0.000000              \n",
       "4                                          50.006330              \n",
       "\n",
       "   SAGE_goNoGo_v2___response_time_mean_incorrect_second_third_am  \\\n",
       "0                                           0.000000               \n",
       "1                                          99.428571               \n",
       "2                                          25.982100               \n",
       "3                                           0.000000               \n",
       "4                                           0.000000               \n",
       "\n",
       "   SAGE_goNoGo_v2___response_time_mean_incorrect_last_third_am  \\\n",
       "0                                          88.288665             \n",
       "1                                           0.000000             \n",
       "2                                           0.000000             \n",
       "3                                           0.000000             \n",
       "4                                           0.000000             \n",
       "\n",
       "   SAGE_goNoGo_v2___researcher_code_am  \\\n",
       "0                                  NaN   \n",
       "1                                  NaN   \n",
       "2                                  NaN   \n",
       "3                                  NaN   \n",
       "4                                  NaN   \n",
       "\n",
       "   SAGE_morning_yesterday_sem_diff_v2___ROW_ID_am  \\\n",
       "0                                      740.571429   \n",
       "1                                      508.190476   \n",
       "2                                     1064.826087   \n",
       "3                                     1813.642857   \n",
       "4                                      144.312500   \n",
       "\n",
       "   SAGE_morning_yesterday_sem_diff_v2___ROW_VERSION_am  \\\n",
       "0                                          47.380952     \n",
       "1                                          33.000000     \n",
       "2                                          66.521739     \n",
       "3                                         118.571429     \n",
       "4                                          15.750000     \n",
       "\n",
       "   SAGE_morning_yesterday_sem_diff_v2___createdOnTimeZone_am  \\\n",
       "0                                            -400.00           \n",
       "1                                            -400.00           \n",
       "2                                            -400.00           \n",
       "3                                            -400.00           \n",
       "4                                            -406.25           \n",
       "\n",
       "   SAGE_morning_yesterday_sem_diff_v2___startDate.timezone_am  \\\n",
       "0                                                NaN            \n",
       "1                                             -400.0            \n",
       "2                                                NaN            \n",
       "3                                                NaN            \n",
       "4                                                NaN            \n",
       "\n",
       "   SAGE_morning_yesterday_sem_diff_v2___endDate.timezone_am  \\\n",
       "0                                                NaN          \n",
       "1                                             -400.0          \n",
       "2                                                NaN          \n",
       "3                                                NaN          \n",
       "4                                                NaN          \n",
       "\n",
       "   SAGE_morning_yesterday_sem_diff_v2___positive_am_am  \\\n",
       "0                                           2.285714     \n",
       "1                                           2.571429     \n",
       "2                                           1.913043     \n",
       "3                                           2.071429     \n",
       "4                                           2.375000     \n",
       "\n",
       "   SAGE_morning_yesterday_sem_diff_v2___intentional_am_am  \\\n",
       "0                                           5.904762        \n",
       "1                                           7.238095        \n",
       "2                                           7.217391        \n",
       "3                                           7.642857        \n",
       "4                                           5.812500        \n",
       "\n",
       "   SAGE_morning_yesterday_sem_diff_v2___productive_am_am  \\\n",
       "0                                           2.190476       \n",
       "1                                           2.523810       \n",
       "2                                           3.260870       \n",
       "3                                           1.285714       \n",
       "4                                           3.312500       \n",
       "\n",
       "   SAGE_morning_yesterday_sem_diff_v2___stressed_am_am  \\\n",
       "0                                           5.000000     \n",
       "1                                           6.095238     \n",
       "2                                           6.652174     \n",
       "3                                           3.714286     \n",
       "4                                           5.687500     \n",
       "\n",
       "   SAGE_morning_yesterday_sem_diff_v2___healthy_am_am  \\\n",
       "0                                           4.428571    \n",
       "1                                           3.142857    \n",
       "2                                           5.173913    \n",
       "3                                           3.428571    \n",
       "4                                           4.000000    \n",
       "\n",
       "   SAGE_morning_sem_diff_v2___ROW_ID_am  \\\n",
       "0                            741.909091   \n",
       "1                            503.047619   \n",
       "2                           1048.200000   \n",
       "3                           1770.928571   \n",
       "4                            144.625000   \n",
       "\n",
       "   SAGE_morning_sem_diff_v2___ROW_VERSION_am  \\\n",
       "0                                  47.863636   \n",
       "1                                  33.047619   \n",
       "2                                  66.050000   \n",
       "3                                 117.857143   \n",
       "4                                  15.937500   \n",
       "\n",
       "   SAGE_morning_sem_diff_v2___createdOnTimeZone_am  \\\n",
       "0                                          -400.00   \n",
       "1                                          -400.00   \n",
       "2                                          -400.00   \n",
       "3                                          -400.00   \n",
       "4                                          -406.25   \n",
       "\n",
       "   SAGE_morning_sem_diff_v2___startDate.timezone_am  \\\n",
       "0                                               NaN   \n",
       "1                                            -400.0   \n",
       "2                                               NaN   \n",
       "3                                               NaN   \n",
       "4                                               NaN   \n",
       "\n",
       "   SAGE_morning_sem_diff_v2___endDate.timezone_am  \\\n",
       "0                                             NaN   \n",
       "1                                          -400.0   \n",
       "2                                             NaN   \n",
       "3                                             NaN   \n",
       "4                                             NaN   \n",
       "\n",
       "   SAGE_morning_sem_diff_v2___focusnow_am_am  \\\n",
       "0                                   5.727273   \n",
       "1                                   4.142857   \n",
       "2                                   2.800000   \n",
       "3                                   1.714286   \n",
       "4                                   4.062500   \n",
       "\n",
       "   SAGE_morning_sem_diff_v2___intentionalnow_am_am  \\\n",
       "0                                         4.272727   \n",
       "1                                         6.761905   \n",
       "2                                         7.600000   \n",
       "3                                         9.214286   \n",
       "4                                         6.687500   \n",
       "\n",
       "   SAGE_morning_sem_diff_v2___borednow_am_am  \\\n",
       "0                                   5.772727   \n",
       "1                                   7.095238   \n",
       "2                                   6.050000   \n",
       "3                                   6.714286   \n",
       "4                                   6.500000   \n",
       "\n",
       "   SAGE_morning_sem_diff_v2___proudnow_am_am  \\\n",
       "0                                   4.318182   \n",
       "1                                   2.666667   \n",
       "2                                   4.950000   \n",
       "3                                   1.714286   \n",
       "4                                   2.875000   \n",
       "\n",
       "   SAGE_morning_sem_diff_v2___energeticnow_am_am  \\\n",
       "0                                       5.272727   \n",
       "1                                       4.380952   \n",
       "2                                       4.350000   \n",
       "3                                       5.500000   \n",
       "4                                       5.500000   \n",
       "\n",
       "   SAGE_morning_sem_diff_v2___frustratednow_am_am  \\\n",
       "0                                        5.500000   \n",
       "1                                        7.142857   \n",
       "2                                        5.950000   \n",
       "3                                        7.571429   \n",
       "4                                        7.437500   \n",
       "\n",
       "   SAGE_morning_sem_diff_v2___cautiousnow_am_am  \\\n",
       "0                                      4.545455   \n",
       "1                                      3.000000   \n",
       "2                                      5.200000   \n",
       "3                                      5.357143   \n",
       "4                                      4.812500   \n",
       "\n",
       "   SAGE_morning_sem_diff_v2___lonelynow_am_am  \\\n",
       "0                                    5.818182   \n",
       "1                                    7.285714   \n",
       "2                                    6.900000   \n",
       "3                                    6.714286   \n",
       "4                                    7.312500   \n",
       "\n",
       "   SAGE_morning_sem_diff_v2___optimisticnow_am_am  \\\n",
       "0                                        2.227273   \n",
       "1                                        2.476190   \n",
       "2                                        3.400000   \n",
       "3                                        0.428571   \n",
       "4                                        3.062500   \n",
       "\n",
       "   SAGE_morning_sem_diff_v2___determinednow_am_am  SAGE_pam_v2___ROW_ID_am  \\\n",
       "0                                        2.363636              1412.000000   \n",
       "1                                        2.761905               967.476190   \n",
       "2                                        2.950000              2003.650000   \n",
       "3                                        0.428571              3443.357143   \n",
       "4                                        3.937500               264.214286   \n",
       "\n",
       "   SAGE_pam_v2___ROW_VERSION_am  SAGE_pam_v2___createdOnTimeZone_am  \\\n",
       "0                     47.619048                         -400.000000   \n",
       "1                     33.047619                         -400.000000   \n",
       "2                     66.150000                         -400.000000   \n",
       "3                    117.857143                         -400.000000   \n",
       "4                     15.428571                         -407.142857   \n",
       "\n",
       "   SAGE_pam_v2___startDate.timezone_am  SAGE_pam_v2___endDate.timezone_am  \\\n",
       "0                                  NaN                                NaN   \n",
       "1                               -400.0                             -400.0   \n",
       "2                                  NaN                                NaN   \n",
       "3                                  NaN                                NaN   \n",
       "4                                  NaN                                NaN   \n",
       "\n",
       "   SAGE_pam_v2___affect_valence_am  SAGE_pam_v2___affect_arousal_am  \\\n",
       "0                         2.047619                         2.904762   \n",
       "1                         2.095238                         2.714286   \n",
       "2                         1.800000                         2.300000   \n",
       "3                         1.714286                         2.214286   \n",
       "4                         2.285714                         2.428571   \n",
       "\n",
       "   SAGE_pam_v2___positive_affect_am  SAGE_pam_v2___negative_affect_am  \\\n",
       "0                          7.095238                         10.714286   \n",
       "1                          7.095238                         10.333333   \n",
       "2                          5.500000                         11.100000   \n",
       "3                          5.071429                         11.357143   \n",
       "4                          7.571429                          9.285714   \n",
       "\n",
       "   SAGE_delay_discounting_raw_v6___ROW_ID_am  \\\n",
       "0                                 984.833333   \n",
       "1                                 683.666667   \n",
       "2                                        NaN   \n",
       "3                                1710.000000   \n",
       "4                                 202.333333   \n",
       "\n",
       "   SAGE_delay_discounting_raw_v6___ROW_VERSION_am  \\\n",
       "0                                       50.000000   \n",
       "1                                       31.222222   \n",
       "2                                             NaN   \n",
       "3                                      124.000000   \n",
       "4                                       13.666667   \n",
       "\n",
       "   SAGE_delay_discounting_raw_v6___createdOnTimeZone_am  \\\n",
       "0                                             -400.0      \n",
       "1                                             -400.0      \n",
       "2                                                NaN      \n",
       "3                                             -400.0      \n",
       "4                                             -400.0      \n",
       "\n",
       "   SAGE_delay_discounting_raw_v6___startDate.timezone_am  \\\n",
       "0                                             -400.0       \n",
       "1                                             -400.0       \n",
       "2                                                NaN       \n",
       "3                                             -400.0       \n",
       "4                                             -400.0       \n",
       "\n",
       "   SAGE_delay_discounting_raw_v6___endDate.timezone_am  \\\n",
       "0                                             -400.0     \n",
       "1                                             -400.0     \n",
       "2                                                NaN     \n",
       "3                                             -400.0     \n",
       "4                                             -400.0     \n",
       "\n",
       "   SAGE_delay_discounting_raw_v6___nowArray_last_am  \\\n",
       "0                                         90.625000   \n",
       "1                                         43.229167   \n",
       "2                                               NaN   \n",
       "3                                         60.937500   \n",
       "4                                         22.395833   \n",
       "\n",
       "   SAGE_delay_discounting_raw_v6___choiceArray_last_am  \\\n",
       "0                                          96.354167     \n",
       "1                                          55.729167     \n",
       "2                                                NaN     \n",
       "3                                          60.937500     \n",
       "4                                          77.604167     \n",
       "\n",
       "   SAGE_delay_discounting_raw_v6___times_v0_am  \\\n",
       "0                                  4437.987179   \n",
       "1                                  2415.444444   \n",
       "2                                          NaN   \n",
       "3                                  2344.540000   \n",
       "4                                  2836.244007   \n",
       "\n",
       "   SAGE_delay_discounting_raw_v6___times_v1_am  \\\n",
       "0                                  2148.687174   \n",
       "1                                  2478.555556   \n",
       "2                                          NaN   \n",
       "3                                  1341.037989   \n",
       "4                                  1940.040340   \n",
       "\n",
       "   SAGE_delay_discounting_raw_v6___times_v2_am  \\\n",
       "0                                  3317.202508   \n",
       "1                                  1053.777778   \n",
       "2                                          NaN   \n",
       "3                                  1924.366951   \n",
       "4                                  1754.707515   \n",
       "\n",
       "   SAGE_delay_discounting_raw_v6___times_v3_am  \\\n",
       "0                                  1289.785177   \n",
       "1                                  2075.444444   \n",
       "2                                          NaN   \n",
       "3                                  1356.292009   \n",
       "4                                  1224.896997   \n",
       "\n",
       "   SAGE_delay_discounting_raw_v6___times_v4_am  \\\n",
       "0                                  1165.962825   \n",
       "1                                   822.777778   \n",
       "2                                          NaN   \n",
       "3                                  2307.823002   \n",
       "4                                  2221.467654   \n",
       "\n",
       "   SAGE_delay_discounting_raw_v6___times_v5_am  \\\n",
       "0                                  1050.884336   \n",
       "1                                  1073.092889   \n",
       "2                                          NaN   \n",
       "3                                  4411.071002   \n",
       "4                                  1131.866008   \n",
       "\n",
       "   SAGE_delay_discounting_raw_v6___times_mean_am  \\\n",
       "0                                    2235.084866   \n",
       "1                                    4036.648148   \n",
       "2                                            NaN   \n",
       "3                                    2280.855159   \n",
       "4                                    1851.537087   \n",
       "\n",
       "   SAGE_morning_behavior_choices_v1___ROW_ID_am  \\\n",
       "0                                    734.952381   \n",
       "1                                    493.952381   \n",
       "2                                   1053.000000   \n",
       "3                                   1802.500000   \n",
       "4                                    143.187500   \n",
       "\n",
       "   SAGE_morning_behavior_choices_v1___ROW_VERSION_am  \\\n",
       "0                                          45.666667   \n",
       "1                                          31.047619   \n",
       "2                                          64.409091   \n",
       "3                                         116.916667   \n",
       "4                                          14.125000   \n",
       "\n",
       "   SAGE_morning_behavior_choices_v1___createdOnTimeZone_am  \\\n",
       "0                                            -400.00         \n",
       "1                                            -400.00         \n",
       "2                                            -400.00         \n",
       "3                                            -400.00         \n",
       "4                                            -406.25         \n",
       "\n",
       "   SAGE_morning_behavior_choices_v1___startDate.timezone_am  \\\n",
       "0                                            -400.00          \n",
       "1                                            -400.00          \n",
       "2                                            -400.00          \n",
       "3                                            -400.00          \n",
       "4                                            -406.25          \n",
       "\n",
       "   SAGE_morning_behavior_choices_v1___endDate.timezone_am  \\\n",
       "0                                            -400.00        \n",
       "1                                            -400.00        \n",
       "2                                            -400.00        \n",
       "3                                            -400.00        \n",
       "4                                            -406.25        \n",
       "\n",
       "   SAGE_morning_behavior_choices_v1___selected_junkfood_am  \\\n",
       "0                                           0.571429         \n",
       "1                                           0.285714         \n",
       "2                                           0.636364         \n",
       "3                                           0.000000         \n",
       "4                                           0.000000         \n",
       "\n",
       "   SAGE_morning_behavior_choices_v1___selected_gambling_am  \\\n",
       "0                                                0.0         \n",
       "1                                                0.0         \n",
       "2                                                0.0         \n",
       "3                                                0.0         \n",
       "4                                                0.0         \n",
       "\n",
       "   SAGE_morning_behavior_choices_v1___selected_smoke_am  \\\n",
       "0                                                0.0      \n",
       "1                                                0.0      \n",
       "2                                                0.0      \n",
       "3                                                0.0      \n",
       "4                                                0.0      \n",
       "\n",
       "   SAGE_morning_behavior_choices_v1___selected_mobile_am  \\\n",
       "0                                           0.000000       \n",
       "1                                           0.000000       \n",
       "2                                           0.409091       \n",
       "3                                           0.000000       \n",
       "4                                           0.000000       \n",
       "\n",
       "   SAGE_morning_behavior_choices_v1___selected_overeat_am  \\\n",
       "0                                           0.190476        \n",
       "1                                           0.000000        \n",
       "2                                           0.181818        \n",
       "3                                           0.250000        \n",
       "4                                           0.000000        \n",
       "\n",
       "   SAGE_morning_behavior_choices_v1___selected_mast_am  \\\n",
       "0                                                0.0     \n",
       "1                                                0.0     \n",
       "2                                                0.0     \n",
       "3                                                0.0     \n",
       "4                                                0.0     \n",
       "\n",
       "   SAGE_morning_behavior_choices_v1___selected_cut_am  \\\n",
       "0                                                  0    \n",
       "1                                                  0    \n",
       "2                                                  0    \n",
       "3                                                  0    \n",
       "4                                                  0    \n",
       "\n",
       "   SAGE_morning_behavior_choices_v1___selected_smedia_am  \\\n",
       "0                                           0.000000       \n",
       "1                                           0.000000       \n",
       "2                                           0.181818       \n",
       "3                                           0.000000       \n",
       "4                                           0.000000       \n",
       "\n",
       "   SAGE_morning_behavior_choices_v1___selected_alcohol_am  \\\n",
       "0                                              0.000        \n",
       "1                                              0.000        \n",
       "2                                              0.000        \n",
       "3                                              0.000        \n",
       "4                                              0.125        \n",
       "\n",
       "   SAGE_morning_behavior_choices_v1___selected_porn_am  \\\n",
       "0                                           0.000000     \n",
       "1                                           0.047619     \n",
       "2                                           0.000000     \n",
       "3                                           0.000000     \n",
       "4                                           0.000000     \n",
       "\n",
       "   SAGE_morning_behavior_choices_v1___selected_hair_am  \\\n",
       "0                                           0.428571     \n",
       "1                                           0.000000     \n",
       "2                                           0.000000     \n",
       "3                                           0.000000     \n",
       "4                                           0.000000     \n",
       "\n",
       "   SAGE_morning_behavior_choices_v1___selected_gaming_am  \\\n",
       "0                                                0.0       \n",
       "1                                                0.0       \n",
       "2                                                0.0       \n",
       "3                                                0.0       \n",
       "4                                                0.0       \n",
       "\n",
       "   SAGE_morning_behavior_choices_v1___selected_sitting_am  \\\n",
       "0                                           0.714286        \n",
       "1                                           0.000000        \n",
       "2                                           0.000000        \n",
       "3                                           0.416667        \n",
       "4                                           0.000000        \n",
       "\n",
       "   SAGE_morning_behavior_choices_v1___selected_spend_am  \\\n",
       "0                                                0.0      \n",
       "1                                                0.0      \n",
       "2                                                0.0      \n",
       "3                                                0.0      \n",
       "4                                                0.0      \n",
       "\n",
       "   SAGE_morning_behavior_choices_v1___selected_temper_am  \\\n",
       "0                                                0.0       \n",
       "1                                                0.0       \n",
       "2                                                0.0       \n",
       "3                                                0.0       \n",
       "4                                                0.0       \n",
       "\n",
       "   SAGE_morning_behavior_choices_v1___selected_othermore_am  \\\n",
       "0                                                0.0          \n",
       "1                                                0.0          \n",
       "2                                                0.0          \n",
       "3                                                0.0          \n",
       "4                                                0.0          \n",
       "\n",
       "   SAGE_discounting_raw_v2___ROW_ID_am  \\\n",
       "0                            91.600000   \n",
       "1                                  NaN   \n",
       "2                           272.666667   \n",
       "3                           733.000000   \n",
       "4                                  NaN   \n",
       "\n",
       "   SAGE_discounting_raw_v2___ROW_VERSION_am  \\\n",
       "0                                      14.6   \n",
       "1                                       NaN   \n",
       "2                                      35.0   \n",
       "3                                      90.0   \n",
       "4                                       NaN   \n",
       "\n",
       "   SAGE_discounting_raw_v2___dataGroups_am  \\\n",
       "0                                      NaN   \n",
       "1                                      NaN   \n",
       "2                                      NaN   \n",
       "3                                      NaN   \n",
       "4                                      NaN   \n",
       "\n",
       "   SAGE_discounting_raw_v2___createdOnTimeZone_am  \\\n",
       "0                                          -400.0   \n",
       "1                                             NaN   \n",
       "2                                          -400.0   \n",
       "3                                          -400.0   \n",
       "4                                             NaN   \n",
       "\n",
       "   SAGE_discounting_raw_v2___startDate.timezone_am  \\\n",
       "0                                           -400.0   \n",
       "1                                              NaN   \n",
       "2                                           -400.0   \n",
       "3                                           -400.0   \n",
       "4                                              NaN   \n",
       "\n",
       "   SAGE_discounting_raw_v2___endDate.timezone_am  \\\n",
       "0                                         -400.0   \n",
       "1                                            NaN   \n",
       "2                                         -400.0   \n",
       "3                                         -400.0   \n",
       "4                                            NaN   \n",
       "\n",
       "   SAGE_discounting_raw_v2___variableArray_last_am  \\\n",
       "0                                        45.312500   \n",
       "1                                              NaN   \n",
       "2                                        31.770833   \n",
       "3                                        39.062500   \n",
       "4                                              NaN   \n",
       "\n",
       "   SAGE_discounting_raw_v2___choiceArray_last_am  \\\n",
       "0                                      85.875000   \n",
       "1                                            NaN   \n",
       "2                                      48.958333   \n",
       "3                                     120.000000   \n",
       "4                                            NaN   \n",
       "\n",
       "   SAGE_discounting_raw_v2___times_v0_am  \\\n",
       "0                            4526.910818   \n",
       "1                                    NaN   \n",
       "2                            6641.783675   \n",
       "3                            4585.566998   \n",
       "4                                    NaN   \n",
       "\n",
       "   SAGE_discounting_raw_v2___times_v1_am  \\\n",
       "0                            1602.317584   \n",
       "1                                    NaN   \n",
       "2                            3282.207986   \n",
       "3                            2892.216980   \n",
       "4                                    NaN   \n",
       "\n",
       "   SAGE_discounting_raw_v2___times_v2_am  \\\n",
       "0                            1731.585813   \n",
       "1                                    NaN   \n",
       "2                            2990.946988   \n",
       "3                            4040.126026   \n",
       "4                                    NaN   \n",
       "\n",
       "   SAGE_discounting_raw_v2___times_v3_am  \\\n",
       "0                           11423.125386   \n",
       "1                                    NaN   \n",
       "2                            1296.425998   \n",
       "3                            1341.215968   \n",
       "4                                    NaN   \n",
       "\n",
       "   SAGE_discounting_raw_v2___times_v4_am  \\\n",
       "0                            1299.950790   \n",
       "1                                    NaN   \n",
       "2                            1077.539980   \n",
       "3                            1641.847968   \n",
       "4                                    NaN   \n",
       "\n",
       "   SAGE_discounting_raw_v2___times_v5_am  \\\n",
       "0                             788.259387   \n",
       "1                                    NaN   \n",
       "2                            1038.231015   \n",
       "3                            1156.017005   \n",
       "4                                    NaN   \n",
       "\n",
       "   SAGE_discounting_raw_v2___times_mean_am  \\\n",
       "0                              3562.024963   \n",
       "1                                      NaN   \n",
       "2                              2721.189274   \n",
       "3                              2609.498491   \n",
       "4                                      NaN   \n",
       "\n",
       "   SAGE_morning_yesterday_likert_v2___ROW_ID_am  \\\n",
       "0                                    723.809524   \n",
       "1                                    492.142857   \n",
       "2                                   1033.190476   \n",
       "3                                   1778.642857   \n",
       "4                                    142.187500   \n",
       "\n",
       "   SAGE_morning_yesterday_likert_v2___ROW_VERSION_am  \\\n",
       "0                                          46.523810   \n",
       "1                                          32.000000   \n",
       "2                                          65.190476   \n",
       "3                                         117.357143   \n",
       "4                                          15.000000   \n",
       "\n",
       "   SAGE_morning_yesterday_likert_v2___createdOnTimeZone_am  \\\n",
       "0                                            -400.00         \n",
       "1                                            -400.00         \n",
       "2                                            -400.00         \n",
       "3                                            -400.00         \n",
       "4                                            -406.25         \n",
       "\n",
       "   SAGE_morning_yesterday_likert_v2___startDate.timezone_am  \\\n",
       "0                                                NaN          \n",
       "1                                             -400.0          \n",
       "2                                                NaN          \n",
       "3                                                NaN          \n",
       "4                                                NaN          \n",
       "\n",
       "   SAGE_morning_yesterday_likert_v2___endDate.timezone_am  \\\n",
       "0                                                NaN        \n",
       "1                                             -400.0        \n",
       "2                                                NaN        \n",
       "3                                                NaN        \n",
       "4                                                NaN        \n",
       "\n",
       "   SAGE_morning_yesterday_likert_v2___regret_am_am  \\\n",
       "0                                         5.809524   \n",
       "1                                         2.666667   \n",
       "2                                         4.714286   \n",
       "3                                         0.785714   \n",
       "4                                         0.250000   \n",
       "\n",
       "   SAGE_morning_yesterday_likert_v2___goal_am_am  \\\n",
       "0                                       7.285714   \n",
       "1                                       6.047619   \n",
       "2                                       4.904762   \n",
       "3                                       6.214286   \n",
       "4                                       4.500000   \n",
       "\n",
       "   SAGE_morning_yesterday_likert_v2___exer_am_am  \\\n",
       "0                                       0.857143   \n",
       "1                                       6.000000   \n",
       "2                                       4.333333   \n",
       "3                                       4.571429   \n",
       "4                                       4.687500   \n",
       "\n",
       "   SAGE_morning_yesterday_likert_v2___saidnoth_am_am  \\\n",
       "0                                           5.095238   \n",
       "1                                           3.047619   \n",
       "2                                           1.714286   \n",
       "3                                           0.642857   \n",
       "4                                           0.625000   \n",
       "\n",
       "   SAGE_morning_yesterday_likert_v2___didnoth_am_am  \\\n",
       "0                                          5.619048   \n",
       "1                                          2.952381   \n",
       "2                                          4.380952   \n",
       "3                                          0.428571   \n",
       "4                                          1.250000   \n",
       "\n",
       "   SAGE_morning_yesterday_likert_v2___impat_am_am  SAGE_bart_v4___ROW_ID_am  \\\n",
       "0                                        3.761905                   657.500   \n",
       "1                                        3.095238                   550.000   \n",
       "2                                        3.952381                   957.375   \n",
       "3                                        4.928571                  1603.000   \n",
       "4                                        4.625000                   179.750   \n",
       "\n",
       "   SAGE_bart_v4___ROW_VERSION_am  SAGE_bart_v4___createdOnTimeZone_am  \\\n",
       "0                         43.000                               -400.0   \n",
       "1                         35.000                               -400.0   \n",
       "2                         64.875                               -400.0   \n",
       "3                        114.400                               -400.0   \n",
       "4                         16.250                               -450.0   \n",
       "\n",
       "   SAGE_bart_v4___startDate.timezone_am  SAGE_bart_v4___endDate.timezone_am  \\\n",
       "0                                -400.0                              -400.0   \n",
       "1                                -400.0                              -400.0   \n",
       "2                                -400.0                              -400.0   \n",
       "3                                -400.0                              -400.0   \n",
       "4                                -450.0                              -450.0   \n",
       "\n",
       "   SAGE_bart_v4___max_pumps_per_balloon_am  \\\n",
       "0                                     10.0   \n",
       "1                                      6.0   \n",
       "2                                     10.0   \n",
       "3                                     10.0   \n",
       "4                                     10.0   \n",
       "\n",
       "   SAGE_bart_v4___mean_pumps_after_explode_am  \\\n",
       "0                                    5.880628   \n",
       "1                                    3.729167   \n",
       "2                                    3.675595   \n",
       "3                                    5.275397   \n",
       "4                                    3.697917   \n",
       "\n",
       "   SAGE_bart_v4___mean_pumps_after_no_explode_am  \\\n",
       "0                                       5.593056   \n",
       "1                                       3.404720   \n",
       "2                                       3.960130   \n",
       "3                                       5.347619   \n",
       "4                                       4.297078   \n",
       "\n",
       "   SAGE_bart_v4___number_of_balloons_am  \\\n",
       "0                                  15.0   \n",
       "1                                  15.0   \n",
       "2                                  15.0   \n",
       "3                                  15.0   \n",
       "4                                  15.0   \n",
       "\n",
       "   SAGE_bart_v4___number_of_explosions_am  SAGE_bart_v4___pumps_mean_am  \\\n",
       "0                                   7.750                      5.683333   \n",
       "1                                   3.500                      3.450000   \n",
       "2                                   5.375                      3.891667   \n",
       "3                                   8.000                      5.293333   \n",
       "4                                   5.000                      4.083333   \n",
       "\n",
       "   SAGE_bart_v4___pumps_mean_first_third_am  \\\n",
       "0                                     4.550   \n",
       "1                                     3.450   \n",
       "2                                     4.225   \n",
       "3                                     5.520   \n",
       "4                                     3.750   \n",
       "\n",
       "   SAGE_bart_v4___pumps_mean_second_third_am  \\\n",
       "0                                      6.550   \n",
       "1                                      3.850   \n",
       "2                                      3.925   \n",
       "3                                      5.000   \n",
       "4                                      4.050   \n",
       "\n",
       "   SAGE_bart_v4___pumps_mean_last_third_am  SAGE_bart_v4___pumps_range_am  \\\n",
       "0                                    5.950                           7.00   \n",
       "1                                    3.050                           4.25   \n",
       "2                                    3.525                           4.25   \n",
       "3                                    5.360                           5.40   \n",
       "4                                    4.450                           4.75   \n",
       "\n",
       "   SAGE_bart_v4___pumps_range_first_third_am  \\\n",
       "0                                      3.750   \n",
       "1                                      4.000   \n",
       "2                                      2.875   \n",
       "3                                      3.200   \n",
       "4                                      2.750   \n",
       "\n",
       "   SAGE_bart_v4___pumps_range_second_third_am  \\\n",
       "0                                       5.250   \n",
       "1                                       3.000   \n",
       "2                                       2.875   \n",
       "3                                       4.800   \n",
       "4                                       2.500   \n",
       "\n",
       "   SAGE_bart_v4___pumps_range_last_third_am  \\\n",
       "0                                     5.750   \n",
       "1                                     2.500   \n",
       "2                                     2.625   \n",
       "3                                     4.600   \n",
       "4                                     2.750   \n",
       "\n",
       "   SAGE_bart_v4___pumps_standard_deviation_am  \\\n",
       "0                                    2.045075   \n",
       "1                                    1.335300   \n",
       "2                                    1.246164   \n",
       "3                                    1.864789   \n",
       "4                                    1.380531   \n",
       "\n",
       "   SAGE_bart_v4___pumps_standard_deviation_first_third_am  \\\n",
       "0                                           1.396082        \n",
       "1                                           1.496593        \n",
       "2                                           1.056766        \n",
       "3                                           1.216892        \n",
       "4                                           1.015435        \n",
       "\n",
       "   SAGE_bart_v4___pumps_standard_deviation_second_third_am  \\\n",
       "0                                           1.890752         \n",
       "1                                           1.127719         \n",
       "2                                           1.099562         \n",
       "3                                           1.949553         \n",
       "4                                           0.889776         \n",
       "\n",
       "   SAGE_bart_v4___pumps_standard_deviation_last_third_am  \\\n",
       "0                                           1.944723       \n",
       "1                                           0.997773       \n",
       "2                                           0.975065       \n",
       "3                                           1.958276       \n",
       "4                                           1.074569       \n",
       "\n",
       "   SAGE_bart_v4___researcher_code_am  SAGE_bart_v4___total_gains_am  \n",
       "0                                NaN                      3132.3125  \n",
       "1                                NaN                      7752.2500  \n",
       "2                                NaN                      4224.4375  \n",
       "3                                NaN                     11400.0000  \n",
       "4                                NaN                      7876.7500  "
      ]
     },
     "execution_count": 3,
     "metadata": {},
     "output_type": "execute_result"
    }
   ],
   "source": [
    "am.head()"
   ]
  },
  {
   "cell_type": "markdown",
   "metadata": {
    "collapsed": true
   },
   "source": [
    "## BART"
   ]
  },
  {
   "cell_type": "code",
   "execution_count": 4,
   "metadata": {
    "collapsed": true
   },
   "outputs": [],
   "source": [
    "def describe_bart(df, time):\n",
    "    name = 'SAGE_bart_v4'\n",
    "    \n",
    "    columns = [\n",
    "        '___max_pumps_per_balloon',\n",
    "        '___mean_pumps_after_explode',\n",
    "        '___mean_pumps_after_no_explode',\n",
    "        '___number_of_explosions',\n",
    "        '___pumps_mean',\n",
    "        '___pumps_mean_first_third',\n",
    "        '___pumps_mean_second_third',\n",
    "        '___pumps_mean_last_third',\n",
    "        '___pumps_range',\n",
    "        '___pumps_range_first_third',\n",
    "        '___pumps_range_second_third',\n",
    "        '___pumps_range_last_third',\n",
    "        '___pumps_standard_deviation',\n",
    "        '___pumps_standard_deviation_first_third',\n",
    "        '___pumps_standard_deviation_second_third',\n",
    "        '___pumps_standard_deviation_last_third',\n",
    "        '___total_gains'\n",
    "    ]\n",
    "    \n",
    "    for col in columns:        \n",
    "        print(df[name + col + time].describe())\n",
    "        df[name + col + time].plot.hist(title=df[name + col + time].name)\n",
    "        plt.show()\n",
    "        print()"
   ]
  },
  {
   "cell_type": "code",
   "execution_count": 5,
   "metadata": {},
   "outputs": [
    {
     "name": "stdout",
     "output_type": "stream",
     "text": [
      "count    97.000000\n",
      "mean      9.252455\n",
      "std       1.805819\n",
      "min       1.333333\n",
      "25%      10.000000\n",
      "50%      10.000000\n",
      "75%      10.000000\n",
      "max      12.000000\n",
      "Name: SAGE_bart_v4___max_pumps_per_balloon_am, dtype: float64\n"
     ]
    },
    {
     "data": {
      "image/png": "[encoded data removed]",
      "text/plain": [
       "<matplotlib.figure.Figure at 0x7ff6a1f632e8>"
      ]
     },
     "metadata": {},
     "output_type": "display_data"
    },
    {
     "name": "stdout",
     "output_type": "stream",
     "text": [
      "\n",
      "count    97.000000\n",
      "mean      3.937266\n",
      "std       1.087533\n",
      "min       0.000000\n",
      "25%       3.271667\n",
      "50%       3.873810\n",
      "75%       4.541883\n",
      "max       7.404762\n",
      "Name: SAGE_bart_v4___mean_pumps_after_explode_am, dtype: float64\n"
     ]
    },
    {
     "data": {
      "image/png": "[encoded data removed]",
      "text/plain": [
       "<matplotlib.figure.Figure at 0x7ff6a071a588>"
      ]
     },
     "metadata": {},
     "output_type": "display_data"
    },
    {
     "name": "stdout",
     "output_type": "stream",
     "text": [
      "\n",
      "count    97.000000\n",
      "mean      4.279299\n",
      "std       1.086807\n",
      "min       1.333333\n",
      "25%       3.521479\n",
      "50%       4.206154\n",
      "75%       5.048611\n",
      "max       7.612698\n",
      "Name: SAGE_bart_v4___mean_pumps_after_no_explode_am, dtype: float64\n"
     ]
    },
    {
     "data": {
      "image/png": "[encoded data removed]",
      "text/plain": [
       "<matplotlib.figure.Figure at 0x7ff6a05e8080>"
      ]
     },
     "metadata": {},
     "output_type": "display_data"
    },
    {
     "name": "stdout",
     "output_type": "stream",
     "text": [
      "\n",
      "count    97.000000\n",
      "mean      5.407469\n",
      "std       2.294070\n",
      "min       0.000000\n",
      "25%       4.000000\n",
      "50%       5.222222\n",
      "75%       6.818182\n",
      "max      15.000000\n",
      "Name: SAGE_bart_v4___number_of_explosions_am, dtype: float64\n"
     ]
    },
    {
     "data": {
      "image/png": "[encoded data removed]",
      "text/plain": [
       "<matplotlib.figure.Figure at 0x7ff6a05a07f0>"
      ]
     },
     "metadata": {},
     "output_type": "display_data"
    },
    {
     "name": "stdout",
     "output_type": "stream",
     "text": [
      "\n",
      "count    97.000000\n",
      "mean      4.169093\n",
      "std       1.004030\n",
      "min       1.333333\n",
      "25%       3.533333\n",
      "50%       4.093333\n",
      "75%       4.700000\n",
      "max       7.311111\n",
      "Name: SAGE_bart_v4___pumps_mean_am, dtype: float64\n"
     ]
    },
    {
     "data": {
      "image/png": "[encoded data removed]",
      "text/plain": [
       "<matplotlib.figure.Figure at 0x7ff6a048c9b0>"
      ]
     },
     "metadata": {},
     "output_type": "display_data"
    },
    {
     "name": "stdout",
     "output_type": "stream",
     "text": [
      "\n",
      "count    97.000000\n",
      "mean      4.103674\n",
      "std       1.065062\n",
      "min       1.333333\n",
      "25%       3.428571\n",
      "50%       4.085714\n",
      "75%       4.685714\n",
      "max       7.300000\n",
      "Name: SAGE_bart_v4___pumps_mean_first_third_am, dtype: float64\n"
     ]
    },
    {
     "data": {
      "image/png": "[encoded data removed]",
      "text/plain": [
       "<matplotlib.figure.Figure at 0x7ff6a05b2400>"
      ]
     },
     "metadata": {},
     "output_type": "display_data"
    },
    {
     "name": "stdout",
     "output_type": "stream",
     "text": [
      "\n",
      "count    97.000000\n",
      "mean      4.207852\n",
      "std       1.070364\n",
      "min       1.333333\n",
      "25%       3.500000\n",
      "50%       4.080000\n",
      "75%       4.890909\n",
      "max       6.733333\n",
      "Name: SAGE_bart_v4___pumps_mean_second_third_am, dtype: float64\n"
     ]
    },
    {
     "data": {
      "image/png": "[encoded data removed]",
      "text/plain": [
       "<matplotlib.figure.Figure at 0x7ff6a0734470>"
      ]
     },
     "metadata": {},
     "output_type": "display_data"
    },
    {
     "name": "stdout",
     "output_type": "stream",
     "text": [
      "\n",
      "count    97.000000\n",
      "mean      4.195754\n",
      "std       1.070419\n",
      "min       1.333333\n",
      "25%       3.566667\n",
      "50%       4.150000\n",
      "75%       4.771429\n",
      "max       8.200000\n",
      "Name: SAGE_bart_v4___pumps_mean_last_third_am, dtype: float64\n"
     ]
    },
    {
     "data": {
      "image/png": "[encoded data removed]",
      "text/plain": [
       "<matplotlib.figure.Figure at 0x7ff6a0520550>"
      ]
     },
     "metadata": {},
     "output_type": "display_data"
    },
    {
     "name": "stdout",
     "output_type": "stream",
     "text": [
      "\n",
      "count    97.000000\n",
      "mean      4.642363\n",
      "std       1.602022\n",
      "min       0.000000\n",
      "25%       3.500000\n",
      "50%       4.500000\n",
      "75%       5.500000\n",
      "max      10.000000\n",
      "Name: SAGE_bart_v4___pumps_range_am, dtype: float64\n"
     ]
    },
    {
     "data": {
      "image/png": "[encoded data removed]",
      "text/plain": [
       "<matplotlib.figure.Figure at 0x7ff6a04a6748>"
      ]
     },
     "metadata": {},
     "output_type": "display_data"
    },
    {
     "name": "stdout",
     "output_type": "stream",
     "text": [
      "\n",
      "count    97.000000\n",
      "mean      2.927785\n",
      "std       1.273960\n",
      "min       0.000000\n",
      "25%       2.000000\n",
      "50%       2.750000\n",
      "75%       3.500000\n",
      "max       8.000000\n",
      "Name: SAGE_bart_v4___pumps_range_first_third_am, dtype: float64\n"
     ]
    },
    {
     "data": {
      "image/png": "[encoded data removed]",
      "text/plain": [
       "<matplotlib.figure.Figure at 0x7ff6a0684da0>"
      ]
     },
     "metadata": {},
     "output_type": "display_data"
    },
    {
     "name": "stdout",
     "output_type": "stream",
     "text": [
      "\n",
      "count    97.000000\n",
      "mean      2.998799\n",
      "std       1.281323\n",
      "min       0.000000\n",
      "25%       2.142857\n",
      "50%       2.857143\n",
      "75%       3.800000\n",
      "max       7.000000\n",
      "Name: SAGE_bart_v4___pumps_range_second_third_am, dtype: float64\n"
     ]
    },
    {
     "data": {
      "image/png": "[encoded data removed]",
      "text/plain": [
       "<matplotlib.figure.Figure at 0x7ff6a03f7e48>"
      ]
     },
     "metadata": {},
     "output_type": "display_data"
    },
    {
     "name": "stdout",
     "output_type": "stream",
     "text": [
      "\n",
      "count    97.000000\n",
      "mean      3.197928\n",
      "std       1.448378\n",
      "min       0.000000\n",
      "25%       2.300000\n",
      "50%       3.000000\n",
      "75%       3.900000\n",
      "max       8.000000\n",
      "Name: SAGE_bart_v4___pumps_range_last_third_am, dtype: float64\n"
     ]
    },
    {
     "data": {
      "image/png": "[encoded data removed]",
      "text/plain": [
       "<matplotlib.figure.Figure at 0x7ff6a0309358>"
      ]
     },
     "metadata": {},
     "output_type": "display_data"
    },
    {
     "name": "stdout",
     "output_type": "stream",
     "text": [
      "\n",
      "count    97.000000\n",
      "mean      1.374298\n",
      "std       0.493001\n",
      "min       0.000000\n",
      "25%       1.022879\n",
      "50%       1.335300\n",
      "75%       1.621975\n",
      "max       3.023857\n",
      "Name: SAGE_bart_v4___pumps_standard_deviation_am, dtype: float64\n"
     ]
    },
    {
     "data": {
      "image/png": "[encoded data removed]",
      "text/plain": [
       "<matplotlib.figure.Figure at 0x7ff6a0368f98>"
      ]
     },
     "metadata": {},
     "output_type": "display_data"
    },
    {
     "name": "stdout",
     "output_type": "stream",
     "text": [
      "\n",
      "count    97.000000\n",
      "mean      1.105410\n",
      "std       0.467222\n",
      "min       0.000000\n",
      "25%       0.793285\n",
      "50%       1.031595\n",
      "75%       1.378592\n",
      "max       3.066931\n",
      "Name: SAGE_bart_v4___pumps_standard_deviation_first_third_am, dtype: float64\n"
     ]
    },
    {
     "data": {
      "image/png": "[encoded data removed]",
      "text/plain": [
       "<matplotlib.figure.Figure at 0x7ff6a020a860>"
      ]
     },
     "metadata": {},
     "output_type": "display_data"
    },
    {
     "name": "stdout",
     "output_type": "stream",
     "text": [
      "\n",
      "count    97.000000\n",
      "mean      1.136680\n",
      "std       0.485952\n",
      "min       0.000000\n",
      "25%       0.833743\n",
      "50%       1.062371\n",
      "75%       1.380122\n",
      "max       2.587361\n",
      "Name: SAGE_bart_v4___pumps_standard_deviation_second_third_am, dtype: float64\n"
     ]
    },
    {
     "data": {
      "image/png": "[encoded data removed]",
      "text/plain": [
       "<matplotlib.figure.Figure at 0x7ff6a019e6d8>"
      ]
     },
     "metadata": {},
     "output_type": "display_data"
    },
    {
     "name": "stdout",
     "output_type": "stream",
     "text": [
      "\n",
      "count    97.000000\n",
      "mean      1.197893\n",
      "std       0.529806\n",
      "min       0.000000\n",
      "25%       0.877480\n",
      "50%       1.144533\n",
      "75%       1.422914\n",
      "max       2.872655\n",
      "Name: SAGE_bart_v4___pumps_standard_deviation_last_third_am, dtype: float64\n"
     ]
    },
    {
     "data": {
      "image/png": "[encoded data removed]",
      "text/plain": [
       "<matplotlib.figure.Figure at 0x7ff6a0111278>"
      ]
     },
     "metadata": {},
     "output_type": "display_data"
    },
    {
     "name": "stdout",
     "output_type": "stream",
     "text": [
      "\n",
      "count       97.000000\n",
      "mean      4847.394222\n",
      "std       2423.053351\n",
      "min          0.000000\n",
      "25%       3320.062500\n",
      "50%       5027.700000\n",
      "75%       6419.972222\n",
      "max      11400.000000\n",
      "Name: SAGE_bart_v4___total_gains_am, dtype: float64\n"
     ]
    },
    {
     "data": {
      "image/png": "[encoded data removed]",
      "text/plain": [
       "<matplotlib.figure.Figure at 0x7ff6a01fa630>"
      ]
     },
     "metadata": {},
     "output_type": "display_data"
    },
    {
     "name": "stdout",
     "output_type": "stream",
     "text": [
      "\n"
     ]
    }
   ],
   "source": [
    "describe_bart(am, '_am')"
   ]
  },
  {
   "cell_type": "code",
   "execution_count": 6,
   "metadata": {},
   "outputs": [
    {
     "name": "stdout",
     "output_type": "stream",
     "text": [
      "count    98.000000\n",
      "mean      9.188010\n",
      "std       1.794777\n",
      "min       1.666667\n",
      "25%      10.000000\n",
      "50%      10.000000\n",
      "75%      10.000000\n",
      "max      11.000000\n",
      "Name: SAGE_bart_v4___max_pumps_per_balloon_pm, dtype: float64\n"
     ]
    },
    {
     "data": {
      "image/png": "[encoded data removed]",
      "text/plain": [
       "<matplotlib.figure.Figure at 0x7ff6a020a630>"
      ]
     },
     "metadata": {},
     "output_type": "display_data"
    },
    {
     "name": "stdout",
     "output_type": "stream",
     "text": [
      "\n",
      "count    98.000000\n",
      "mean      3.717288\n",
      "std       1.163841\n",
      "min       0.666667\n",
      "25%       3.017130\n",
      "50%       3.741667\n",
      "75%       4.342448\n",
      "max       6.833333\n",
      "Name: SAGE_bart_v4___mean_pumps_after_explode_pm, dtype: float64\n"
     ]
    },
    {
     "data": {
      "image/png": "[encoded data removed]",
      "text/plain": [
       "<matplotlib.figure.Figure at 0x7ff6a0734c18>"
      ]
     },
     "metadata": {},
     "output_type": "display_data"
    },
    {
     "name": "stdout",
     "output_type": "stream",
     "text": [
      "\n",
      "count    98.000000\n",
      "mean      4.090342\n",
      "std       1.065748\n",
      "min       1.642857\n",
      "25%       3.378258\n",
      "50%       4.113889\n",
      "75%       4.762689\n",
      "max       7.317460\n",
      "Name: SAGE_bart_v4___mean_pumps_after_no_explode_pm, dtype: float64\n"
     ]
    },
    {
     "data": {
      "image/png": "[encoded data removed]",
      "text/plain": [
       "<matplotlib.figure.Figure at 0x7ff6a01cf2e8>"
      ]
     },
     "metadata": {},
     "output_type": "display_data"
    },
    {
     "name": "stdout",
     "output_type": "stream",
     "text": [
      "\n",
      "count    98.000000\n",
      "mean      4.941110\n",
      "std       2.000156\n",
      "min       0.333333\n",
      "25%       3.541667\n",
      "50%       4.775000\n",
      "75%       5.968750\n",
      "max      10.000000\n",
      "Name: SAGE_bart_v4___number_of_explosions_pm, dtype: float64\n"
     ]
    },
    {
     "data": {
      "image/png": "[encoded data removed]",
      "text/plain": [
       "<matplotlib.figure.Figure at 0x7ff6a011c940>"
      ]
     },
     "metadata": {},
     "output_type": "display_data"
    },
    {
     "name": "stdout",
     "output_type": "stream",
     "text": [
      "\n",
      "count    98.000000\n",
      "mean      3.998345\n",
      "std       1.000907\n",
      "min       1.644444\n",
      "25%       3.387407\n",
      "50%       3.990370\n",
      "75%       4.666667\n",
      "max       6.533333\n",
      "Name: SAGE_bart_v4___pumps_mean_pm, dtype: float64\n"
     ]
    },
    {
     "data": {
      "image/png": "[encoded data removed]",
      "text/plain": [
       "<matplotlib.figure.Figure at 0x7ff6a06cf0f0>"
      ]
     },
     "metadata": {},
     "output_type": "display_data"
    },
    {
     "name": "stdout",
     "output_type": "stream",
     "text": [
      "\n",
      "count    98.000000\n",
      "mean      3.947910\n",
      "std       1.041285\n",
      "min       1.666667\n",
      "25%       3.270000\n",
      "50%       3.850000\n",
      "75%       4.512987\n",
      "max       6.600000\n",
      "Name: SAGE_bart_v4___pumps_mean_first_third_pm, dtype: float64\n"
     ]
    },
    {
     "data": {
      "image/png": "[encoded data removed]",
      "text/plain": [
       "<matplotlib.figure.Figure at 0x7ff6a024d128>"
      ]
     },
     "metadata": {},
     "output_type": "display_data"
    },
    {
     "name": "stdout",
     "output_type": "stream",
     "text": [
      "\n",
      "count    98.000000\n",
      "mean      4.061651\n",
      "std       1.068472\n",
      "min       1.666667\n",
      "25%       3.410000\n",
      "50%       4.083333\n",
      "75%       4.672500\n",
      "max       6.800000\n",
      "Name: SAGE_bart_v4___pumps_mean_second_third_pm, dtype: float64\n"
     ]
    },
    {
     "data": {
      "image/png": "[encoded data removed]",
      "text/plain": [
       "<matplotlib.figure.Figure at 0x7ff6a1f96278>"
      ]
     },
     "metadata": {},
     "output_type": "display_data"
    },
    {
     "name": "stdout",
     "output_type": "stream",
     "text": [
      "\n",
      "count    98.000000\n",
      "mean      3.985475\n",
      "std       1.047748\n",
      "min       1.600000\n",
      "25%       3.210000\n",
      "50%       4.000000\n",
      "75%       4.650000\n",
      "max       6.666667\n",
      "Name: SAGE_bart_v4___pumps_mean_last_third_pm, dtype: float64\n"
     ]
    },
    {
     "data": {
      "image/png": "[encoded data removed]",
      "text/plain": [
       "<matplotlib.figure.Figure at 0x7ff6a04b1358>"
      ]
     },
     "metadata": {},
     "output_type": "display_data"
    },
    {
     "name": "stdout",
     "output_type": "stream",
     "text": [
      "\n",
      "count    98.000000\n",
      "mean      4.344235\n",
      "std       1.484176\n",
      "min       0.333333\n",
      "25%       3.407143\n",
      "50%       4.250000\n",
      "75%       5.428571\n",
      "max       8.333333\n",
      "Name: SAGE_bart_v4___pumps_range_pm, dtype: float64\n"
     ]
    },
    {
     "data": {
      "image/png": "[encoded data removed]",
      "text/plain": [
       "<matplotlib.figure.Figure at 0x7ff6a0509160>"
      ]
     },
     "metadata": {},
     "output_type": "display_data"
    },
    {
     "name": "stdout",
     "output_type": "stream",
     "text": [
      "\n",
      "count    98.000000\n",
      "mean      2.714070\n",
      "std       1.190698\n",
      "min       0.000000\n",
      "25%       2.000000\n",
      "50%       2.500000\n",
      "75%       3.285714\n",
      "max       6.000000\n",
      "Name: SAGE_bart_v4___pumps_range_first_third_pm, dtype: float64\n"
     ]
    },
    {
     "data": {
      "image/png": "[encoded data removed]",
      "text/plain": [
       "<matplotlib.figure.Figure at 0x7ff6a0431048>"
      ]
     },
     "metadata": {},
     "output_type": "display_data"
    },
    {
     "name": "stdout",
     "output_type": "stream",
     "text": [
      "\n",
      "count    98.000000\n",
      "mean      2.880080\n",
      "std       1.285744\n",
      "min       0.000000\n",
      "25%       1.931818\n",
      "50%       2.800000\n",
      "75%       3.729167\n",
      "max       6.250000\n",
      "Name: SAGE_bart_v4___pumps_range_second_third_pm, dtype: float64\n"
     ]
    },
    {
     "data": {
      "image/png": "[encoded data removed]",
      "text/plain": [
       "<matplotlib.figure.Figure at 0x7ff6a050f400>"
      ]
     },
     "metadata": {},
     "output_type": "display_data"
    },
    {
     "name": "stdout",
     "output_type": "stream",
     "text": [
      "\n",
      "count    98.000000\n",
      "mean      2.940282\n",
      "std       1.281847\n",
      "min       0.333333\n",
      "25%       2.000000\n",
      "50%       2.759091\n",
      "75%       3.812500\n",
      "max       7.500000\n",
      "Name: SAGE_bart_v4___pumps_range_last_third_pm, dtype: float64\n"
     ]
    },
    {
     "data": {
      "image/png": "[encoded data removed]",
      "text/plain": [
       "<matplotlib.figure.Figure at 0x7ff6a1f57160>"
      ]
     },
     "metadata": {},
     "output_type": "display_data"
    },
    {
     "name": "stdout",
     "output_type": "stream",
     "text": [
      "\n",
      "count    98.000000\n",
      "mean      1.286875\n",
      "std       0.437087\n",
      "min       0.083148\n",
      "25%       1.014024\n",
      "50%       1.246103\n",
      "75%       1.587417\n",
      "max       2.586500\n",
      "Name: SAGE_bart_v4___pumps_standard_deviation_pm, dtype: float64\n"
     ]
    },
    {
     "data": {
      "image/png": "[encoded data removed]",
      "text/plain": [
       "<matplotlib.figure.Figure at 0x7ff6a0601160>"
      ]
     },
     "metadata": {},
     "output_type": "display_data"
    },
    {
     "name": "stdout",
     "output_type": "stream",
     "text": [
      "\n",
      "count    98.000000\n",
      "mean      1.016706\n",
      "std       0.422503\n",
      "min       0.000000\n",
      "25%       0.734953\n",
      "50%       0.968279\n",
      "75%       1.237196\n",
      "max       2.104628\n",
      "Name: SAGE_bart_v4___pumps_standard_deviation_first_third_pm, dtype: float64\n"
     ]
    },
    {
     "data": {
      "image/png": "[encoded data removed]",
      "text/plain": [
       "<matplotlib.figure.Figure at 0x7ff6a0579cc0>"
      ]
     },
     "metadata": {},
     "output_type": "display_data"
    },
    {
     "name": "stdout",
     "output_type": "stream",
     "text": [
      "\n",
      "count    98.000000\n",
      "mean      1.099074\n",
      "std       0.463700\n",
      "min       0.000000\n",
      "25%       0.735412\n",
      "50%       1.064056\n",
      "75%       1.432553\n",
      "max       2.367856\n",
      "Name: SAGE_bart_v4___pumps_standard_deviation_second_third_pm, dtype: float64\n"
     ]
    },
    {
     "data": {
      "image/png": "[encoded data removed]",
      "text/plain": [
       "<matplotlib.figure.Figure at 0x7ff6a049a518>"
      ]
     },
     "metadata": {},
     "output_type": "display_data"
    },
    {
     "name": "stdout",
     "output_type": "stream",
     "text": [
      "\n",
      "count    98.000000\n",
      "mean      1.114973\n",
      "std       0.489243\n",
      "min       0.133333\n",
      "25%       0.778550\n",
      "50%       1.047336\n",
      "75%       1.438124\n",
      "max       3.050039\n",
      "Name: SAGE_bart_v4___pumps_standard_deviation_last_third_pm, dtype: float64\n"
     ]
    },
    {
     "data": {
      "image/png": "[encoded data removed]",
      "text/plain": [
       "<matplotlib.figure.Figure at 0x7ff6a06fcc88>"
      ]
     },
     "metadata": {},
     "output_type": "display_data"
    },
    {
     "name": "stdout",
     "output_type": "stream",
     "text": [
      "\n",
      "count       98.000000\n",
      "mean      5023.785395\n",
      "std       3090.355870\n",
      "min          7.000000\n",
      "25%       3020.668750\n",
      "50%       4794.996032\n",
      "75%       6792.422348\n",
      "max      16500.000000\n",
      "Name: SAGE_bart_v4___total_gains_pm, dtype: float64\n"
     ]
    },
    {
     "data": {
      "image/png": "[encoded data removed]",
      "text/plain": [
       "<matplotlib.figure.Figure at 0x7ff6a0345080>"
      ]
     },
     "metadata": {},
     "output_type": "display_data"
    },
    {
     "name": "stdout",
     "output_type": "stream",
     "text": [
      "\n"
     ]
    }
   ],
   "source": [
    "describe_bart(pm, '_pm')"
   ]
  },
  {
   "cell_type": "markdown",
   "metadata": {
    "collapsed": true
   },
   "source": [
    "### Delay Discounting"
   ]
  },
  {
   "cell_type": "code",
   "execution_count": 7,
   "metadata": {},
   "outputs": [
    {
     "name": "stdout",
     "output_type": "stream",
     "text": [
      "count    94.000000\n",
      "mean      4.653202\n",
      "std       2.594230\n",
      "min       1.065833\n",
      "25%       2.835318\n",
      "50%       3.999847\n",
      "75%       5.882318\n",
      "max      15.434395\n",
      "Name: SAGE_delay_discounting_raw_v6___times_v0_am, dtype: float64\n"
     ]
    },
    {
     "data": {
      "image/png": "[encoded data removed]",
      "text/plain": [
       "<matplotlib.figure.Figure at 0x7ff6a01d9080>"
      ]
     },
     "metadata": {},
     "output_type": "display_data"
    },
    {
     "name": "stdout",
     "output_type": "stream",
     "text": [
      "\n",
      "count    94.000000\n",
      "mean      2.829993\n",
      "std       2.012139\n",
      "min       0.419233\n",
      "25%       1.453888\n",
      "50%       2.211865\n",
      "75%       3.403756\n",
      "max       9.841862\n",
      "Name: SAGE_delay_discounting_raw_v6___times_v1_am, dtype: float64\n"
     ]
    },
    {
     "data": {
      "image/png": "[encoded data removed]",
      "text/plain": [
       "<matplotlib.figure.Figure at 0x7ff6a02ef358>"
      ]
     },
     "metadata": {},
     "output_type": "display_data"
    },
    {
     "name": "stdout",
     "output_type": "stream",
     "text": [
      "\n",
      "count    94.000000\n",
      "mean      2.414400\n",
      "std       1.647465\n",
      "min       0.599980\n",
      "25%       1.367342\n",
      "50%       2.023041\n",
      "75%       2.750412\n",
      "max       8.820123\n",
      "Name: SAGE_delay_discounting_raw_v6___times_v2_am, dtype: float64\n"
     ]
    },
    {
     "data": {
      "image/png": "[encoded data removed]",
      "text/plain": [
       "<matplotlib.figure.Figure at 0x7ff6a02b2d68>"
      ]
     },
     "metadata": {},
     "output_type": "display_data"
    },
    {
     "name": "stdout",
     "output_type": "stream",
     "text": [
      "\n",
      "count    94.000000\n",
      "mean      2.134301\n",
      "std       2.150444\n",
      "min       0.334365\n",
      "25%       1.186755\n",
      "50%       1.690960\n",
      "75%       2.542027\n",
      "max      19.702367\n",
      "Name: SAGE_delay_discounting_raw_v6___times_v3_am, dtype: float64\n"
     ]
    },
    {
     "data": {
      "image/png": "[encoded data removed]",
      "text/plain": [
       "<matplotlib.figure.Figure at 0x7ff6a038c400>"
      ]
     },
     "metadata": {},
     "output_type": "display_data"
    },
    {
     "name": "stdout",
     "output_type": "stream",
     "text": [
      "\n",
      "count    94.000000\n",
      "mean      2.551435\n",
      "std       5.723843\n",
      "min       0.345797\n",
      "25%       1.046171\n",
      "50%       1.534136\n",
      "75%       2.286234\n",
      "max      53.262646\n",
      "Name: SAGE_delay_discounting_raw_v6___times_v4_am, dtype: float64\n"
     ]
    },
    {
     "data": {
      "image/png": "[encoded data removed]",
      "text/plain": [
       "<matplotlib.figure.Figure at 0x7ff6a01a0748>"
      ]
     },
     "metadata": {},
     "output_type": "display_data"
    },
    {
     "name": "stdout",
     "output_type": "stream",
     "text": [
      "\n",
      "count    94.000000\n",
      "mean      1.657932\n",
      "std       0.871530\n",
      "min       0.484076\n",
      "25%       1.072929\n",
      "50%       1.420101\n",
      "75%       1.928501\n",
      "max       4.692031\n",
      "Name: SAGE_delay_discounting_raw_v6___times_v5_am, dtype: float64\n"
     ]
    },
    {
     "data": {
      "image/png": "[encoded data removed]",
      "text/plain": [
       "<matplotlib.figure.Figure at 0x7ff6a01f7048>"
      ]
     },
     "metadata": {},
     "output_type": "display_data"
    },
    {
     "name": "stdout",
     "output_type": "stream",
     "text": [
      "\n",
      "count    94.000000\n",
      "mean      2.665419\n",
      "std       1.512899\n",
      "min       0.711216\n",
      "25%       1.716178\n",
      "50%       2.458486\n",
      "75%       3.349801\n",
      "max      12.053219\n",
      "Name: SAGE_delay_discounting_raw_v6___times_mean_am, dtype: float64\n"
     ]
    },
    {
     "data": {
      "image/png": "[encoded data removed]",
      "text/plain": [
       "<matplotlib.figure.Figure at 0x7ff6a1f63588>"
      ]
     },
     "metadata": {},
     "output_type": "display_data"
    },
    {
     "name": "stdout",
     "output_type": "stream",
     "text": [
      "\n"
     ]
    }
   ],
   "source": [
    "#Outlier analysis for time variables (times shown in seconds).\n",
    "for col in am.columns:\n",
    "    if 'delay' in col and ('times_v' in col or 'times_mean' in col):\n",
    "        times = pd.Series([x/1000 for x in am[col]], name=am[col].name)\n",
    "        print(times.describe())\n",
    "        times.plot.hist()\n",
    "        plt.show()\n",
    "        print()"
   ]
  },
  {
   "cell_type": "code",
   "execution_count": 8,
   "metadata": {},
   "outputs": [
    {
     "name": "stdout",
     "output_type": "stream",
     "text": [
      "count    94.000000\n",
      "mean      4.021421\n",
      "std       3.149196\n",
      "min       0.549056\n",
      "25%       2.267092\n",
      "50%       3.030854\n",
      "75%       4.821651\n",
      "max      18.914811\n",
      "Name: SAGE_delay_discounting_raw_v6___times_v0_pm, dtype: float64\n"
     ]
    },
    {
     "data": {
      "image/png": "[encoded data removed]",
      "text/plain": [
       "<matplotlib.figure.Figure at 0x7ff6a1f963c8>"
      ]
     },
     "metadata": {},
     "output_type": "display_data"
    },
    {
     "name": "stdout",
     "output_type": "stream",
     "text": [
      "\n",
      "count    94.000000\n",
      "mean      2.434479\n",
      "std       1.912700\n",
      "min       0.169760\n",
      "25%       1.202646\n",
      "50%       1.935702\n",
      "75%       3.050104\n",
      "max      10.183372\n",
      "Name: SAGE_delay_discounting_raw_v6___times_v1_pm, dtype: float64\n"
     ]
    },
    {
     "data": {
      "image/png": "[encoded data removed]",
      "text/plain": [
       "<matplotlib.figure.Figure at 0x7ff6a01cef28>"
      ]
     },
     "metadata": {},
     "output_type": "display_data"
    },
    {
     "name": "stdout",
     "output_type": "stream",
     "text": [
      "\n",
      "count    94.000000\n",
      "mean      2.387409\n",
      "std       2.844520\n",
      "min       0.375910\n",
      "25%       1.135266\n",
      "50%       1.558437\n",
      "75%       2.632163\n",
      "max      21.893992\n",
      "Name: SAGE_delay_discounting_raw_v6___times_v2_pm, dtype: float64\n"
     ]
    },
    {
     "data": {
      "image/png": "[encoded data removed]",
      "text/plain": [
       "<matplotlib.figure.Figure at 0x7ff6a01ba198>"
      ]
     },
     "metadata": {},
     "output_type": "display_data"
    },
    {
     "name": "stdout",
     "output_type": "stream",
     "text": [
      "\n",
      "count    94.000000\n",
      "mean      2.656474\n",
      "std       7.259080\n",
      "min       0.407324\n",
      "25%       1.045997\n",
      "50%       1.517635\n",
      "75%       2.191108\n",
      "max      66.397892\n",
      "Name: SAGE_delay_discounting_raw_v6___times_v3_pm, dtype: float64\n"
     ]
    },
    {
     "data": {
      "image/png": "[encoded data removed]",
      "text/plain": [
       "<matplotlib.figure.Figure at 0x7ff6a05ccd30>"
      ]
     },
     "metadata": {},
     "output_type": "display_data"
    },
    {
     "name": "stdout",
     "output_type": "stream",
     "text": [
      "\n",
      "count    94.000000\n",
      "mean      1.549755\n",
      "std       1.077605\n",
      "min       0.398492\n",
      "25%       0.898871\n",
      "50%       1.320315\n",
      "75%       1.883155\n",
      "max       8.233934\n",
      "Name: SAGE_delay_discounting_raw_v6___times_v4_pm, dtype: float64\n"
     ]
    },
    {
     "data": {
      "image/png": "[encoded data removed]",
      "text/plain": [
       "<matplotlib.figure.Figure at 0x7ff6a0106860>"
      ]
     },
     "metadata": {},
     "output_type": "display_data"
    },
    {
     "name": "stdout",
     "output_type": "stream",
     "text": [
      "\n",
      "count    94.000000\n",
      "mean      1.467370\n",
      "std       0.976577\n",
      "min       0.276389\n",
      "25%       0.838975\n",
      "50%       1.234129\n",
      "75%       1.886916\n",
      "max       6.811000\n",
      "Name: SAGE_delay_discounting_raw_v6___times_v5_pm, dtype: float64\n"
     ]
    },
    {
     "data": {
      "image/png": "[encoded data removed]",
      "text/plain": [
       "<matplotlib.figure.Figure at 0x7ff6a04c0828>"
      ]
     },
     "metadata": {},
     "output_type": "display_data"
    },
    {
     "name": "stdout",
     "output_type": "stream",
     "text": [
      "\n",
      "count    94.000000\n",
      "mean      2.213329\n",
      "std       1.174870\n",
      "min       0.385537\n",
      "25%       1.349473\n",
      "50%       2.010075\n",
      "75%       2.681084\n",
      "max       6.385745\n",
      "Name: SAGE_delay_discounting_raw_v6___times_mean_pm, dtype: float64\n"
     ]
    },
    {
     "data": {
      "image/png": "[encoded data removed]",
      "text/plain": [
       "<matplotlib.figure.Figure at 0x7ff6a05c65f8>"
      ]
     },
     "metadata": {},
     "output_type": "display_data"
    },
    {
     "name": "stdout",
     "output_type": "stream",
     "text": [
      "\n"
     ]
    }
   ],
   "source": [
    "#Outlier analysis for time variables (times shown in seconds).\n",
    "for col in pm.columns:\n",
    "    if 'delay' in col and ('times_v' in col or 'times_mean' in col):\n",
    "        times = pd.Series([x/1000 for x in pm[col]], name=pm[col].name)\n",
    "        print(times.describe())\n",
    "        times.plot.hist()\n",
    "        plt.show()\n",
    "        print()"
   ]
  },
  {
   "cell_type": "markdown",
   "metadata": {},
   "source": [
    "### Discounting Raw"
   ]
  },
  {
   "cell_type": "code",
   "execution_count": 15,
   "metadata": {},
   "outputs": [
    {
     "name": "stdout",
     "output_type": "stream",
     "text": [
      "count       62.000000\n",
      "mean      7004.718710\n",
      "std       4013.322463\n",
      "min       1618.977572\n",
      "25%       4206.879740\n",
      "50%       5857.663025\n",
      "75%       8842.633640\n",
      "max      22251.246765\n",
      "Name: SAGE_discounting_raw_v2___times_v0_am, dtype: float64\n"
     ]
    },
    {
     "data": {
      "image/png": "[encoded data removed]",
      "text/plain": [
       "<matplotlib.figure.Figure at 0x7ff6a0495860>"
      ]
     },
     "metadata": {},
     "output_type": "display_data"
    },
    {
     "name": "stdout",
     "output_type": "stream",
     "text": [
      "\n",
      "count       62.000000\n",
      "mean      3829.873095\n",
      "std       3657.198164\n",
      "min        898.250000\n",
      "25%       2376.445994\n",
      "50%       2857.358490\n",
      "75%       3958.901658\n",
      "max      24667.777702\n",
      "Name: SAGE_discounting_raw_v2___times_v1_am, dtype: float64\n"
     ]
    },
    {
     "data": {
      "image/png": "[encoded data removed]",
      "text/plain": [
       "<matplotlib.figure.Figure at 0x7ff6a03db828>"
      ]
     },
     "metadata": {},
     "output_type": "display_data"
    },
    {
     "name": "stdout",
     "output_type": "stream",
     "text": [
      "\n",
      "count       62.000000\n",
      "mean      3711.307085\n",
      "std       4540.353380\n",
      "min        165.127009\n",
      "25%       1735.240280\n",
      "50%       2962.875574\n",
      "75%       4081.852995\n",
      "max      34811.120987\n",
      "Name: SAGE_discounting_raw_v2___times_v2_am, dtype: float64\n"
     ]
    },
    {
     "data": {
      "image/png": "[encoded data removed]",
      "text/plain": [
       "<matplotlib.figure.Figure at 0x7ff6a06f2160>"
      ]
     },
     "metadata": {},
     "output_type": "display_data"
    },
    {
     "name": "stdout",
     "output_type": "stream",
     "text": [
      "\n",
      "count       62.000000\n",
      "mean      2480.242414\n",
      "std       1897.290863\n",
      "min        346.169010\n",
      "25%       1376.398981\n",
      "50%       2098.243002\n",
      "75%       2991.992498\n",
      "max      11423.125386\n",
      "Name: SAGE_discounting_raw_v2___times_v3_am, dtype: float64\n"
     ]
    },
    {
     "data": {
      "image/png": "[encoded data removed]",
      "text/plain": [
       "<matplotlib.figure.Figure at 0x7ff6a0239d30>"
      ]
     },
     "metadata": {},
     "output_type": "display_data"
    },
    {
     "name": "stdout",
     "output_type": "stream",
     "text": [
      "\n",
      "count      62.000000\n",
      "mean     2183.256688\n",
      "std      1311.090909\n",
      "min       336.562991\n",
      "25%      1258.096006\n",
      "50%      1897.680494\n",
      "75%      2825.338621\n",
      "max      6641.000000\n",
      "Name: SAGE_discounting_raw_v2___times_v4_am, dtype: float64\n"
     ]
    },
    {
     "data": {
      "image/png": "[encoded data removed]",
      "text/plain": [
       "<matplotlib.figure.Figure at 0x7ff6a052f5f8>"
      ]
     },
     "metadata": {},
     "output_type": "display_data"
    },
    {
     "name": "stdout",
     "output_type": "stream",
     "text": [
      "\n",
      "count      62.000000\n",
      "mean     2045.965779\n",
      "std      1237.766889\n",
      "min       432.165699\n",
      "25%      1141.150504\n",
      "50%      1864.063908\n",
      "75%      2554.890622\n",
      "max      7176.000000\n",
      "Name: SAGE_discounting_raw_v2___times_v5_am, dtype: float64\n"
     ]
    },
    {
     "data": {
      "image/png": "[encoded data removed]",
      "text/plain": [
       "<matplotlib.figure.Figure at 0x7ff6a02925c0>"
      ]
     },
     "metadata": {},
     "output_type": "display_data"
    },
    {
     "name": "stdout",
     "output_type": "stream",
     "text": [
      "\n",
      "count       62.000000\n",
      "mean      3476.730025\n",
      "std       1805.283722\n",
      "min        632.731833\n",
      "25%       2468.439413\n",
      "50%       3142.993810\n",
      "75%       4237.337464\n",
      "max      13506.642664\n",
      "Name: SAGE_discounting_raw_v2___times_mean_am, dtype: float64\n"
     ]
    },
    {
     "data": {
      "image/png": "[encoded data removed]",
      "text/plain": [
       "<matplotlib.figure.Figure at 0x7ff6a0148550>"
      ]
     },
     "metadata": {},
     "output_type": "display_data"
    },
    {
     "name": "stdout",
     "output_type": "stream",
     "text": [
      "\n"
     ]
    }
   ],
   "source": [
    "for col in am.columns:\n",
    "    if 'SAGE_discounting_raw' in col and 'times' in col:\n",
    "        print(am[col].describe())\n",
    "        am[col].plot.hist(title=am[col].name)\n",
    "        plt.show()            \n",
    "        print()"
   ]
  },
  {
   "cell_type": "code",
   "execution_count": 16,
   "metadata": {
    "scrolled": true
   },
   "outputs": [
    {
     "name": "stdout",
     "output_type": "stream",
     "text": [
      "count       62.000000\n",
      "mean      5915.154377\n",
      "std       4690.521678\n",
      "min        874.206344\n",
      "25%       3291.207520\n",
      "50%       5089.714254\n",
      "75%       6995.467313\n",
      "max      24313.322008\n",
      "Name: SAGE_discounting_raw_v2___times_v0_pm, dtype: float64\n"
     ]
    },
    {
     "data": {
      "image/png": "[encoded data removed]",
      "text/plain": [
       "<matplotlib.figure.Figure at 0x7ff6a0607208>"
      ]
     },
     "metadata": {},
     "output_type": "display_data"
    },
    {
     "name": "stdout",
     "output_type": "stream",
     "text": [
      "\n",
      "count       62.000000\n",
      "mean      3562.218943\n",
      "std       2710.760392\n",
      "min        681.997001\n",
      "25%       2026.144855\n",
      "50%       2816.642096\n",
      "75%       3863.490509\n",
      "max      13642.453015\n",
      "Name: SAGE_discounting_raw_v2___times_v1_pm, dtype: float64\n"
     ]
    },
    {
     "data": {
      "image/png": "[encoded data removed]",
      "text/plain": [
       "<matplotlib.figure.Figure at 0x7ff6a050fba8>"
      ]
     },
     "metadata": {},
     "output_type": "display_data"
    },
    {
     "name": "stdout",
     "output_type": "stream",
     "text": [
      "\n",
      "count       62.000000\n",
      "mean      2640.898498\n",
      "std       2146.501815\n",
      "min        445.250000\n",
      "25%       1559.623172\n",
      "50%       2240.031362\n",
      "75%       3316.047378\n",
      "max      15768.860519\n",
      "Name: SAGE_discounting_raw_v2___times_v2_pm, dtype: float64\n"
     ]
    },
    {
     "data": {
      "image/png": "[encoded data removed]",
      "text/plain": [
       "<matplotlib.figure.Figure at 0x7ff6a1f96550>"
      ]
     },
     "metadata": {},
     "output_type": "display_data"
    },
    {
     "name": "stdout",
     "output_type": "stream",
     "text": [
      "\n",
      "count      62.000000\n",
      "mean     1762.238976\n",
      "std      1034.812034\n",
      "min       402.390003\n",
      "25%      1020.097509\n",
      "50%      1609.921008\n",
      "75%      2292.924479\n",
      "max      5832.218329\n",
      "Name: SAGE_discounting_raw_v2___times_v3_pm, dtype: float64\n"
     ]
    },
    {
     "data": {
      "image/png": "[encoded data removed]",
      "text/plain": [
       "<matplotlib.figure.Figure at 0x7ff6a058d0b8>"
      ]
     },
     "metadata": {},
     "output_type": "display_data"
    },
    {
     "name": "stdout",
     "output_type": "stream",
     "text": [
      "\n",
      "count      62.000000\n",
      "mean     1814.752451\n",
      "std      1033.960092\n",
      "min       282.986045\n",
      "25%      1069.374025\n",
      "50%      1662.686005\n",
      "75%      2356.989756\n",
      "max      5482.645482\n",
      "Name: SAGE_discounting_raw_v2___times_v4_pm, dtype: float64\n"
     ]
    },
    {
     "data": {
      "image/png": "[encoded data removed]",
      "text/plain": [
       "<matplotlib.figure.Figure at 0x7ff6a0182b00>"
      ]
     },
     "metadata": {},
     "output_type": "display_data"
    },
    {
     "name": "stdout",
     "output_type": "stream",
     "text": [
      "\n",
      "count      62.000000\n",
      "mean     1839.637639\n",
      "std      1254.847809\n",
      "min       442.690998\n",
      "25%      1011.424147\n",
      "50%      1552.522997\n",
      "75%      2347.064857\n",
      "max      8348.996520\n",
      "Name: SAGE_discounting_raw_v2___times_v5_pm, dtype: float64\n"
     ]
    },
    {
     "data": {
      "image/png": "[encoded data removed]",
      "text/plain": [
       "<matplotlib.figure.Figure at 0x7ff6a05b6e48>"
      ]
     },
     "metadata": {},
     "output_type": "display_data"
    },
    {
     "name": "stdout",
     "output_type": "stream",
     "text": [
      "\n",
      "count      62.000000\n",
      "mean     2985.538373\n",
      "std      1685.546389\n",
      "min       641.625000\n",
      "25%      1775.348373\n",
      "50%      2814.698191\n",
      "75%      3523.324004\n",
      "max      8242.425342\n",
      "Name: SAGE_discounting_raw_v2___times_mean_pm, dtype: float64\n"
     ]
    },
    {
     "data": {
      "image/png": "[encoded data removed]",
      "text/plain": [
       "<matplotlib.figure.Figure at 0x7ff6a0665320>"
      ]
     },
     "metadata": {},
     "output_type": "display_data"
    },
    {
     "name": "stdout",
     "output_type": "stream",
     "text": [
      "\n"
     ]
    }
   ],
   "source": [
    "for col in pm.columns:\n",
    "    if 'SAGE_discounting_raw' in col and 'times' in col:\n",
    "        print(pm[col].describe())\n",
    "        pm[col].plot.hist(title=pm[col].name)\n",
    "        plt.show()            \n",
    "        print()"
   ]
  },
  {
   "cell_type": "code",
   "execution_count": 11,
   "metadata": {
    "collapsed": true
   },
   "outputs": [],
   "source": [
    "labels = [\n",
    "    '___number_of_correct_responses', \n",
    "    '___number_of_correct_nonresponses',\n",
    "    '___number_of_incorrect_responses',\n",
    "    '___number_of_incorrect_nonresponses',\n",
    "    '___response_time_mean',\n",
    "    '___response_time_range',\n",
    "    '___response_time_std_dev',\n",
    "    '___response_time_mean_after_one_incorrect',\n",
    "    '___response_time_mean_after_ten_correct',\n",
    "    '___response_time_mean_correct',\n",
    "    '___response_time_mean_incorrect'\n",
    "]"
   ]
  },
  {
   "cell_type": "code",
   "execution_count": 18,
   "metadata": {},
   "outputs": [
    {
     "name": "stdout",
     "output_type": "stream",
     "text": [
      "count    100.000000\n",
      "mean      30.852594\n",
      "std        8.472274\n",
      "min        7.000000\n",
      "25%       25.410714\n",
      "50%       34.400000\n",
      "75%       37.500000\n",
      "max       43.000000\n",
      "Name: SAGE_goNoGo_v2___number_of_correct_responses_am, dtype: float64\n"
     ]
    },
    {
     "data": {
      "image/png": "[encoded data removed]",
      "text/plain": [
       "<matplotlib.figure.Figure at 0x7ff6a0273b38>"
      ]
     },
     "metadata": {},
     "output_type": "display_data"
    },
    {
     "name": "stdout",
     "output_type": "stream",
     "text": [
      "\n",
      "count    100.000000\n",
      "mean      31.138602\n",
      "std        8.319427\n",
      "min        8.000000\n",
      "25%       24.666667\n",
      "50%       35.388889\n",
      "75%       37.375000\n",
      "max       42.333333\n",
      "Name: SAGE_goNoGo_v2___number_of_correct_nonresponses_am, dtype: float64\n"
     ]
    },
    {
     "data": {
      "image/png": "[encoded data removed]",
      "text/plain": [
       "<matplotlib.figure.Figure at 0x7ff6a0144400>"
      ]
     },
     "metadata": {},
     "output_type": "display_data"
    },
    {
     "name": "stdout",
     "output_type": "stream",
     "text": [
      "\n",
      "count    100.000000\n",
      "mean       0.396163\n",
      "std        0.521151\n",
      "min        0.000000\n",
      "25%        0.000000\n",
      "50%        0.211111\n",
      "75%        0.513889\n",
      "max        3.000000\n",
      "Name: SAGE_goNoGo_v2___number_of_incorrect_responses_am, dtype: float64\n"
     ]
    },
    {
     "data": {
      "image/png": "[encoded data removed]",
      "text/plain": [
       "<matplotlib.figure.Figure at 0x7ff6a022d160>"
      ]
     },
     "metadata": {},
     "output_type": "display_data"
    },
    {
     "name": "stdout",
     "output_type": "stream",
     "text": [
      "\n",
      "count    100.000000\n",
      "mean       0.722660\n",
      "std        1.240677\n",
      "min        0.000000\n",
      "25%        0.000000\n",
      "50%        0.316667\n",
      "75%        0.666667\n",
      "max        6.416667\n",
      "Name: SAGE_goNoGo_v2___number_of_incorrect_nonresponses_am, dtype: float64\n"
     ]
    },
    {
     "data": {
      "image/png": "[encoded data removed]",
      "text/plain": [
       "<matplotlib.figure.Figure at 0x7ff6a01f2128>"
      ]
     },
     "metadata": {},
     "output_type": "display_data"
    },
    {
     "name": "stdout",
     "output_type": "stream",
     "text": [
      "\n",
      "count    100.000000\n",
      "mean     433.865859\n",
      "std       77.876126\n",
      "min      321.339188\n",
      "25%      376.575928\n",
      "50%      410.680206\n",
      "75%      475.980229\n",
      "max      667.804818\n",
      "Name: SAGE_goNoGo_v2___response_time_mean_am, dtype: float64\n"
     ]
    },
    {
     "data": {
      "image/png": "[encoded data removed]",
      "text/plain": [
       "<matplotlib.figure.Figure at 0x7ff6a03810b8>"
      ]
     },
     "metadata": {},
     "output_type": "display_data"
    },
    {
     "name": "stdout",
     "output_type": "stream",
     "text": [
      "\n",
      "count    100.000000\n",
      "mean     251.779661\n",
      "std       69.536874\n",
      "min      100.718975\n",
      "25%      199.539830\n",
      "50%      240.419300\n",
      "75%      302.936636\n",
      "max      456.360742\n",
      "Name: SAGE_goNoGo_v2___response_time_range_am, dtype: float64\n"
     ]
    },
    {
     "data": {
      "image/png": "[encoded data removed]",
      "text/plain": [
       "<matplotlib.figure.Figure at 0x7ff6a0304278>"
      ]
     },
     "metadata": {},
     "output_type": "display_data"
    },
    {
     "name": "stdout",
     "output_type": "stream",
     "text": [
      "\n",
      "count    100.000000\n",
      "mean      55.516805\n",
      "std       14.157379\n",
      "min       31.082697\n",
      "25%       45.266520\n",
      "50%       54.284704\n",
      "75%       63.107993\n",
      "max      115.659820\n",
      "Name: SAGE_goNoGo_v2___response_time_std_dev_am, dtype: float64\n"
     ]
    },
    {
     "data": {
      "image/png": "[encoded data removed]",
      "text/plain": [
       "<matplotlib.figure.Figure at 0x7ff6a00d8908>"
      ]
     },
     "metadata": {},
     "output_type": "display_data"
    },
    {
     "name": "stdout",
     "output_type": "stream",
     "text": [
      "\n",
      "count      100.000000\n",
      "mean       519.157777\n",
      "std       2830.427744\n",
      "min          0.000000\n",
      "25%          0.000000\n",
      "50%        122.005127\n",
      "75%        251.018730\n",
      "max      26724.992434\n",
      "Name: SAGE_goNoGo_v2___response_time_mean_after_one_incorrect_am, dtype: float64\n"
     ]
    },
    {
     "data": {
      "image/png": "[encoded data removed]",
      "text/plain": [
       "<matplotlib.figure.Figure at 0x7ff6a00c5cc0>"
      ]
     },
     "metadata": {},
     "output_type": "display_data"
    },
    {
     "name": "stdout",
     "output_type": "stream",
     "text": [
      "\n",
      "count    100.000000\n",
      "mean     437.564067\n",
      "std      254.670987\n",
      "min        0.000000\n",
      "25%      360.190887\n",
      "50%      545.679111\n",
      "75%      616.991868\n",
      "max      750.000000\n",
      "Name: SAGE_goNoGo_v2___response_time_mean_after_ten_correct_am, dtype: float64\n"
     ]
    },
    {
     "data": {
      "image/png": "[encoded data removed]",
      "text/plain": [
       "<matplotlib.figure.Figure at 0x7ff6a029c6d8>"
      ]
     },
     "metadata": {},
     "output_type": "display_data"
    },
    {
     "name": "stdout",
     "output_type": "stream",
     "text": [
      "\n",
      "count    100.000000\n",
      "mean     434.814597\n",
      "std       77.782822\n",
      "min      326.372501\n",
      "25%      375.576635\n",
      "50%      410.463740\n",
      "75%      477.435433\n",
      "max      667.804818\n",
      "Name: SAGE_goNoGo_v2___response_time_mean_correct_am, dtype: float64\n"
     ]
    },
    {
     "data": {
      "image/png": "[encoded data removed]",
      "text/plain": [
       "<matplotlib.figure.Figure at 0x7ff6a048fa58>"
      ]
     },
     "metadata": {},
     "output_type": "display_data"
    },
    {
     "name": "stdout",
     "output_type": "stream",
     "text": [
      "\n",
      "count      100.000000\n",
      "mean       447.011028\n",
      "std       2802.060853\n",
      "min          0.000000\n",
      "25%          0.000000\n",
      "50%         68.105587\n",
      "75%        150.714625\n",
      "max      26474.992434\n",
      "Name: SAGE_goNoGo_v2___response_time_mean_incorrect_am, dtype: float64\n"
     ]
    },
    {
     "data": {
      "image/png": "[encoded data removed]",
      "text/plain": [
       "<matplotlib.figure.Figure at 0x7ff6a05d8e48>"
      ]
     },
     "metadata": {},
     "output_type": "display_data"
    },
    {
     "name": "stdout",
     "output_type": "stream",
     "text": [
      "\n"
     ]
    }
   ],
   "source": [
    "for label in labels:\n",
    "    col = 'SAGE_goNoGo_v2'\n",
    "    values = am[col + label + '_am']\n",
    "\n",
    "    if 'time' in label:\n",
    "        values = pd.Series(values, name=am[col+label+'_am'].name) #shown in seconds\n",
    "\n",
    "    print(values.describe())\n",
    "    values.plot.hist(title = label[3:])\n",
    "    plt.show()\n",
    "    print()"
   ]
  },
  {
   "cell_type": "code",
   "execution_count": 19,
   "metadata": {},
   "outputs": [
    {
     "name": "stdout",
     "output_type": "stream",
     "text": [
      "count    100.000000\n",
      "mean      31.608019\n",
      "std        8.412998\n",
      "min        5.000000\n",
      "25%       25.916667\n",
      "50%       35.675000\n",
      "75%       38.000000\n",
      "max       43.666667\n",
      "Name: SAGE_goNoGo_v2___number_of_correct_responses_pm, dtype: float64\n"
     ]
    },
    {
     "data": {
      "image/png": "[encoded data removed]",
      "text/plain": [
       "<matplotlib.figure.Figure at 0x7ff6a01414a8>"
      ]
     },
     "metadata": {},
     "output_type": "display_data"
    },
    {
     "name": "stdout",
     "output_type": "stream",
     "text": [
      "\n",
      "count    100.000000\n",
      "mean      31.150569\n",
      "std        8.107076\n",
      "min       10.000000\n",
      "25%       26.737500\n",
      "50%       35.000000\n",
      "75%       37.000000\n",
      "max       40.000000\n",
      "Name: SAGE_goNoGo_v2___number_of_correct_nonresponses_pm, dtype: float64\n"
     ]
    },
    {
     "data": {
      "image/png": "[encoded data removed]",
      "text/plain": [
       "<matplotlib.figure.Figure at 0x7ff6a07300f0>"
      ]
     },
     "metadata": {},
     "output_type": "display_data"
    },
    {
     "name": "stdout",
     "output_type": "stream",
     "text": [
      "\n",
      "count    100.000000\n",
      "mean       0.465957\n",
      "std        0.568695\n",
      "min        0.000000\n",
      "25%        0.000000\n",
      "50%        0.333333\n",
      "75%        0.635417\n",
      "max        3.000000\n",
      "Name: SAGE_goNoGo_v2___number_of_incorrect_responses_pm, dtype: float64\n"
     ]
    },
    {
     "data": {
      "image/png": "[encoded data removed]",
      "text/plain": [
       "<matplotlib.figure.Figure at 0x7ff6a03bf6a0>"
      ]
     },
     "metadata": {},
     "output_type": "display_data"
    },
    {
     "name": "stdout",
     "output_type": "stream",
     "text": [
      "\n",
      "count    100.000000\n",
      "mean       0.761389\n",
      "std        1.519212\n",
      "min        0.000000\n",
      "25%        0.000000\n",
      "50%        0.285714\n",
      "75%        0.808333\n",
      "max       11.333333\n",
      "Name: SAGE_goNoGo_v2___number_of_incorrect_nonresponses_pm, dtype: float64\n"
     ]
    },
    {
     "data": {
      "image/png": "[encoded data removed]",
      "text/plain": [
       "<matplotlib.figure.Figure at 0x7ff6a02a65f8>"
      ]
     },
     "metadata": {},
     "output_type": "display_data"
    },
    {
     "name": "stdout",
     "output_type": "stream",
     "text": [
      "\n",
      "count    100.000000\n",
      "mean     431.437167\n",
      "std       77.192662\n",
      "min      307.340255\n",
      "25%      372.562471\n",
      "50%      414.060548\n",
      "75%      474.329112\n",
      "max      639.809405\n",
      "Name: SAGE_goNoGo_v2___response_time_mean_pm, dtype: float64\n"
     ]
    },
    {
     "data": {
      "image/png": "[encoded data removed]",
      "text/plain": [
       "<matplotlib.figure.Figure at 0x7ff6a0426550>"
      ]
     },
     "metadata": {},
     "output_type": "display_data"
    },
    {
     "name": "stdout",
     "output_type": "stream",
     "text": [
      "\n",
      "count    100.000000\n",
      "mean     257.765620\n",
      "std       80.128801\n",
      "min      101.671517\n",
      "25%      198.679196\n",
      "50%      248.078209\n",
      "75%      306.423490\n",
      "max      469.866832\n",
      "Name: SAGE_goNoGo_v2___response_time_range_pm, dtype: float64\n"
     ]
    },
    {
     "data": {
      "image/png": "[encoded data removed]",
      "text/plain": [
       "<matplotlib.figure.Figure at 0x7ff6a0160860>"
      ]
     },
     "metadata": {},
     "output_type": "display_data"
    },
    {
     "name": "stdout",
     "output_type": "stream",
     "text": [
      "\n",
      "count    100.000000\n",
      "mean      56.374343\n",
      "std       13.553140\n",
      "min       33.020719\n",
      "25%       45.459310\n",
      "50%       55.663676\n",
      "75%       63.625546\n",
      "max       98.671721\n",
      "Name: SAGE_goNoGo_v2___response_time_std_dev_pm, dtype: float64\n"
     ]
    },
    {
     "data": {
      "image/png": "[encoded data removed]",
      "text/plain": [
       "<matplotlib.figure.Figure at 0x7ff6a016e390>"
      ]
     },
     "metadata": {},
     "output_type": "display_data"
    },
    {
     "name": "stdout",
     "output_type": "stream",
     "text": [
      "\n",
      "count    100.000000\n",
      "mean     172.235502\n",
      "std      186.998081\n",
      "min        0.000000\n",
      "25%        0.000000\n",
      "50%      122.328727\n",
      "75%      267.405722\n",
      "max      750.000000\n",
      "Name: SAGE_goNoGo_v2___response_time_mean_after_one_incorrect_pm, dtype: float64\n"
     ]
    },
    {
     "data": {
      "image/png": "[encoded data removed]",
      "text/plain": [
       "<matplotlib.figure.Figure at 0x7ff6a03092b0>"
      ]
     },
     "metadata": {},
     "output_type": "display_data"
    },
    {
     "name": "stdout",
     "output_type": "stream",
     "text": [
      "\n",
      "count    100.000000\n",
      "mean     444.993843\n",
      "std      247.297833\n",
      "min        0.000000\n",
      "25%      431.474337\n",
      "50%      547.314941\n",
      "75%      599.781745\n",
      "max      750.000000\n",
      "Name: SAGE_goNoGo_v2___response_time_mean_after_ten_correct_pm, dtype: float64\n"
     ]
    },
    {
     "data": {
      "image/png": "[encoded data removed]",
      "text/plain": [
       "<matplotlib.figure.Figure at 0x7ff6a1f96908>"
      ]
     },
     "metadata": {},
     "output_type": "display_data"
    },
    {
     "name": "stdout",
     "output_type": "stream",
     "text": [
      "\n",
      "count    100.000000\n",
      "mean     432.563488\n",
      "std       76.586797\n",
      "min      312.873798\n",
      "25%      375.431600\n",
      "50%      414.619991\n",
      "75%      474.329112\n",
      "max      640.099470\n",
      "Name: SAGE_goNoGo_v2___response_time_mean_correct_pm, dtype: float64\n"
     ]
    },
    {
     "data": {
      "image/png": "[encoded data removed]",
      "text/plain": [
       "<matplotlib.figure.Figure at 0x7ff6a049e6a0>"
      ]
     },
     "metadata": {},
     "output_type": "display_data"
    },
    {
     "name": "stdout",
     "output_type": "stream",
     "text": [
      "\n",
      "count    100.000000\n",
      "mean      99.257934\n",
      "std       97.675592\n",
      "min        0.000000\n",
      "25%        0.000000\n",
      "50%       88.715002\n",
      "75%      158.803707\n",
      "max      363.830984\n",
      "Name: SAGE_goNoGo_v2___response_time_mean_incorrect_pm, dtype: float64\n"
     ]
    },
    {
     "data": {
      "image/png": "[encoded data removed]",
      "text/plain": [
       "<matplotlib.figure.Figure at 0x7ff6a04ca470>"
      ]
     },
     "metadata": {},
     "output_type": "display_data"
    },
    {
     "name": "stdout",
     "output_type": "stream",
     "text": [
      "\n"
     ]
    }
   ],
   "source": [
    "for label in labels:\n",
    "    col = 'SAGE_goNoGo_v2'\n",
    "    values = pm[col + label + '_pm']\n",
    "\n",
    "    if 'time' in label:\n",
    "        values = pd.Series(values, name=pm[col+label+'_pm'].name) #shown in seconds\n",
    "\n",
    "    print(values.describe())\n",
    "    values.plot.hist(title = label[3:])\n",
    "    plt.show()\n",
    "    print()"
   ]
  }
 ],
 "metadata": {
  "kernelspec": {
   "display_name": "Python 3",
   "language": "python",
   "name": "python3"
  },
  "language_info": {
   "codemirror_mode": {
    "name": "ipython",
    "version": 3
   },
   "file_extension": ".py",
   "mimetype": "text/x-python",
   "name": "python",
   "nbconvert_exporter": "python",
   "pygments_lexer": "ipython3",
   "version": "3.5.2"
  }
 },
 "nbformat": 4,
 "nbformat_minor": 2
}
