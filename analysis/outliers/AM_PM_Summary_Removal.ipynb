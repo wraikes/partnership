{
 "cells": [
  {
   "cell_type": "code",
   "execution_count": 5,
   "metadata": {
    "collapsed": false
   },
   "outputs": [],
   "source": [
    "import numpy as np, pandas as pd, os, matplotlib.pyplot as plt\n",
    "%matplotlib inline\n",
    "pd.set_option('display.max_columns', 2000)\n",
    "os.chdir(r'C:\\Users\\williamr.PDFK\\Dropbox\\partnership\\dmt\\data\\sage_am_pm\\am_pm_summary')\n",
    "#os.chdir('/home/wraikes/Dropbox/partnership/dmt/data/sage_am_pm/am_pm_summary')"
   ]
  },
  {
   "cell_type": "code",
   "execution_count": 6,
   "metadata": {
    "collapsed": false
   },
   "outputs": [],
   "source": [
    "am = pd.read_csv('am_summary_1-2-18.csv')\n",
    "pm = pd.read_csv('pm_summary_1-2-18.csv')"
   ]
  },
  {
   "cell_type": "code",
   "execution_count": 7,
   "metadata": {
    "collapsed": false
   },
   "outputs": [],
   "source": [
    "am.loc[[98], ['SAGE_delay_discounting_raw_v6___times_v4_am']] = np.nan\n",
    "pm.loc[[36], ['SAGE_delay_discounting_raw_v6___times_v3_pm']] = np.nan"
   ]
  },
  {
   "cell_type": "code",
   "execution_count": 8,
   "metadata": {
    "collapsed": false
   },
   "outputs": [],
   "source": [
    "am.to_csv('am_summary_1-2-18.csv', index=False)\n",
    "pm.to_csv('pm_summary_1-2-18.csv', index=False)"
   ]
  }
 ],
 "metadata": {
  "anaconda-cloud": {},
  "kernelspec": {
   "display_name": "Python [Root]",
   "language": "python",
   "name": "Python [Root]"
  },
  "language_info": {
   "codemirror_mode": {
    "name": "ipython",
    "version": 3
   },
   "file_extension": ".py",
   "mimetype": "text/x-python",
   "name": "python",
   "nbconvert_exporter": "python",
   "pygments_lexer": "ipython3",
   "version": "3.5.2"
  }
 },
 "nbformat": 4,
 "nbformat_minor": 2
}
