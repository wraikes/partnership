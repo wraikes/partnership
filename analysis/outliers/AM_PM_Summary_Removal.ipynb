{
 "cells": [
  {
   "cell_type": "code",
   "execution_count": 2,
   "metadata": {
    "collapsed": true
   },
   "outputs": [],
   "source": [
    "import numpy as np, pandas as pd, os, matplotlib.pyplot as plt\n",
    "%matplotlib inline\n",
    "pd.set_option('display.max_columns', 2000)\n",
    "os.chdir('/home/wraikes/Dropbox/partnership/dmt/data/sage_am_pm/am_pm_summary')"
   ]
  },
  {
   "cell_type": "code",
   "execution_count": 3,
   "metadata": {
    "collapsed": true
   },
   "outputs": [],
   "source": [
    "am = pd.read_csv('am_summary_12-31-17.csv')\n",
    "pm = pd.read_csv('pm_summary_12-31-17.csv')"
   ]
  },
  {
   "cell_type": "code",
   "execution_count": 39,
   "metadata": {
    "collapsed": true
   },
   "outputs": [],
   "source": [
    "am.loc[[98], ['SAGE_delay_discounting_raw_v6___times_v4_am']] = np.nan\n",
    "pm.loc[[36], ['SAGE_delay_discounting_raw_v6___times_v3_pm']] = np.nan"
   ]
  },
  {
   "cell_type": "code",
   "execution_count": 15,
   "metadata": {
    "collapsed": true
   },
   "outputs": [],
   "source": [
    "am.to_csv('am_summary_1-1-18.csv')\n",
    "pm.to_csv('pm_summary_1-1-18.csv')"
   ]
  }
 ],
 "metadata": {
  "kernelspec": {
   "display_name": "Python 3",
   "language": "python",
   "name": "python3"
  },
  "language_info": {
   "codemirror_mode": {
    "name": "ipython",
    "version": 3
   },
   "file_extension": ".py",
   "mimetype": "text/x-python",
   "name": "python",
   "nbconvert_exporter": "python",
   "pygments_lexer": "ipython3",
   "version": "3.5.2"
  }
 },
 "nbformat": 4,
 "nbformat_minor": 2
}
