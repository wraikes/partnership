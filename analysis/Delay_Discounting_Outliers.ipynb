{
 "cells": [
  {
   "cell_type": "code",
   "execution_count": null,
   "metadata": {
    "collapsed": true
   },
   "outputs": [],
   "source": [
    "import pandas as pd, numpy as np, matplotlib.pyplot as plt\n",
    "pd.set_option('display.max_columns', 2000)\n",
    "%matplotlib inline\n",
    "dmt = pd.read_csv('../data/final_data/DMT_Data_Merged_10.25.17.csv')"
   ]
  },
  {
   "cell_type": "code",
   "execution_count": null,
   "metadata": {
    "collapsed": true
   },
   "outputs": [],
   "source": [
    "dmt.head(10)"
   ]
  },
  {
   "cell_type": "code",
   "execution_count": null,
   "metadata": {
    "collapsed": true
   },
   "outputs": [],
   "source": [
    "def col_convert(row, segment=None):\n",
    "    '''\n",
    "    Convert a column that contains a string of a list of strings, into a list of floats.  \n",
    "    Will also truncate into thirds based off of segment. \n",
    "    \n",
    "    Inputs\n",
    "        row: a string of a list of strings.\n",
    "        segment: a number (1,2,3) that pulls first, second or third segment of list.\n",
    "        \n",
    "    Output\n",
    "        returns a (segmented) list of floats\n",
    "    \n",
    "    '''\n",
    "    if pd.notnull(row) and segment:\n",
    "        seg = segment - 1\n",
    "        ix = (0 + (seg * 5), 5 + seg * 5)\n",
    "        return [float(x) for x in row.strip('[]').split(',')][ix[0]:ix[1]]\n",
    "    \n",
    "    elif pd.notnull(row) and not segment:\n",
    "        return [float(x) for x in row.strip('[]').split(',')]\n",
    "    \n",
    "    else:\n",
    "        return row"
   ]
  },
  {
   "cell_type": "code",
   "execution_count": null,
   "metadata": {
    "collapsed": true
   },
   "outputs": [],
   "source": [
    "now = dmt['SAGE_delay_discounting_raw_v6_baseline_dd_time_6_month___nowArray'].apply(col_convert)\n",
    "later = dmt['SAGE_delay_discounting_raw_v6_baseline_dd_time_6_month___laterArray'].apply(col_convert)\n",
    "choice = dmt['SAGE_delay_discounting_raw_v6_baseline_dd_time_6_month___choiceArray'].apply(col_convert)\n",
    "times = dmt['SAGE_delay_discounting_raw_v6_baseline_dd_time_6_month___times'].apply(col_convert)"
   ]
  },
  {
   "cell_type": "code",
   "execution_count": null,
   "metadata": {
    "collapsed": true
   },
   "outputs": [],
   "source": [
    "for name, data in zip(['now', 'later', 'choice', 'times'], [now, later, choice, times]):\n",
    "    data_raw = pd.Series([item for sublist in data.dropna() for item in sublist])\n",
    "    print('Variable:', name + 'Array')\n",
    "    print(data_raw.describe())\n",
    "    data_raw.plot.hist(title=name + 'Array')\n",
    "    plt.show()\n",
    "    print()"
   ]
  }
 ],
 "metadata": {
  "kernelspec": {
   "display_name": "Python [Root]",
   "language": "python",
   "name": "Python [Root]"
  },
  "language_info": {
   "codemirror_mode": {
    "name": "ipython",
    "version": 3
   },
   "file_extension": ".py",
   "mimetype": "text/x-python",
   "name": "python",
   "nbconvert_exporter": "python",
   "pygments_lexer": "ipython3",
   "version": "3.5.2"
  }
 },
 "nbformat": 4,
 "nbformat_minor": 0
}
