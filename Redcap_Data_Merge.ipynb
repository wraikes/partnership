{
 "cells": [
  {
   "cell_type": "markdown",
   "metadata": {},
   "source": [
    "## REDCap Data Merge\n",
    "\n",
    "Duplicate Record: 'internal id': 70090, 'external id': bdyP3M"
   ]
  },
  {
   "cell_type": "code",
   "execution_count": 131,
   "metadata": {
    "collapsed": true
   },
   "outputs": [],
   "source": [
    "import os, pandas as pd, numpy as np\n",
    "from functools import reduce\n",
    "pd.set_option('display.max_columns', 100)\n",
    "\n",
    "#NOTE TO SELF: redo the relative paths.\n",
    "redcap = '/home/wraikes/Dropbox/partnership/DMTdata_8_31_17/redcap'"
   ]
  },
  {
   "cell_type": "code",
   "execution_count": 132,
   "metadata": {
    "collapsed": true
   },
   "outputs": [],
   "source": [
    "os.chdir(redcap)  \n",
    "\n",
    "block1 = pd.read_csv('REDCap Block 1_Merged_9.6.17.csv')\n",
    "block2 = pd.read_csv('REDCap Block 2_Merged_9.6.17.csv')\n",
    "\n",
    "dfs = [block1, block2]"
   ]
  },
  {
   "cell_type": "code",
   "execution_count": 133,
   "metadata": {},
   "outputs": [
    {
     "data": {
      "text/html": [
       "<div>\n",
       "<table border=\"1\" class=\"dataframe\">\n",
       "  <thead>\n",
       "    <tr style=\"text-align: right;\">\n",
       "      <th></th>\n",
       "      <th>internal id</th>\n",
       "      <th>external id</th>\n",
       "    </tr>\n",
       "  </thead>\n",
       "  <tbody>\n",
       "    <tr>\n",
       "      <th>79</th>\n",
       "      <td>70090</td>\n",
       "      <td>bdyP3M</td>\n",
       "    </tr>\n",
       "  </tbody>\n",
       "</table>\n",
       "</div>"
      ],
      "text/plain": [
       "    internal id external id\n",
       "79        70090      bdyP3M"
      ]
     },
     "execution_count": 133,
     "metadata": {},
     "output_type": "execute_result"
    }
   ],
   "source": [
    "test_users = ['ThpMV2Achc', 'SEkQVTCe6j', 'Wh8NSX3DHL', 'SaXFr2kPZa', 'VWUcSp4TeH', 'yXEfAmW682', 'gwEpQR8j9B',\n",
    "              'WbbNWM4RAF', 'D5bzYrfd8E', 'LJcmEFWp74', 'ULoF3MM1nN', 'bdyP3M']\n",
    "\n",
    "block1[block1['external id'].isin(test_users)][['internal id', 'external id']]"
   ]
  },
  {
   "cell_type": "code",
   "execution_count": 134,
   "metadata": {
    "collapsed": true
   },
   "outputs": [],
   "source": [
    "def column_relabel(df, append, col_name):\n",
    "    \n",
    "    '''A function to relabel the columns\n",
    "    with the df name appended to each \n",
    "    column name.'''\n",
    "    \n",
    "    new_cols = []\n",
    "    for col in df.columns:\n",
    "        if col != col_name:\n",
    "            new_col = append + col\n",
    "            new_cols.append(new_col)\n",
    "        else:\n",
    "            new_cols.append(col)\n",
    "    \n",
    "    return new_cols\n",
    "\n",
    "def remove_dupes(df):\n",
    "    \n",
    "    test_users = ['ThpMV2Achc', 'SEkQVTCe6j', 'Wh8NSX3DHL', 'SaXFr2kPZa', 'VWUcSp4TeH', 'yXEfAmW682', \n",
    "                  'gwEpQR8j9B', 'WbbNWM4RAF', 'D5bzYrfd8E', 'LJcmEFWp74', 'ULoF3MM1nN', 'bdyP3M']\n",
    "    \n",
    "    return df[~df['external id'].isin(test_users)] \n",
    "\n",
    "def new_dfs(_dfs, _names, _id):\n",
    "    \n",
    "    new_df = []\n",
    "    \n",
    "    for df, name in zip(_dfs, _names):\n",
    "        df = remove_dupes(df)\n",
    "        df.columns = column_relabel(df, name, _id)\n",
    "        new_df.append(df)\n",
    "\n",
    "    return new_df"
   ]
  },
  {
   "cell_type": "code",
   "execution_count": 136,
   "metadata": {},
   "outputs": [],
   "source": [
    "#Relabel the columns.\n",
    "names = ['REDCAP_block1_-_', 'REDCAP_block2_-_']\n",
    "\n",
    "clean_dfs = new_dfs(dfs, names, 'internal id')"
   ]
  },
  {
   "cell_type": "code",
   "execution_count": 137,
   "metadata": {
    "collapsed": true
   },
   "outputs": [],
   "source": [
    "#Merge the two block datasets.\n",
    "block_merge = pd.merge(clean_dfs[0], clean_dfs[1], how = 'outer', on='internal id')"
   ]
  },
  {
   "cell_type": "markdown",
   "metadata": {},
   "source": [
    "### Test DF Accuracy"
   ]
  },
  {
   "cell_type": "code",
   "execution_count": 138,
   "metadata": {},
   "outputs": [
    {
     "data": {
      "text/plain": [
       "True"
      ]
     },
     "execution_count": 138,
     "metadata": {},
     "output_type": "execute_result"
    }
   ],
   "source": [
    "len(block_merge['internal id']) == len(block_merge['internal id'].unique()) and block_merge.shape[0] > 0"
   ]
  },
  {
   "cell_type": "code",
   "execution_count": 139,
   "metadata": {
    "collapsed": true
   },
   "outputs": [],
   "source": [
    "os.chdir('/home/wraikes/Programming/Partnership/dmt/merged_data/')\n",
    "block_merge.to_csv('FINAL_REDCAP.csv')"
   ]
  }
 ],
 "metadata": {
  "kernelspec": {
   "display_name": "Python 3",
   "language": "python",
   "name": "python3"
  },
  "language_info": {
   "codemirror_mode": {
    "name": "ipython",
    "version": 3
   },
   "file_extension": ".py",
   "mimetype": "text/x-python",
   "name": "python",
   "nbconvert_exporter": "python",
   "pygments_lexer": "ipython3",
   "version": "3.5.2"
  }
 },
 "nbformat": 4,
 "nbformat_minor": 2
}
