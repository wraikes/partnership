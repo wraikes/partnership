{
 "cells": [
  {
   "cell_type": "markdown",
   "metadata": {},
   "source": [
    "## REDCap Data Merge\n",
    "\n",
    "Duplicate Record: 'internal id': 70090, 'external id': bdyP3M"
   ]
  },
  {
   "cell_type": "code",
   "execution_count": 49,
   "metadata": {
    "collapsed": true
   },
   "outputs": [],
   "source": [
    "import os, pandas as pd, numpy as np\n",
    "from functools import reduce\n",
    "pd.set_option('display.max_columns', 100)\n",
    "\n",
    "#NOTE TO SELF: redo the relative paths.\n",
    "#redcap = '/home/wraikes/Dropbox/partnership/DMTdata_9_8_17/redcap'\n",
    "redcap = r'C:\\Users\\williamr.PDFK\\Dropbox\\partnership\\dmt_temp'"
   ]
  },
  {
   "cell_type": "code",
   "execution_count": 50,
   "metadata": {
    "collapsed": true
   },
   "outputs": [],
   "source": [
    "os.chdir(redcap)  \n",
    "\n",
    "block1 = pd.read_csv('REDCap Block 1_Merged_9.8.17.csv')\n",
    "block2 = pd.read_csv('REDCap Block 2_Merged_9.8.17.csv')\n",
    "\n",
    "dfs = [block1, block2]"
   ]
  },
  {
   "cell_type": "code",
   "execution_count": 51,
   "metadata": {
    "collapsed": false
   },
   "outputs": [
    {
     "data": {
      "text/html": [
       "<div>\n",
       "<table border=\"1\" class=\"dataframe\">\n",
       "  <thead>\n",
       "    <tr style=\"text-align: right;\">\n",
       "      <th></th>\n",
       "      <th>internal_id</th>\n",
       "      <th>external_id</th>\n",
       "    </tr>\n",
       "  </thead>\n",
       "  <tbody>\n",
       "  </tbody>\n",
       "</table>\n",
       "</div>"
      ],
      "text/plain": [
       "Empty DataFrame\n",
       "Columns: [internal_id, external_id]\n",
       "Index: []"
      ]
     },
     "execution_count": 51,
     "metadata": {},
     "output_type": "execute_result"
    }
   ],
   "source": [
    "#bdyP3M\n",
    "test_users = [\n",
    "    'ThpMV2Achc', \n",
    "    'SEkQVTCe6j', \n",
    "    'Wh8NSX3DHL', \n",
    "    'SaXFr2kPZa', \n",
    "    'VWUcSp4TeH', \n",
    "    'yXEfAmW682', \n",
    "    'gwEpQR8j9B',\n",
    "    'WbbNWM4RAF', \n",
    "    'D5bzYrfd8E', \n",
    "    'LJcmEFWp74', \n",
    "    'ULoF3MM1nN']\n",
    "\n",
    "diff_study = [\n",
    "    'rL8eA3',\n",
    "    'rLg5xs',\n",
    "    'rLrD9h',\n",
    "    'rLP7H2',\n",
    "    'rL6s6h',\n",
    "    'aOyzBg',\n",
    "    'aORA43',\n",
    "    'aOh48U',\n",
    "    'aOLu4K',\n",
    "    'aOQtxv',\n",
    "    'aO5TvQ',\n",
    "    'mPC9S8',\n",
    "    'mPgquX',\n",
    "    'mP5xkB',\n",
    "    'mPSQvh',\n",
    "    'mPYk2p',\n",
    "    'mP3rbd'\n",
    "]\n",
    "\n",
    "block1[block1['external_id'].isin(test_users + diff_study)][['internal_id', 'external_id']]"
   ]
  },
  {
   "cell_type": "code",
   "execution_count": 52,
   "metadata": {
    "collapsed": true
   },
   "outputs": [],
   "source": [
    "def column_relabel(df, append, col_name):\n",
    "    \n",
    "    '''A function to relabel the columns\n",
    "    with the df name appended to each \n",
    "    column name.'''\n",
    "    \n",
    "    new_cols = []\n",
    "    for col in df.columns:\n",
    "        if col != col_name:\n",
    "            new_col = append + col\n",
    "            new_cols.append(new_col)\n",
    "        else:\n",
    "            new_cols.append(col)\n",
    "    \n",
    "    return new_cols\n",
    "\n",
    "def remove_dupes(df):\n",
    "    \n",
    "    test_users = [\n",
    "        'ThpMV2Achc', \n",
    "        'SEkQVTCe6j', \n",
    "        'Wh8NSX3DHL', \n",
    "        'SaXFr2kPZa', \n",
    "        'VWUcSp4TeH', \n",
    "        'yXEfAmW682', \n",
    "        'gwEpQR8j9B',\n",
    "        'WbbNWM4RAF', \n",
    "        'D5bzYrfd8E', \n",
    "        'LJcmEFWp74', \n",
    "        'ULoF3MM1nN']\n",
    "\n",
    "    diff_study = [\n",
    "        'rL8eA3',\n",
    "        'rLg5xs',\n",
    "        'rLrD9h',\n",
    "        'rLP7H2',\n",
    "        'rL6s6h',\n",
    "        'aOyzBg',\n",
    "        'aORA43',\n",
    "        'aOh48U',\n",
    "        'aOLu4K',\n",
    "        'aOQtxv',\n",
    "        'aO5TvQ',\n",
    "        'mPC9S8',\n",
    "        'mPgquX',\n",
    "        'mP5xkB',\n",
    "        'mPSQvh',\n",
    "        'mPYk2p',\n",
    "        'mP3rbd'\n",
    "    ]\n",
    "    \n",
    "    return df[~df['external_id'].isin(test_users + diff_study)] \n",
    "\n",
    "def new_dfs(_dfs, _names, _id):\n",
    "    \n",
    "    new_df = []\n",
    "    \n",
    "    for df, name in zip(_dfs, _names):\n",
    "        df = remove_dupes(df)\n",
    "        df.columns = column_relabel(df, name, _id)\n",
    "        new_df.append(df)\n",
    "\n",
    "    new_df    \n",
    "    \n",
    "    return new_df"
   ]
  },
  {
   "cell_type": "code",
   "execution_count": 53,
   "metadata": {
    "collapsed": true
   },
   "outputs": [],
   "source": [
    "#Relabel the columns.\n",
    "names = ['REDCAP_block1___', 'REDCAP_block2___']\n",
    "\n",
    "clean_dfs = new_dfs(dfs, names, 'internal_id')"
   ]
  },
  {
   "cell_type": "code",
   "execution_count": 54,
   "metadata": {
    "collapsed": true
   },
   "outputs": [],
   "source": [
    "#Merge the two block datasets.\n",
    "block_merge = pd.merge(clean_dfs[0], clean_dfs[1], how = 'outer', on='internal_id')"
   ]
  },
  {
   "cell_type": "code",
   "execution_count": 55,
   "metadata": {
    "collapsed": false,
    "scrolled": true
   },
   "outputs": [],
   "source": [
    "block_ix = block_merge.loc[block_merge.index[block_merge['REDCAP_block1___external_id'] == '2XyZyJ']]\n",
    "block_merge = block_merge.set_value(block_ix.index, 'REDCAP_block1___external_id', '2XyVyJ')"
   ]
  },
  {
   "cell_type": "markdown",
   "metadata": {},
   "source": [
    "### Test DF Accuracy"
   ]
  },
  {
   "cell_type": "code",
   "execution_count": 59,
   "metadata": {
    "collapsed": false
   },
   "outputs": [
    {
     "data": {
      "text/plain": [
       "True"
      ]
     },
     "execution_count": 59,
     "metadata": {},
     "output_type": "execute_result"
    }
   ],
   "source": [
    "len(block_merge['internal_id']) == len(block_merge['internal_id'].unique()) and block_merge.shape[0] > 0"
   ]
  },
  {
   "cell_type": "code",
   "execution_count": 60,
   "metadata": {
    "collapsed": false
   },
   "outputs": [
    {
     "data": {
      "text/plain": [
       "(110, 593)"
      ]
     },
     "execution_count": 60,
     "metadata": {},
     "output_type": "execute_result"
    }
   ],
   "source": [
    "block_merge.shape"
   ]
  },
  {
   "cell_type": "code",
   "execution_count": 61,
   "metadata": {
    "collapsed": true
   },
   "outputs": [],
   "source": [
    "#os.chdir('/home/wraikes/Programming/Partnership/dmt/merged_data/')\n",
    "os.chdir(r'H:\\Documents\\Python Scripts\\dmt\\partnership\\merged_data')\n",
    "block_merge.to_csv('FINAL_REDCAP.csv')"
   ]
  }
 ],
 "metadata": {
  "kernelspec": {
   "display_name": "Python [Root]",
   "language": "python",
   "name": "Python [Root]"
  },
  "language_info": {
   "codemirror_mode": {
    "name": "ipython",
    "version": 3
   },
   "file_extension": ".py",
   "mimetype": "text/x-python",
   "name": "python",
   "nbconvert_exporter": "python",
   "pygments_lexer": "ipython3",
   "version": "3.5.2"
  }
 },
 "nbformat": 4,
 "nbformat_minor": 2
}
