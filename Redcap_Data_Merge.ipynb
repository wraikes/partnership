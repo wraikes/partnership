{
 "cells": [
  {
   "cell_type": "markdown",
   "metadata": {},
   "source": [
    "## REDCap Data Merge\n",
    "\n",
    "Notes:\n",
    "    - Missing some external id's in block1 or block2."
   ]
  },
  {
   "cell_type": "code",
   "execution_count": 1,
   "metadata": {
    "collapsed": true
   },
   "outputs": [],
   "source": [
    "import os, pandas as pd, numpy as np\n",
    "from functools import reduce\n",
    "pd.set_option('display.max_columns', 100)\n",
    "\n",
    "#NOTE TO SELF: redo the relative paths.\n",
    "redcap = '/home/wraikes/Dropbox/partnership/DMTBilly data - Copy/REDCap Data'"
   ]
  },
  {
   "cell_type": "code",
   "execution_count": 2,
   "metadata": {
    "collapsed": true
   },
   "outputs": [],
   "source": [
    "os.chdir(redcap)  \n",
    "\n",
    "block1 = pd.read_csv('In-PerAssessmentBlock1_8.25.17_CLEANED.csv')\n",
    "block2 = pd.read_csv('In-PerAssessmentBlock2_8.25.17_CLEANED.csv')\n",
    "\n",
    "dfs = [block1, block2]"
   ]
  },
  {
   "cell_type": "code",
   "execution_count": 3,
   "metadata": {
    "collapsed": true
   },
   "outputs": [],
   "source": [
    "def column_relabel(df, append, col_name):\n",
    "    \n",
    "    '''A function to relabel the columns\n",
    "    with the df name appended to each \n",
    "    column name.'''\n",
    "    \n",
    "    new_cols = []\n",
    "    for col in df.columns:\n",
    "        if col != col_name:\n",
    "            new_col = col + append\n",
    "            new_cols.append(new_col)\n",
    "        else:\n",
    "            new_cols.append(col)\n",
    "    \n",
    "    return new_cols"
   ]
  },
  {
   "cell_type": "code",
   "execution_count": 4,
   "metadata": {
    "collapsed": true
   },
   "outputs": [],
   "source": [
    "#Relabel the columns.\n",
    "names = ['_block1', '_block2']\n",
    "for df, name in zip(dfs, names):\n",
    "    df.columns = column_relabel(df, name, 'internal id')"
   ]
  },
  {
   "cell_type": "code",
   "execution_count": 5,
   "metadata": {
    "collapsed": true
   },
   "outputs": [],
   "source": [
    "#Merge the two block datasets.\n",
    "block_merge = pd.merge(block1, block2, how = 'outer', on='internal id')\n"
   ]
  },
  {
   "cell_type": "markdown",
   "metadata": {},
   "source": [
    "### Test DF Accuracy"
   ]
  },
  {
   "cell_type": "code",
   "execution_count": 6,
   "metadata": {},
   "outputs": [
    {
     "data": {
      "text/plain": [
       "True"
      ]
     },
     "execution_count": 6,
     "metadata": {},
     "output_type": "execute_result"
    }
   ],
   "source": [
    "len(block_merge['internal id']) == len(block_merge['internal id'].unique())"
   ]
  },
  {
   "cell_type": "code",
   "execution_count": 7,
   "metadata": {
    "collapsed": true
   },
   "outputs": [],
   "source": [
    "os.chdir('/home/wraikes/Programming/Partnership/dmt/merged_data/')\n",
    "block_merge.to_csv('FINAL_REDCAP.csv')"
   ]
  }
 ],
 "metadata": {
  "kernelspec": {
   "display_name": "Python 3",
   "language": "python",
   "name": "python3"
  },
  "language_info": {
   "codemirror_mode": {
    "name": "ipython",
    "version": 3
   },
   "file_extension": ".py",
   "mimetype": "text/x-python",
   "name": "python",
   "nbconvert_exporter": "python",
   "pygments_lexer": "ipython3",
   "version": "3.5.2"
  }
 },
 "nbformat": 4,
 "nbformat_minor": 2
}
