{
 "cells": [
  {
   "cell_type": "code",
   "execution_count": 1,
   "metadata": {
    "collapsed": true
   },
   "outputs": [],
   "source": [
    "import pandas as pd, numpy as np, os\n",
    "from functools import reduce\n",
    "pd.set_option('display.max_columns', 200)"
   ]
  },
  {
   "cell_type": "code",
   "execution_count": 4,
   "metadata": {},
   "outputs": [],
   "source": [
    "os.chdir('/home/wraikes/Programming/Partnership/dmt/final/merged_data/')\n",
    "#os.chdir(r'H:\\Documents\\Python Scripts\\dmt\\partnership\\merged_data')"
   ]
  },
  {
   "cell_type": "code",
   "execution_count": 6,
   "metadata": {},
   "outputs": [
    {
     "data": {
      "text/plain": [
       "['FINAL_INQUISIT.csv',\n",
       " 'FINAL_REDCAP.csv',\n",
       " '.~lock.FINAL_INQUISIT.csv#',\n",
       " 'FINAL_SAGE.csv',\n",
       " 'notes.txt']"
      ]
     },
     "execution_count": 6,
     "metadata": {},
     "output_type": "execute_result"
    }
   ],
   "source": [
    "os.listdir()"
   ]
  },
  {
   "cell_type": "code",
   "execution_count": 22,
   "metadata": {},
   "outputs": [],
   "source": [
    "inquisit = pd.read_csv('FINAL_INQUISIT.csv')\n",
    "redcap = pd.read_csv('FINAL_REDCAP.csv')\n",
    "sage = pd.read_csv('FINAL_SAGE.csv', index_col=0)"
   ]
  },
  {
   "cell_type": "code",
   "execution_count": 23,
   "metadata": {
    "collapsed": true
   },
   "outputs": [],
   "source": [
    "final = pd.merge(sage, redcap, left_on='externalId', right_on='REDCAP_block1___external_id', how='outer')"
   ]
  },
  {
   "cell_type": "code",
   "execution_count": 24,
   "metadata": {},
   "outputs": [],
   "source": [
    "final = pd.merge(final, inquisit, left_on='internal_id', right_on='script.subjectid', how='outer')"
   ]
  },
  {
   "cell_type": "code",
   "execution_count": 25,
   "metadata": {},
   "outputs": [
    {
     "data": {
      "text/plain": [
       "(116, 1849)"
      ]
     },
     "execution_count": 25,
     "metadata": {},
     "output_type": "execute_result"
    }
   ],
   "source": [
    "final.shape"
   ]
  },
  {
   "cell_type": "code",
   "execution_count": 28,
   "metadata": {},
   "outputs": [
    {
     "data": {
      "text/plain": [
       "True"
      ]
     },
     "execution_count": 28,
     "metadata": {},
     "output_type": "execute_result"
    }
   ],
   "source": [
    "len(final.externalId[final.externalId.notnull()].unique()) == len(final.externalId[final.externalId.notnull()])"
   ]
  },
  {
   "cell_type": "code",
   "execution_count": 27,
   "metadata": {
    "collapsed": true
   },
   "outputs": [],
   "source": [
    "final.to_csv('DMT_merged-DRAFT.csv', index=False)"
   ]
  },
  {
   "cell_type": "code",
   "execution_count": 30,
   "metadata": {},
   "outputs": [
    {
     "data": {
      "text/plain": [
       "SAGe_past_year_likert_bl_-_ROW_ID                              float64\n",
       "SAGe_past_year_likert_bl_-_ROW_VERSION                         float64\n",
       "SAGe_past_year_likert_bl_-_recordId                             object\n",
       "SAGe_past_year_likert_bl_-_appVersion                           object\n",
       "SAGe_past_year_likert_bl_-_phoneInfo                            object\n",
       "SAGe_past_year_likert_bl_-_uploadDate                           object\n",
       "SAGe_past_year_likert_bl_-_healthCode                           object\n",
       "externalId                                                      object\n",
       "SAGe_past_year_likert_bl_-_dataGroups                           object\n",
       "SAGe_past_year_likert_bl_-_createdOn                           float64\n",
       "SAGe_past_year_likert_bl_-_createdOnTimeZone                   float64\n",
       "SAGe_past_year_likert_bl_-_userSharingScope                     object\n",
       "SAGe_past_year_likert_bl_-_UUID                                 object\n",
       "SAGe_past_year_likert_bl_-_taskIdentifier                       object\n",
       "SAGe_past_year_likert_bl_-_taskRunUUID                          object\n",
       "SAGe_past_year_likert_bl_-_startDate                           float64\n",
       "SAGe_past_year_likert_bl_-_startDate.timezone                  float64\n",
       "SAGe_past_year_likert_bl_-_endDate                             float64\n",
       "SAGe_past_year_likert_bl_-_endDate.timezone                    float64\n",
       "SAGe_past_year_likert_bl_-_groupLabel                          float64\n",
       "SAGe_past_year_likert_bl_-_qol_bl                              float64\n",
       "SAGe_past_year_likert_bl_-_conf_bl                             float64\n",
       "SAGe_past_year_likert_bl_-_sensation_bl                        float64\n",
       "SAGe_past_year_likert_bl_-_urgexp_bl                           float64\n",
       "SAGe_past_year_likert_bl_-_urgspeech_bl                        float64\n",
       "SAGe_past_year_likert_bl_-_negurg_bl                           float64\n",
       "SAGe_past_year_likert_bl_-_posurg_bl                           float64\n",
       "SAGe_past_year_likert_bl_-_taskpers_bl                         float64\n",
       "SAGe_past_year_likert_bl_-_mobileurg_bl                        float64\n",
       "SAGe_past_year_likert_bl_-_foodurg_bl                          float64\n",
       "                                                                ...   \n",
       "INQUISIT_delay_v2___values.t5_ip                               float64\n",
       "INQUISIT_delay_v2___values.p1_ip_found                         float64\n",
       "INQUISIT_delay_v2___values.p1_ip                               float64\n",
       "INQUISIT_delay_v2___values.p2_ip_found                         float64\n",
       "INQUISIT_delay_v2___values.p2_ip                               float64\n",
       "INQUISIT_delay_v2___values.p3_ip_found                         float64\n",
       "INQUISIT_delay_v2___values.p3_ip                               float64\n",
       "INQUISIT_delay_v2___values.p4_ip_found                         float64\n",
       "INQUISIT_delay_v2___values.p4_ip                               float64\n",
       "INQUISIT_delay_v2___values.p5_ip_found                         float64\n",
       "INQUISIT_delay_v2___values.p5_ip                               float64\n",
       "INQUISIT_delay_v2___text.subjectquestion.currentitem            object\n",
       "INQUISIT_delay_v2___text.subjectanswer.currentitem              object\n",
       "INQUISIT_gonogo___script.startdate                             float64\n",
       "INQUISIT_gonogo___script.starttime                              object\n",
       "INQUISIT_gonogo___script.elapsedtime                            object\n",
       "INQUISIT_gonogo___computer.platform                             object\n",
       "INQUISIT_gonogo___values.completed                             float64\n",
       "INQUISIT_gonogo___expressions.errorrate                        float64\n",
       "INQUISIT_gonogo___expressions.errorrate_gotarget               float64\n",
       "INQUISIT_gonogo___expressions.errorrate_Nogotarget             float64\n",
       "INQUISIT_gonogo___expressions.error_verticalcue                float64\n",
       "INQUISIT_gonogo___expressions.error_horizontalcue              float64\n",
       "INQUISIT_gonogo___expressions.omissionerror_v                  float64\n",
       "INQUISIT_gonogo___expressions.inhibitionerror_v                float64\n",
       "INQUISIT_gonogo___expressions.omissionerror_h                  float64\n",
       "INQUISIT_gonogo___expressions.inhibitionerror_h                float64\n",
       "INQUISIT_gonogo___expressions.meanrt                           float64\n",
       "INQUISIT_gonogo___expressions.meanrt_verticalcue_gotarget      float64\n",
       "INQUISIT_gonogo___expressions.meanrt_horizontalcue_gotarget    float64\n",
       "dtype: object"
      ]
     },
     "execution_count": 30,
     "metadata": {},
     "output_type": "execute_result"
    }
   ],
   "source": [
    "final.dtypes"
   ]
  },
  {
   "cell_type": "code",
   "execution_count": null,
   "metadata": {
    "collapsed": true
   },
   "outputs": [],
   "source": []
  }
 ],
 "metadata": {
  "kernelspec": {
   "display_name": "Python 3",
   "language": "python",
   "name": "python3"
  },
  "language_info": {
   "codemirror_mode": {
    "name": "ipython",
    "version": 3
   },
   "file_extension": ".py",
   "mimetype": "text/x-python",
   "name": "python",
   "nbconvert_exporter": "python",
   "pygments_lexer": "ipython3",
   "version": "3.5.2"
  }
 },
 "nbformat": 4,
 "nbformat_minor": 2
}
