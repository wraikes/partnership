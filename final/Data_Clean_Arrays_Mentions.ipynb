{
 "cells": [
  {
   "cell_type": "code",
   "execution_count": 3,
   "metadata": {},
   "outputs": [],
   "source": [
    "import os, pandas as pd, numpy as np"
   ]
  },
  {
   "cell_type": "code",
   "execution_count": 202,
   "metadata": {
    "collapsed": true
   },
   "outputs": [],
   "source": [
    "df = pd.read_csv('./DMT_merged-DRAFT.csv')"
   ]
  },
  {
   "cell_type": "markdown",
   "metadata": {},
   "source": [
    "### Pull out last number for \"sage delay nowArray\" into new column. "
   ]
  },
  {
   "cell_type": "code",
   "execution_count": 97,
   "metadata": {
    "collapsed": true
   },
   "outputs": [],
   "source": [
    "def array_split(value):\n",
    "    if pd.notnull(value):\n",
    "        return list(map(float, value[1:-1].split(',')))[-1]\n",
    "    else:\n",
    "        return value"
   ]
  },
  {
   "cell_type": "code",
   "execution_count": 99,
   "metadata": {
    "scrolled": true
   },
   "outputs": [
    {
     "name": "stdout",
     "output_type": "stream",
     "text": [
      "SAGE_delay_bl_time_6_month_-_nowArray\n",
      "SAGE_delay_bl_money_6_month_-_nowArray\n",
      "SAGE_delay_bl_money_1_month_-_nowArray\n",
      "SAGE_delay_bl_time_1_year_-_nowArray\n",
      "SAGE_delay_21_time_6_month_-_nowArray\n",
      "SAGE_delay_21_money_6_month_-_nowArray\n",
      "SAGE_delay_21_money_1_month_-_nowArray\n",
      "SAGE_delay_21_time_1_year_-_nowArray\n"
     ]
    }
   ],
   "source": [
    "def last_array_value(value):\n",
    "    if pd.notnull(value):\n",
    "        return list(map(float, value[1:-1].split(',')))[-1]\n",
    "    else:\n",
    "        return value\n",
    "    \n",
    "new_df = df.copy()\n",
    "\n",
    "for col in df.columns:\n",
    "    if 'nowArray' in col:\n",
    "        new_col = col + '_last'\n",
    "        new_df[new_col] = df[col].apply(lambda x: last_array_value(x))"
   ]
  },
  {
   "cell_type": "markdown",
   "metadata": {},
   "source": [
    "### Separate array values of 'delay times' into new columns (should be 6)"
   ]
  },
  {
   "cell_type": "code",
   "execution_count": 122,
   "metadata": {
    "collapsed": true
   },
   "outputs": [],
   "source": [
    "def array_split(value, i):\n",
    "    if pd.notnull(value):\n",
    "        return list(map(float, value[1:-1].split(',')))[i]\n",
    "    else:\n",
    "        return value\n",
    "\n",
    "new_df = df.copy()\n",
    "\n",
    "#Check to make sure there are six columns (max)\n",
    "for col in df.columns:\n",
    "    if 'times' in col and 'delay' in col:\n",
    "        for i in range(6):\n",
    "            new_col = col + '_v' + str(i)\n",
    "            new_df[new_col] = df[col].apply(lambda x: array_split(x, i))"
   ]
  },
  {
   "cell_type": "code",
   "execution_count": 203,
   "metadata": {},
   "outputs": [],
   "source": [
    "#Note: codebook is incorrect. 'gamble' vs. 'gambling'.\n",
    "terms = ['junkfood', 'gambling', 'smoke', 'mobile', 'overeat', 'mast', 'cut', 'smedia',\n",
    "         'alcohol', 'porn', 'hair', 'gaming', 'sitting', 'spend', 'temper', 'othermore']\n",
    "\n",
    "\n",
    "for term in terms:\n",
    "    col_name = 'SAGE_behavior_4_bl_-_selected' + '_' + term\n",
    "    df[col_name] = np.where(df['SAGE_behavior_4_bl_-_selected'].str.contains(term), 1, 0)"
   ]
  }
 ],
 "metadata": {
  "kernelspec": {
   "display_name": "Python 3",
   "language": "python",
   "name": "python3"
  },
  "language_info": {
   "codemirror_mode": {
    "name": "ipython",
    "version": 3
   },
   "file_extension": ".py",
   "mimetype": "text/x-python",
   "name": "python",
   "nbconvert_exporter": "python",
   "pygments_lexer": "ipython3",
   "version": "3.5.2"
  }
 },
 "nbformat": 4,
 "nbformat_minor": 2
}
