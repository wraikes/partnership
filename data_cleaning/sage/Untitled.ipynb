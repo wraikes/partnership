{
 "cells": [
  {
   "cell_type": "code",
   "execution_count": 1,
   "metadata": {
    "collapsed": true
   },
   "outputs": [],
   "source": [
    "import os, pandas as pd, numpy as np, re\n",
    "from functools import reduce\n",
    "pd.set_option('display.max_columns', 500)\n",
    "\n",
    "#def main():\n",
    "sage = '/home/wraikes/Dropbox/partnership/dmt/data/sage_not_final'\n",
    "#sage = r'C:\\Users\\williamr.PDFK\\Dropbox\\partnership\\dmt_temp\\Sage (Mobile Phone) Data 8.31.17'\n",
    "os.chdir(sage)\n",
    "files_to_exclude = ['digital-marshmallow-status_8.31.17.csv',\n",
    "                    'digital-marshmallow-appVersion_8.31.17.csv']\n",
    "end_string = '_8.31.17.csv'"
   ]
  },
  {
   "cell_type": "code",
   "execution_count": 2,
   "metadata": {
    "collapsed": true
   },
   "outputs": [],
   "source": [
    "def parse_directory(directory, exclude_files, end_string):\n",
    "    '''\n",
    "    Go through and process all files in directory.\n",
    "    If extra processing is needed, use a special function 'new_df_func'.\n",
    "    Return a single dataframe, of all data merged.\n",
    "    '''\n",
    "    \n",
    "    new_dfs = []\n",
    "    \n",
    "    for file in directory:\n",
    "        name = create_df_name(file, end_string)\n",
    "        \n",
    "        if file not in exclude_files:\n",
    "            df = pd.read_csv(file)\n",
    "            df = remove_dupes(df)\n",
    "            df = create_new_df(df, name)\n",
    "            \n",
    "            new_dfs.append(df)\n",
    "    \n",
    "    final_df = reduce(lambda left, right: pd.merge(left, right, how = 'outer',\n",
    "                                                   on='externalId'), \n",
    "                      new_dfs)\n",
    "    \n",
    "    return final_df"
   ]
  },
  {
   "cell_type": "code",
   "execution_count": 16,
   "metadata": {
    "collapsed": true
   },
   "outputs": [],
   "source": [
    "def create_new_df(df, df_name):\n",
    "    '''\n",
    "    Each dataframe is cleaned with special instructions based on the filters.\n",
    "    A cleaned dataframe is returned.\n",
    "    '''\n",
    "    if len(df.externalId) == len(df.externalId.unique()):\n",
    "        df = col_relabel(df, df_name)\n",
    "        \n",
    "    elif df_name == 'bart-v4':\n",
    "        attributes = [\n",
    "            ['baseline', 'BART0.25'],\n",
    "            ['baseline', 'BART250.00'],\n",
    "            ['21-day-assessment', 'BART0.25'],\n",
    "            ['21-day-assessment', 'BART250.00']\n",
    "        ]\n",
    "                \n",
    "        df = spread_cols(df, df_name, attributes, var_2='data.json.variable_label')\n",
    "        \n",
    "    elif df_name == 'delay_discounting_raw-v6':\n",
    "        bl = 'baseline'\n",
    "        _21 = '21-day-assessment'\n",
    "        \n",
    "        attributes = [\n",
    "            [bl, 'dd_time_6_months'],\n",
    "            [bl, 'dd_money_6_month'],\n",
    "            [bl, 'dd_money_1_month'],\n",
    "            [bl, 'dd_time_1_year'],\n",
    "            [_21, 'dd_time_6_month'],\n",
    "            [_21, 'dd_money_6_month'],\n",
    "            [_21, 'dd_money_1_month'],\n",
    "            [_21, 'dd_time_1_year']            \n",
    "        ]\n",
    "        \n",
    "        df = spread_cols(df, df_name, attributes, var_2='data.json.variableLabel')\n",
    "\n",
    "    elif df_name == 'demographics-v2' or df_name == 'generally_sem_diff_bl-v2':\n",
    "        indices = df.index[df.externalId == 'yQ7pYy']\n",
    "        df.drop(indices[-1], axis=0, inplace=True)\n",
    "\n",
    "    elif df_name == 'behavior_choices_4_bl-v2':\n",
    "        attributes = [\n",
    "            'baseline'        \n",
    "        ]\n",
    "        \n",
    "        df = spread_cols(df, df_name, attributes)\n",
    "        \n",
    "    elif df_name == 'discounting_raw-v2':\n",
    "        bl = 'baseline'\n",
    "        _21 = '21-day-assessment'\n",
    "\n",
    "        attributes = [\n",
    "            [bl, 'pd_constant_money'],\n",
    "            [bl, 'pd_constant_probabiliy'],\n",
    "            [_21, 'pd_constant_money'],\n",
    "            [_21, 'pd_constant_probability']\n",
    "        ]\n",
    "        \n",
    "        df = spread_cols(df, df_name, attributes, var_2='data.json.variableLabel')\n",
    "    \n",
    "    elif df_name == 'evening_notification_time-v2':\n",
    "        attributes = ['baseline']\n",
    "\n",
    "        df = spread_cols(df, df_name, attributes)\n",
    "                        \n",
    "    elif df_name == 'goNoGo-v2':\n",
    "        bl = 'baseline'\n",
    "        _21 = '21-day-assessment'\n",
    "\n",
    "        attributes = [\n",
    "            [bl, 'go_no_go_stable_stimulus_active_task'],\n",
    "            [bl, 'go_no_go_variable_stimulus_active_task'],\n",
    "            [_21, 'go_no_go_stable_stimulus_active_task'],\n",
    "            [_21, 'go_no_go_variable_stimulus_active_task']\n",
    "        ]\n",
    "        \n",
    "        indices = df.index[df.externalId == 'ksJM3Y']\n",
    "        df.drop(indices[-1], axis=0, inplace=True)\n",
    "        \n",
    "        df = spread_cols(df, df_name, attributes, var_2='data.json.variable_label')\n",
    "    \n",
    "    elif df_name == 'morning_notification_time-v3':\n",
    "        attributes = ['baseline']\n",
    "        \n",
    "        df = spread_cols(df, df_name, attributes)\n",
    "    \n",
    "    elif df_name == 'pam_multiple-v2':\n",
    "        attributes = [\n",
    "            'baseline',\n",
    "            '21-day-assessment'\n",
    "        ]\n",
    "        \n",
    "        df = spread_cols(df, df_name, attributes)\n",
    "    \n",
    "    else:\n",
    "        print('Danger!!!')\n",
    "                                 \n",
    "    return df"
   ]
  },
  {
   "cell_type": "code",
   "execution_count": 4,
   "metadata": {
    "collapsed": true
   },
   "outputs": [],
   "source": [
    "def spread_cols(df, df_name, attributes, var_1='metadata.json.taskIdentifier', var_2=None):\n",
    "    '''\n",
    "    Merge the dataframes into one, with new columns.\n",
    "    '''\n",
    "    \n",
    "    dfs = []\n",
    "    \n",
    "    for att in attributes:\n",
    "        new_df = filter_df(df, att, var_1, var_2)\n",
    "        new_df = col_relabel(new_df, df_name, att)\n",
    "        dfs.append(new_df)\n",
    "    \n",
    "    new_df = reduce(lambda left, right: pd.merge(left, \n",
    "                                                 right, \n",
    "                                                 how = 'outer',\n",
    "                                                 on='externalId'),\n",
    "                    dfs)\n",
    "    \n",
    "    return new_df"
   ]
  },
  {
   "cell_type": "code",
   "execution_count": 5,
   "metadata": {
    "collapsed": true
   },
   "outputs": [],
   "source": [
    "def filter_df(df, att, var_1, var_2=None):\n",
    "    '''\n",
    "    Filter a dataframe based off of var_1 and var_2 variables.\n",
    "    '''\n",
    "    \n",
    "    cols = df.columns\n",
    "    \n",
    "    new_df = pd.DataFrame(columns=cols)\n",
    "        \n",
    "    for ix, row in df.iterrows():\n",
    "        if var_2:\n",
    "            if row[var_1] == att[0] and row[var_2] == att[1]:\n",
    "                new_df = new_df.append(row, ignore_index=True)\n",
    "        else:\n",
    "            if row[var_1] == att[0]:\n",
    "                new_df = new_df.append(row, ignore_index=True)\n",
    "    \n",
    "    return new_df"
   ]
  },
  {
   "cell_type": "code",
   "execution_count": 6,
   "metadata": {
    "collapsed": true
   },
   "outputs": [],
   "source": [
    "def col_relabel(df, prefix, att=None):\n",
    "    '''\n",
    "    Remove: 'metadata.json.' and 'data.json.'.\n",
    "    Replace spaces with underscores.\n",
    "    Append new name to existing column name, except if externalId.\n",
    "    '''\n",
    "    new_cols = []\n",
    "    col_re = re.compile('metadata.json.|data.json.')\n",
    "    \n",
    "    \n",
    "    for col in df.columns:\n",
    "        new_col = re.sub(col_re, '', col)\n",
    "\n",
    "        if new_col != 'externalId':\n",
    "            if att:\n",
    "                if len(att) == 2:\n",
    "                    new_col = '{}_{}_{}_{}___{}'.format('SAGE', \n",
    "                                                        prefix, \n",
    "                                                        att[0], \n",
    "                                                        att[1], \n",
    "                                                        new_col\n",
    "                                                        )\n",
    "                else:\n",
    "                    new_col = '{}_{}_{}___{}'.format('SAGE', \n",
    "                                                     prefix, \n",
    "                                                     att[0], \n",
    "                                                     new_col\n",
    "                                                     )                \n",
    "            \n",
    "            else:\n",
    "                new_col = '{}_{}___{}'.format('SAGE', \n",
    "                                              prefix, \n",
    "                                              new_col\n",
    "                                              ) \n",
    "                                              \n",
    "        new_col = new_col.replace(' ', '_')\n",
    "        new_col = new_col.replace('-', '_')\n",
    "        new_cols.append(new_col)\n",
    "    \n",
    "    df.columns = new_cols\n",
    "    \n",
    "    return df"
   ]
  },
  {
   "cell_type": "code",
   "execution_count": 7,
   "metadata": {
    "collapsed": true
   },
   "outputs": [],
   "source": [
    "def create_df_name(string, end_string):\n",
    "    string = string.replace('digital-marshmallow-', '')\n",
    "    string = string.replace(end_string, '')\n",
    "    \n",
    "    return string      "
   ]
  },
  {
   "cell_type": "code",
   "execution_count": 8,
   "metadata": {
    "collapsed": true
   },
   "outputs": [],
   "source": [
    "def remove_dupes(df):\n",
    "    \n",
    "    test_users = [\n",
    "        'ThpMV2Achc', \n",
    "        'SEkQVTCe6j', \n",
    "        'Wh8NSX3DHL', \n",
    "        'SaXFr2kPZa', \n",
    "        'VWUcSp4TeH', \n",
    "        'yXEfAmW682', \n",
    "        'gwEpQR8j9B',\n",
    "        'WbbNWM4RAF', \n",
    "        'D5bzYrfd8E', \n",
    "        'LJcmEFWp74', \n",
    "        'ULoF3MM1nN'\n",
    "    ]\n",
    "\n",
    "    diff_study = [\n",
    "        'rL8eA3',\n",
    "        'rLg5xs',\n",
    "        'rLrD9h',\n",
    "        'rLP7H2',\n",
    "        'rL6s6h',\n",
    "        'aOyzBg',\n",
    "        'aORA43',\n",
    "        'aOh48U',\n",
    "        'aOLu4K',\n",
    "        'aOQtxv',\n",
    "        'aO5TvQ',\n",
    "        'mPC9S8',\n",
    "        'mPgquX',\n",
    "        'mP5xkB',\n",
    "        'mPSQvh',\n",
    "        'mPYk2p',\n",
    "        'mP3rbd'\n",
    "    ]\n",
    "\n",
    "    \n",
    "    return df[~df.externalId.isin(test_users + diff_study)]"
   ]
  },
  {
   "cell_type": "code",
   "execution_count": 9,
   "metadata": {},
   "outputs": [
    {
     "data": {
      "text/plain": [
       "['digital-marshmallow-morning_notification_time-v3_8.31.17.csv',\n",
       " 'digital-marshmallow-generally_sem_diff_bl-v2_8.31.17.csv',\n",
       " 'digital-marshmallow-bart-v4_8.31.17.csv',\n",
       " 'digital-marshmallow-past_year_likert_bl-v3_8.31.17.csv',\n",
       " 'digital-marshmallow-goNoGo-v2_8.31.17.csv',\n",
       " 'digital-marshmallow-morning_yesterday_sem_diff-v2_8.31.17.csv',\n",
       " 'digital-marshmallow-as_a_child_likert_bl-v2_8.31.17.csv',\n",
       " 'digital-marshmallow-delay_discounting_raw-v6_8.31.17.csv',\n",
       " 'digital-marshmallow-evening_sem_diff-v2_8.31.17.csv',\n",
       " 'digital-marshmallow-comments-v2_8.31.17.csv',\n",
       " 'digital-marshmallow-behavior_likert_21-v2_8.31.17.csv',\n",
       " 'digital-marshmallow-discounting_raw-v2_8.31.17.csv',\n",
       " 'digital-marshmallow-appVersion_8.31.17.csv',\n",
       " 'digital-marshmallow-morning_sem_diff-v2_8.31.17.csv',\n",
       " 'digital-marshmallow-past_year_likert_21-v2_8.31.17.csv',\n",
       " 'digital-marshmallow-pam-v2_8.31.17.csv',\n",
       " 'digital-marshmallow-morning_behavior_choices-v1_8.31.17.csv',\n",
       " 'digital-marshmallow-pam_multiple-v2_8.31.17.csv',\n",
       " 'digital-marshmallow-comments_21-v2_8.31.17.csv',\n",
       " 'digital-marshmallow-behavior_choices_4_bl-v2_8.31.17.csv',\n",
       " 'digital-marshmallow-evening_notification_time-v2_8.31.17.csv',\n",
       " 'digital-marshmallow-generally_sem_diff_21-v2_8.31.17.csv',\n",
       " 'digital-marshmallow-behavior_likert_bl-v2_8.31.17.csv',\n",
       " 'digital-marshmallow-morning_yesterday_likert-v2_8.31.17.csv',\n",
       " 'digital-marshmallow-behavior_choices_1_bl-v1_8.31.17.csv',\n",
       " 'digital-marshmallow-status_8.31.17.csv',\n",
       " 'digital-marshmallow-demographics-v2_8.31.17.csv']"
      ]
     },
     "execution_count": 9,
     "metadata": {},
     "output_type": "execute_result"
    }
   ],
   "source": [
    "os.listdir()"
   ]
  },
  {
   "cell_type": "code",
   "execution_count": 19,
   "metadata": {},
   "outputs": [
    {
     "data": {
      "text/plain": [
       "['digital-marshmallow-morning_notification_time-v3_8.31.17.csv']"
      ]
     },
     "execution_count": 19,
     "metadata": {},
     "output_type": "execute_result"
    }
   ],
   "source": [
    "_list = os.listdir()[0:1]\n",
    "_list"
   ]
  },
  {
   "cell_type": "code",
   "execution_count": 22,
   "metadata": {
    "collapsed": true
   },
   "outputs": [],
   "source": [
    "test = pd.read_csv(_list[0])\n",
    "test = remove_dupes(test)"
   ]
  },
  {
   "cell_type": "code",
   "execution_count": 24,
   "metadata": {},
   "outputs": [
    {
     "data": {
      "text/plain": [
       "False"
      ]
     },
     "execution_count": 24,
     "metadata": {},
     "output_type": "execute_result"
    }
   ],
   "source": [
    "len(test.externalId) == len(set(test.externalId))"
   ]
  },
  {
   "cell_type": "code",
   "execution_count": 28,
   "metadata": {},
   "outputs": [
    {
     "data": {
      "text/plain": [
       "136"
      ]
     },
     "execution_count": 28,
     "metadata": {},
     "output_type": "execute_result"
    }
   ],
   "source": [
    "len(test.externalId)"
   ]
  },
  {
   "cell_type": "code",
   "execution_count": 29,
   "metadata": {},
   "outputs": [
    {
     "data": {
      "text/plain": [
       "20     False\n",
       "21     False\n",
       "22     False\n",
       "23     False\n",
       "24     False\n",
       "25     False\n",
       "26     False\n",
       "27     False\n",
       "28     False\n",
       "29     False\n",
       "30      True\n",
       "31     False\n",
       "32     False\n",
       "33     False\n",
       "35     False\n",
       "36     False\n",
       "37      True\n",
       "38     False\n",
       "39     False\n",
       "40     False\n",
       "41     False\n",
       "42     False\n",
       "43     False\n",
       "44     False\n",
       "45     False\n",
       "46     False\n",
       "47      True\n",
       "48      True\n",
       "49     False\n",
       "50     False\n",
       "       ...  \n",
       "144     True\n",
       "145     True\n",
       "146     True\n",
       "147     True\n",
       "148     True\n",
       "149     True\n",
       "150     True\n",
       "152     True\n",
       "153     True\n",
       "154     True\n",
       "155     True\n",
       "157     True\n",
       "158     True\n",
       "159     True\n",
       "160     True\n",
       "161     True\n",
       "162     True\n",
       "163     True\n",
       "164     True\n",
       "165     True\n",
       "166     True\n",
       "171    False\n",
       "172     True\n",
       "173    False\n",
       "174    False\n",
       "175     True\n",
       "176     True\n",
       "177     True\n",
       "178     True\n",
       "182    False\n",
       "Name: externalId, dtype: bool"
      ]
     },
     "execution_count": 29,
     "metadata": {},
     "output_type": "execute_result"
    }
   ],
   "source": [
    "test.externalId.duplicated()"
   ]
  },
  {
   "cell_type": "code",
   "execution_count": 27,
   "metadata": {},
   "outputs": [
    {
     "data": {
      "text/plain": [
       "136"
      ]
     },
     "execution_count": 27,
     "metadata": {},
     "output_type": "execute_result"
    }
   ],
   "source": [
    "len((test.externalId.duplicated()))"
   ]
  },
  {
   "cell_type": "code",
   "execution_count": 30,
   "metadata": {},
   "outputs": [
    {
     "data": {
      "text/plain": [
       "20     GpRu74\n",
       "21     Dwr9Wq\n",
       "22     gSWn9N\n",
       "23     4chdWY\n",
       "24     uS9Yn3\n",
       "25     up3ALb\n",
       "26     6fjRmX\n",
       "27     Uusd4p\n",
       "28     fG7hUR\n",
       "29     zqjJ2m\n",
       "30     uS9Yn3\n",
       "31     3MhSZ8\n",
       "32     4s9KFs\n",
       "33     ksJM3Y\n",
       "35     UXR4bY\n",
       "36     3YSsRf\n",
       "37     ksJM3Y\n",
       "38     V9Yycg\n",
       "39     kT6Rjc\n",
       "40     tKr2P3\n",
       "41     Jc7DYR\n",
       "42     7f7Gx2\n",
       "43     nx7zFF\n",
       "44     8zVXXt\n",
       "45     8sWLxd\n",
       "46     rKAU4r\n",
       "47     8sWLxd\n",
       "48     tKr2P3\n",
       "49     L67rRS\n",
       "50     h9XRjL\n",
       "        ...  \n",
       "144    Wh4HL2\n",
       "145    nMMw8W\n",
       "146    nMMw8W\n",
       "147    nMMw8W\n",
       "148    nMMw8W\n",
       "149    nMMw8W\n",
       "150    nMMw8W\n",
       "152    nMMw8W\n",
       "153    nMMw8W\n",
       "154    nMMw8W\n",
       "155    nMMw8W\n",
       "157    nMMw8W\n",
       "158    nMMw8W\n",
       "159    nMMw8W\n",
       "160    65CanL\n",
       "161    nMMw8W\n",
       "162    65CanL\n",
       "163    cAr3x9\n",
       "164    nMMw8W\n",
       "165    nMMw8W\n",
       "166    nMMw8W\n",
       "171    m2L8ka\n",
       "172    nMMw8W\n",
       "173    KSzr5A\n",
       "174    bWr8MN\n",
       "175    nMMw8W\n",
       "176    nMMw8W\n",
       "177    nMMw8W\n",
       "178    nMMw8W\n",
       "182    bdyP3M\n",
       "Name: externalId, dtype: object"
      ]
     },
     "execution_count": 30,
     "metadata": {},
     "output_type": "execute_result"
    }
   ],
   "source": [
    "test.externalId"
   ]
  },
  {
   "cell_type": "code",
   "execution_count": 20,
   "metadata": {
    "collapsed": true,
    "scrolled": true
   },
   "outputs": [],
   "source": [
    "test = parse_directory(_list, files_to_exclude, end_string)"
   ]
  },
  {
   "cell_type": "code",
   "execution_count": 21,
   "metadata": {
    "scrolled": true
   },
   "outputs": [
    {
     "data": {
      "text/html": [
       "<div>\n",
       "<table border=\"1\" class=\"dataframe\">\n",
       "  <thead>\n",
       "    <tr style=\"text-align: right;\">\n",
       "      <th></th>\n",
       "      <th>SAGE_morning_notification_time_v3_b___ROW_ID</th>\n",
       "      <th>SAGE_morning_notification_time_v3_b___ROW_VERSION</th>\n",
       "      <th>SAGE_morning_notification_time_v3_b___recordId</th>\n",
       "      <th>SAGE_morning_notification_time_v3_b___appVersion</th>\n",
       "      <th>SAGE_morning_notification_time_v3_b___phoneInfo</th>\n",
       "      <th>SAGE_morning_notification_time_v3_b___uploadDate</th>\n",
       "      <th>SAGE_morning_notification_time_v3_b___healthCode</th>\n",
       "      <th>externalId</th>\n",
       "      <th>SAGE_morning_notification_time_v3_b___dataGroups</th>\n",
       "      <th>SAGE_morning_notification_time_v3_b___createdOn</th>\n",
       "      <th>SAGE_morning_notification_time_v3_b___createdOnTimeZone</th>\n",
       "      <th>SAGE_morning_notification_time_v3_b___userSharingScope</th>\n",
       "      <th>SAGE_morning_notification_time_v3_b___UUID</th>\n",
       "      <th>SAGE_morning_notification_time_v3_b___taskIdentifier</th>\n",
       "      <th>SAGE_morning_notification_time_v3_b___taskRunUUID</th>\n",
       "      <th>SAGE_morning_notification_time_v3_b___startDate</th>\n",
       "      <th>SAGE_morning_notification_time_v3_b___startDate.timezone</th>\n",
       "      <th>SAGE_morning_notification_time_v3_b___endDate</th>\n",
       "      <th>SAGE_morning_notification_time_v3_b___endDate.timezone</th>\n",
       "      <th>SAGE_morning_notification_time_v3_b___groupLabel</th>\n",
       "      <th>SAGE_morning_notification_time_v3_b___notification_time</th>\n",
       "    </tr>\n",
       "  </thead>\n",
       "  <tbody>\n",
       "  </tbody>\n",
       "</table>\n",
       "</div>"
      ],
      "text/plain": [
       "Empty DataFrame\n",
       "Columns: [SAGE_morning_notification_time_v3_b___ROW_ID, SAGE_morning_notification_time_v3_b___ROW_VERSION, SAGE_morning_notification_time_v3_b___recordId, SAGE_morning_notification_time_v3_b___appVersion, SAGE_morning_notification_time_v3_b___phoneInfo, SAGE_morning_notification_time_v3_b___uploadDate, SAGE_morning_notification_time_v3_b___healthCode, externalId, SAGE_morning_notification_time_v3_b___dataGroups, SAGE_morning_notification_time_v3_b___createdOn, SAGE_morning_notification_time_v3_b___createdOnTimeZone, SAGE_morning_notification_time_v3_b___userSharingScope, SAGE_morning_notification_time_v3_b___UUID, SAGE_morning_notification_time_v3_b___taskIdentifier, SAGE_morning_notification_time_v3_b___taskRunUUID, SAGE_morning_notification_time_v3_b___startDate, SAGE_morning_notification_time_v3_b___startDate.timezone, SAGE_morning_notification_time_v3_b___endDate, SAGE_morning_notification_time_v3_b___endDate.timezone, SAGE_morning_notification_time_v3_b___groupLabel, SAGE_morning_notification_time_v3_b___notification_time]\n",
       "Index: []"
      ]
     },
     "execution_count": 21,
     "metadata": {},
     "output_type": "execute_result"
    }
   ],
   "source": [
    "test"
   ]
  }
 ],
 "metadata": {
  "kernelspec": {
   "display_name": "Python 3",
   "language": "python",
   "name": "python3"
  },
  "language_info": {
   "codemirror_mode": {
    "name": "ipython",
    "version": 3
   },
   "file_extension": ".py",
   "mimetype": "text/x-python",
   "name": "python",
   "nbconvert_exporter": "python",
   "pygments_lexer": "ipython3",
   "version": "3.5.2"
  }
 },
 "nbformat": 4,
 "nbformat_minor": 2
}
